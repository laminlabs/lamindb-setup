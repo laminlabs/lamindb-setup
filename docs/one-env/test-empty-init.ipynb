{
 "cells": [
  {
   "cell_type": "markdown",
   "id": "20066735",
   "metadata": {},
   "source": [
    "# Test initialization in empty s3 bucket"
   ]
  },
  {
   "cell_type": "code",
   "execution_count": null,
   "id": "35db7a1b",
   "metadata": {},
   "outputs": [],
   "source": [
    "import lamindb_setup as ln_setup\n",
    "from lamindb_setup.dev.upath import UPath"
   ]
  },
  {
   "cell_type": "code",
   "execution_count": null,
   "id": "a4553515",
   "metadata": {},
   "outputs": [],
   "source": [
    "root_str = \"s3://lamindb-setup-ci-empty-bucket\"\n",
    "root_path = UPath(root_str, cache_regions=True)"
   ]
  },
  {
   "cell_type": "code",
   "execution_count": null,
   "id": "df6e2146",
   "metadata": {},
   "outputs": [],
   "source": [
    "for s in root_path.iterdir():\n",
    "    if s.is_file():\n",
    "        s.unlink()\n",
    "    elif s.is_dir():\n",
    "        s.rmdir()"
   ]
  },
  {
   "cell_type": "code",
   "execution_count": null,
   "id": "19a330ad",
   "metadata": {},
   "outputs": [],
   "source": [
    "assert list(root_path.iterdir()) == []"
   ]
  },
  {
   "cell_type": "code",
   "execution_count": null,
   "id": "81507d85",
   "metadata": {},
   "outputs": [],
   "source": [
    "ln_setup.init(storage=root_str)"
   ]
  },
  {
   "cell_type": "code",
   "execution_count": null,
   "id": "544dbae3",
   "metadata": {},
   "outputs": [],
   "source": [
    "assert ln_setup.settings.storage.is_cloud\n",
    "assert ln_setup.settings.storage.root_as_str == root_str\n",
    "assert ln_setup.settings.storage.region == \"us-east-1\"\n",
    "assert (\n",
    "    str(ln_setup.settings.instance._sqlite_file)\n",
    "    == f\"{root_str}/lamindb-setup-ci-empty-bucket.lndb\"\n",
    ")"
   ]
  },
  {
   "cell_type": "code",
   "execution_count": null,
   "id": "a339197a",
   "metadata": {},
   "outputs": [],
   "source": [
    "ln_setup.delete(\"lamindb-setup-ci-empty-bucket\", force=True)"
   ]
  },
  {
   "cell_type": "code",
   "execution_count": null,
   "id": "77859588",
   "metadata": {},
   "outputs": [],
   "source": [
    "for s in root_path.iterdir():\n",
    "    if s.is_file():\n",
    "        s.unlink()\n",
    "    elif s.is_dir():\n",
    "        s.rmdir()"
   ]
  }
 ],
 "metadata": {
  "kernelspec": {
   "display_name": "Python 3 (ipykernel)",
   "language": "python",
   "name": "python3"
  },
  "language_info": {
   "codemirror_mode": {
    "name": "ipython",
    "version": 3
   },
   "file_extension": ".py",
   "mimetype": "text/x-python",
   "name": "python",
   "nbconvert_exporter": "python",
   "pygments_lexer": "ipython3",
   "version": "3.9.17"
  }
 },
 "nbformat": 4,
 "nbformat_minor": 5
}
