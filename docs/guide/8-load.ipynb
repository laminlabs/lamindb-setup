{
 "cells": [
  {
   "cell_type": "markdown",
   "id": "b43d09d5-26d3-440d-b334-9643ec5248e6",
   "metadata": {
    "tags": []
   },
   "source": [
    "# Test load"
   ]
  },
  {
   "cell_type": "code",
   "execution_count": null,
   "id": "33c2bb76-d61f-4866-87e2-780e61600022",
   "metadata": {},
   "outputs": [],
   "source": [
    "from lndb_setup import load, init, settings\n",
    "from lndb_setup._clone import setup_local_test_postgres\n",
    "from lndb_setup._settings_store import instance_settings_file\n",
    "import shutil\n",
    "import pytest"
   ]
  },
  {
   "cell_type": "markdown",
   "id": "914af9a6",
   "metadata": {},
   "source": [
    "## Load instance from a specific owner"
   ]
  },
  {
   "cell_type": "markdown",
   "id": "25a13298",
   "metadata": {},
   "source": [
    "Running \n",
    "```\n",
    "lndb load mydata --owner testuser1\n",
    "```\n",
    "\n",
    "on the command line runs the following:"
   ]
  },
  {
   "cell_type": "code",
   "execution_count": null,
   "id": "8436575d",
   "metadata": {},
   "outputs": [],
   "source": [
    "load(\"mydata\", \"testuser1\")"
   ]
  },
  {
   "cell_type": "markdown",
   "id": "0986a5f3",
   "metadata": {},
   "source": [
    "## Load instance with wrong owner"
   ]
  },
  {
   "cell_type": "code",
   "execution_count": null,
   "id": "bc3568ae",
   "metadata": {},
   "outputs": [],
   "source": [
    "assert load(\"pgtest\", \"testuser2\") == \"instance-does-not-exists\""
   ]
  },
  {
   "attachments": {},
   "cell_type": "markdown",
   "id": "354e8ce4",
   "metadata": {},
   "source": [
    "## Load instance that does not exists locally"
   ]
  },
  {
   "cell_type": "code",
   "execution_count": null,
   "id": "d99ba54b",
   "metadata": {},
   "outputs": [],
   "source": [
    "init(storage=\"s3://lndb-setup-ci\")"
   ]
  },
  {
   "attachments": {},
   "cell_type": "markdown",
   "id": "b2755bb3",
   "metadata": {},
   "source": [
    "Let's start by deleting settings file to make it as if the instance wasn't created locally:"
   ]
  },
  {
   "cell_type": "code",
   "execution_count": null,
   "id": "65502425",
   "metadata": {},
   "outputs": [],
   "source": [
    "instance_settings_file(\"lndb-setup-ci\", \"testuser1\").unlink()"
   ]
  },
  {
   "attachments": {},
   "cell_type": "markdown",
   "id": "1f9cff4f",
   "metadata": {},
   "source": [
    "We can now load the instance fromt the hub:"
   ]
  },
  {
   "cell_type": "code",
   "execution_count": null,
   "id": "f2329027",
   "metadata": {},
   "outputs": [],
   "source": [
    "load(\"lndb-setup-ci\")"
   ]
  },
  {
   "cell_type": "markdown",
   "id": "6c4c2cf7",
   "metadata": {},
   "source": [
    "## Load instance that does not exists locally (with local storage)"
   ]
  },
  {
   "attachments": {},
   "cell_type": "markdown",
   "id": "4219bcfa",
   "metadata": {},
   "source": [
    "It's not possible to load an instance from the hub if it's using a local defalt storage."
   ]
  },
  {
   "cell_type": "code",
   "execution_count": null,
   "id": "39108ef1",
   "metadata": {},
   "outputs": [],
   "source": [
    "init(storage=\"local_storage_instance\")"
   ]
  },
  {
   "cell_type": "code",
   "execution_count": null,
   "id": "c07f2211",
   "metadata": {},
   "outputs": [],
   "source": [
    "instance_settings_file(\"local_storage_instance\", \"testuser1\").unlink()"
   ]
  },
  {
   "cell_type": "code",
   "execution_count": null,
   "id": "f76e6f2c",
   "metadata": {},
   "outputs": [],
   "source": [
    "assert load(\"local_storage_instance\") == \"instance-does-not-exists\""
   ]
  },
  {
   "cell_type": "markdown",
   "id": "9708e9eb",
   "metadata": {},
   "source": [
    "## Load instance that does not exists locally (with local postgres)"
   ]
  },
  {
   "attachments": {},
   "cell_type": "markdown",
   "id": "82d76b4a",
   "metadata": {},
   "source": [
    "It's not possible to load an instance from the hub if it's using a local db."
   ]
  },
  {
   "cell_type": "code",
   "execution_count": null,
   "id": "bfab1cee",
   "metadata": {},
   "outputs": [],
   "source": [
    "pgurl = setup_local_test_postgres(\"pgtest_remote_storage\")\n",
    "init(\n",
    "    storage=\"s3://lndb-setup-ci-pgtest-remote\", url=pgurl, name=\"pgtest_remote_storage\"\n",
    ")"
   ]
  },
  {
   "cell_type": "code",
   "execution_count": null,
   "id": "302277e8",
   "metadata": {},
   "outputs": [],
   "source": [
    "instance_settings_file(\"pgtest_remote_storage\", \"testuser1\").unlink()"
   ]
  },
  {
   "cell_type": "code",
   "execution_count": null,
   "id": "acd0a7cb",
   "metadata": {},
   "outputs": [],
   "source": [
    "assert load(\"pgtest_remote_storage\") == \"instance-does-not-exists\""
   ]
  },
  {
   "cell_type": "code",
   "execution_count": null,
   "id": "e7aa43bb",
   "metadata": {},
   "outputs": [],
   "source": [
    "!docker stop pgtest_remote_storage && docker rm pgtest_remote_storage"
   ]
  }
 ],
 "metadata": {
  "kernelspec": {
   "display_name": "Python 3 (ipykernel)",
   "language": "python",
   "name": "python3"
  },
  "language_info": {
   "codemirror_mode": {
    "name": "ipython",
    "version": 3
   },
   "file_extension": ".py",
   "mimetype": "text/x-python",
   "name": "python",
   "nbconvert_exporter": "python",
   "pygments_lexer": "ipython3",
   "version": "3.9.12"
  },
  "vscode": {
   "interpreter": {
    "hash": "2841734f87827db3a7b3181a6051fe720e9968e703956c2bd6988b5a29362801"
   }
  }
 },
 "nbformat": 4,
 "nbformat_minor": 5
}
