{
 "cells": [
  {
   "cell_type": "markdown",
   "id": "b43d09d5-26d3-440d-b334-9643ec5248e6",
   "metadata": {
    "tags": []
   },
   "source": [
    "# Test migrations"
   ]
  },
  {
   "cell_type": "markdown",
   "id": "4ea316d0-52f8-41d9-94ef-007cb2a22397",
   "metadata": {},
   "source": [
    "TODO: Need to add the unit tests, here, too."
   ]
  },
  {
   "cell_type": "code",
   "execution_count": null,
   "id": "33c2bb76-d61f-4866-87e2-780e61600022",
   "metadata": {},
   "outputs": [],
   "source": [
    "from lndb import init\n",
    "from lndb.test import migrate_clones\n",
    "from lndb._clone import setup_local_test_postgres"
   ]
  },
  {
   "cell_type": "markdown",
   "id": "119134fc-1362-4b6f-85e9-d65e5ab091cf",
   "metadata": {},
   "source": [
    "## SQLite"
   ]
  },
  {
   "cell_type": "code",
   "execution_count": null,
   "id": "f1f43b5a-59ca-419a-8ed1-9672f2ff2025",
   "metadata": {},
   "outputs": [],
   "source": [
    "migrate_clones(\"lnschema_core\", n_instances=1, dialect_name=\"sqlite\")"
   ]
  },
  {
   "cell_type": "markdown",
   "id": "e53c8996-73a1-4c5f-b54f-4ea9ea117702",
   "metadata": {},
   "source": [
    "## Postgres"
   ]
  },
  {
   "cell_type": "code",
   "execution_count": null,
   "id": "58c449e1-74e3-46b4-9361-343802fc1841",
   "metadata": {},
   "outputs": [],
   "source": [
    "migrate_clones(\"lnschema_core\", n_instances=1, dialect_name=\"postgresql\")"
   ]
  },
  {
   "cell_type": "markdown",
   "id": "4a6e77cd-d7a3-465e-9858-7a1838ac8c69",
   "metadata": {},
   "source": [
    "Here, we test that we can switch back from a postgres instance (to test `reload_orms`):"
   ]
  },
  {
   "cell_type": "code",
   "execution_count": null,
   "id": "9c825633",
   "metadata": {},
   "outputs": [],
   "source": [
    "pgurl = setup_local_test_postgres()"
   ]
  },
  {
   "cell_type": "code",
   "execution_count": null,
   "id": "8a4b67c7-2055-455e-b89b-d70360012feb",
   "metadata": {},
   "outputs": [],
   "source": [
    "init(storage=\"pgtest\")"
   ]
  },
  {
   "cell_type": "code",
   "execution_count": null,
   "id": "5582561d",
   "metadata": {},
   "outputs": [],
   "source": [
    "!docker stop pgtest && docker rm pgtest"
   ]
  }
 ],
 "metadata": {
  "kernelspec": {
   "display_name": "Python 3 (ipykernel)",
   "language": "python",
   "name": "python3"
  },
  "language_info": {
   "codemirror_mode": {
    "name": "ipython",
    "version": 3
   },
   "file_extension": ".py",
   "mimetype": "text/x-python",
   "name": "python",
   "nbconvert_exporter": "python",
   "pygments_lexer": "ipython3",
   "version": "3.9.12"
  },
  "vscode": {
   "interpreter": {
    "hash": "2841734f87827db3a7b3181a6051fe720e9968e703956c2bd6988b5a29362801"
   }
  }
 },
 "nbformat": 4,
 "nbformat_minor": 5
}
