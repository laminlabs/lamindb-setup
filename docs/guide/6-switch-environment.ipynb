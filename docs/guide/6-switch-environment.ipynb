{
 "cells": [
  {
   "cell_type": "markdown",
   "id": "b43d09d5-26d3-440d-b334-9643ec5248e6",
   "metadata": {
    "tags": []
   },
   "source": [
    "# Test switch environment"
   ]
  },
  {
   "cell_type": "code",
   "execution_count": null,
   "id": "33c2bb76-d61f-4866-87e2-780e61600022",
   "metadata": {},
   "outputs": [],
   "source": [
    "from lndb_setup import settings, signup, init, login\n",
    "from lndb_setup._settings_load import load_instance_settings\n",
    "import os"
   ]
  },
  {
   "cell_type": "code",
   "execution_count": null,
   "id": "a9cbc2b8",
   "metadata": {},
   "outputs": [],
   "source": [
    "login(\"testuser1@lamin.ai\")\n",
    "init(storage=\"mydata_prod\", dbconfig=\"sqlite\")\n",
    "\n",
    "user_access_token_prod = settings.user.access_token"
   ]
  },
  {
   "cell_type": "code",
   "execution_count": null,
   "id": "a5e8a0a6",
   "metadata": {},
   "outputs": [],
   "source": [
    "os.environ[\"LAMIN_ENV\"] = \"dev\"\n",
    "\n",
    "login(\"testuser1@lamin.ai\", password=\"BCRRvPjzjnEW4z0Sg4ecB474CEdOeFNWG5OgTnsO\")\n",
    "init(storage=\"mydata_dev\", dbconfig=\"sqlite\")\n",
    "\n",
    "user_access_token_dev = settings.user.access_token"
   ]
  },
  {
   "cell_type": "code",
   "execution_count": null,
   "id": "6c948145",
   "metadata": {},
   "outputs": [],
   "source": [
    "os.environ[\"LAMIN_ENV\"] = \"test\"\n",
    "\n",
    "login(\"testuser1@lamin.ai\", password=\"eEVoyRJgpr2JHtzf4sYc7lm38ZMsEX4BBqbFnlkS\")\n",
    "init(storage=\"mydata_test\", dbconfig=\"sqlite\")\n",
    "\n",
    "user_access_token_test = settings.user.access_token"
   ]
  },
  {
   "cell_type": "code",
   "execution_count": null,
   "id": "f63669d8",
   "metadata": {},
   "outputs": [],
   "source": [
    "os.environ[\"LAMIN_ENV\"] = \"prod\"\n",
    "\n",
    "settings.instance.name == \"mydata_prod\"\n",
    "settings.user.access_token == user_access_token_prod"
   ]
  },
  {
   "cell_type": "code",
   "execution_count": null,
   "id": "87f37005",
   "metadata": {},
   "outputs": [],
   "source": [
    "os.environ[\"LAMIN_ENV\"] = \"dev\"\n",
    "\n",
    "settings.instance.name == \"mydata_dev\"\n",
    "settings.user.access_token == user_access_token_dev"
   ]
  },
  {
   "cell_type": "code",
   "execution_count": null,
   "id": "db95be8e",
   "metadata": {},
   "outputs": [],
   "source": [
    "os.environ[\"LAMIN_ENV\"] = \"test\"\n",
    "\n",
    "settings.instance.name == \"mydata_test\"\n",
    "settings.user.access_token == user_access_token_test"
   ]
  }
 ],
 "metadata": {
  "kernelspec": {
   "display_name": "Python 3.9.12 ('base')",
   "language": "python",
   "name": "python3"
  },
  "language_info": {
   "codemirror_mode": {
    "name": "ipython",
    "version": 3
   },
   "file_extension": ".py",
   "mimetype": "text/x-python",
   "name": "python",
   "nbconvert_exporter": "python",
   "pygments_lexer": "ipython3",
   "version": "3.9.12"
  },
  "vscode": {
   "interpreter": {
    "hash": "2841734f87827db3a7b3181a6051fe720e9968e703956c2bd6988b5a29362801"
   }
  }
 },
 "nbformat": 4,
 "nbformat_minor": 5
}
