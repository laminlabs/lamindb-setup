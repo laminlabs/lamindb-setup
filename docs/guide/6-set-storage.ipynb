{
 "cells": [
  {
   "cell_type": "markdown",
   "id": "b43d09d5-26d3-440d-b334-9643ec5248e6",
   "metadata": {
    "tags": []
   },
   "source": [
    "# Test set storage"
   ]
  },
  {
   "cell_type": "code",
   "execution_count": null,
   "id": "33c2bb76-d61f-4866-87e2-780e61600022",
   "metadata": {},
   "outputs": [],
   "source": [
    "from lndb_setup import settings, load, init\n",
    "from lndb_setup import set_storage\n",
    "from lndb_setup._clone import setup_local_test_postgres\n",
    "from pathlib import Path"
   ]
  },
  {
   "cell_type": "markdown",
   "id": "a7cf42fb",
   "metadata": {},
   "source": [
    "## Set storage for PostgreSQL instance"
   ]
  },
  {
   "cell_type": "code",
   "execution_count": null,
   "id": "d6b0bd5e",
   "metadata": {},
   "outputs": [],
   "source": [
    "pgurl = setup_local_test_postgres()\n",
    "init(storage=\"mydatapg_2\", url=pgurl, name=\"pgtest_2\")"
   ]
  },
  {
   "cell_type": "markdown",
   "id": "ceb57cc9",
   "metadata": {},
   "source": [
    "Running \n",
    "```\n",
    "lndb set --storage mydatapg_2_storage_2\n",
    "```\n",
    "\n",
    "on the command line runs the following:"
   ]
  },
  {
   "cell_type": "code",
   "execution_count": null,
   "id": "49b9ef11",
   "metadata": {},
   "outputs": [],
   "source": [
    "set_storage(\"mydatapg_2_storage_2\")"
   ]
  },
  {
   "cell_type": "code",
   "execution_count": null,
   "id": "8e481aa0",
   "metadata": {},
   "outputs": [],
   "source": [
    "assert settings.instance.cloud_storage == False\n",
    "assert settings.instance.name == \"pgtest_2\"\n",
    "assert settings.instance.storage_root.as_posix() == f\"{Path.cwd()}/mydatapg_2_storage_2\"\n",
    "assert settings.instance.cache_dir is None\n",
    "assert settings.instance.db == pgurl"
   ]
  },
  {
   "cell_type": "markdown",
   "id": "25a13298",
   "metadata": {},
   "source": [
    "Running \n",
    "```\n",
    "lndb set --storage s3://lndb-setup-ci\n",
    "```\n",
    "\n",
    "on the command line runs the following:"
   ]
  },
  {
   "cell_type": "code",
   "execution_count": null,
   "id": "8436575d",
   "metadata": {},
   "outputs": [],
   "source": [
    "set_storage(\"s3://lndb-setup-ci\")"
   ]
  },
  {
   "cell_type": "code",
   "execution_count": null,
   "id": "d2934990",
   "metadata": {},
   "outputs": [],
   "source": [
    "assert settings.instance.cloud_storage == True\n",
    "assert settings.instance.name == \"pgtest_2\"\n",
    "assert str(settings.instance.storage_root) == \"s3://lndb-setup-ci\"\n",
    "assert settings.instance.db == pgurl"
   ]
  },
  {
   "cell_type": "markdown",
   "id": "3fb6a223",
   "metadata": {},
   "source": [
    "## Set storage fo SQLite instance"
   ]
  },
  {
   "cell_type": "markdown",
   "id": "6ccb6573",
   "metadata": {},
   "source": [
    "If the user tries to set the storage for an sqlite instance, an error message is raised:"
   ]
  },
  {
   "cell_type": "code",
   "execution_count": null,
   "id": "f988a386",
   "metadata": {},
   "outputs": [],
   "source": [
    "load(\"mydata\")"
   ]
  },
  {
   "cell_type": "code",
   "execution_count": null,
   "id": "aaa72335",
   "metadata": {},
   "outputs": [],
   "source": [
    "!lndb set --storage mydata_storage_2"
   ]
  },
  {
   "cell_type": "code",
   "execution_count": null,
   "id": "e4f2545f",
   "metadata": {},
   "outputs": [],
   "source": [
    "assert set_storage(\"mydata_storage_2\") == \"set-storage-failed\""
   ]
  }
 ],
 "metadata": {
  "kernelspec": {
   "display_name": "Python 3 (ipykernel)",
   "language": "python",
   "name": "python3"
  },
  "language_info": {
   "codemirror_mode": {
    "name": "ipython",
    "version": 3
   },
   "file_extension": ".py",
   "mimetype": "text/x-python",
   "name": "python",
   "nbconvert_exporter": "python",
   "pygments_lexer": "ipython3",
   "version": "3.9.12"
  },
  "vscode": {
   "interpreter": {
    "hash": "2841734f87827db3a7b3181a6051fe720e9968e703956c2bd6988b5a29362801"
   }
  }
 },
 "nbformat": 4,
 "nbformat_minor": 5
}
