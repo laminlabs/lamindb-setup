{
 "cells": [
  {
   "attachments": {},
   "cell_type": "markdown",
   "id": "b43d09d5-26d3-440d-b334-9643ec5248e6",
   "metadata": {
    "tags": []
   },
   "source": [
    "# Load & close an instance"
   ]
  },
  {
   "cell_type": "code",
   "execution_count": null,
   "id": "5fd65a65-5c34-462e-a980-a5aed1a2713f",
   "metadata": {},
   "outputs": [],
   "source": [
    "!lamin close"
   ]
  },
  {
   "cell_type": "code",
   "execution_count": null,
   "id": "33c2bb76-d61f-4866-87e2-780e61600022",
   "metadata": {},
   "outputs": [],
   "source": [
    "from pathlib import Path\n",
    "import pytest\n",
    "import lamindb as ln\n",
    "from lamindb.setup import settings\n",
    "from lndb.dev._settings_store import instance_settings_file"
   ]
  },
  {
   "attachments": {},
   "cell_type": "markdown",
   "id": "1be836bb",
   "metadata": {},
   "source": [
    "## Load your own instance by name"
   ]
  },
  {
   "attachments": {},
   "cell_type": "markdown",
   "id": "a5c94e19",
   "metadata": {},
   "source": [
    "If the user is the instance owner, just load the instance by name:"
   ]
  },
  {
   "cell_type": "code",
   "execution_count": null,
   "id": "e7ecc665",
   "metadata": {},
   "outputs": [],
   "source": [
    "ln.setup.load(\"mydata\")  # CLI: lamin load mydata"
   ]
  },
  {
   "cell_type": "code",
   "execution_count": null,
   "id": "2276e0be",
   "metadata": {
    "tags": [
     "hide-cell"
    ]
   },
   "outputs": [],
   "source": [
    "assert settings.instance.storage.is_cloud == False\n",
    "assert settings.instance.name == \"mydata\"\n",
    "assert (\n",
    "    settings.instance.storage.root.as_posix() == Path(\"./mydata\").resolve().as_posix()\n",
    ")\n",
    "assert settings.instance.storage.cache_dir is None\n",
    "assert (\n",
    "    settings.instance.db\n",
    "    == f\"sqlite:///{Path('./mydata').resolve().as_posix()}/mydata.lndb\"\n",
    ")"
   ]
  },
  {
   "cell_type": "code",
   "execution_count": null,
   "id": "ac0d2b30",
   "metadata": {
    "tags": [
     "hide-cell"
    ]
   },
   "outputs": [],
   "source": [
    "# assume we move the storage location\n",
    "!mv mydata mydata_new_loc\n",
    "with pytest.raises(\n",
    "    RuntimeError\n",
    "):  # triggers because it does not find the SQLite file anymore\n",
    "    ln.setup.load(\"mydata\")\n",
    "# now account for the new storage location\n",
    "ln.setup.load(\"mydata\", storage=\"./mydata_new_loc\")\n",
    "assert (\n",
    "    settings.instance.storage.root.as_posix()\n",
    "    == Path(\"./mydata_new_loc\").resolve().as_posix()\n",
    ")\n",
    "assert settings.instance.storage.cache_dir is None\n",
    "assert (\n",
    "    settings.instance.db\n",
    "    == f\"sqlite:///{Path('./mydata_new_loc').resolve().as_posix()}/mydata.lndb\"\n",
    ")"
   ]
  },
  {
   "cell_type": "code",
   "execution_count": null,
   "id": "4f179b5b",
   "metadata": {
    "tags": [
     "hide-cell"
    ]
   },
   "outputs": [],
   "source": [
    "# another test case, this time with a manually configured instance name\n",
    "ln.setup.load(\"pgtest-registered\")\n",
    "assert settings.instance.storage.is_cloud == True\n",
    "assert settings.instance.name == \"pgtest-registered\"\n",
    "assert settings.instance.storage.root_as_str == \"s3://lndb-setup-ci\""
   ]
  },
  {
   "attachments": {},
   "cell_type": "markdown",
   "id": "3f47a1d4",
   "metadata": {},
   "source": [
    "This also works for remote instances:"
   ]
  },
  {
   "cell_type": "code",
   "execution_count": null,
   "id": "7c9698f9",
   "metadata": {
    "tags": [
     "hide-cell"
    ]
   },
   "outputs": [],
   "source": [
    "# ensure that the locally cached env file is deleted\n",
    "instance_settings_file(\"lndb-setup-ci\", \"testuser1\").unlink()"
   ]
  },
  {
   "cell_type": "code",
   "execution_count": null,
   "id": "089a3832",
   "metadata": {},
   "outputs": [],
   "source": [
    "ln.setup.load(\"lndb-setup-ci\")  # lamin load lndb-setup-ci"
   ]
  },
  {
   "cell_type": "code",
   "execution_count": null,
   "id": "1ebd784f",
   "metadata": {
    "tags": [
     "hide-cell"
    ]
   },
   "outputs": [],
   "source": [
    "assert settings.instance.storage.is_cloud == True\n",
    "assert settings.instance.storage.root_as_str == \"s3://lndb-setup-ci\"\n",
    "assert (\n",
    "    settings.instance._sqlite_file.as_posix() == \"s3://lndb-setup-ci/lndb-setup-ci.lndb\"\n",
    ")"
   ]
  },
  {
   "attachments": {},
   "cell_type": "markdown",
   "id": "914af9a6",
   "metadata": {},
   "source": [
    "## Load an instance from another owner"
   ]
  },
  {
   "attachments": {},
   "cell_type": "markdown",
   "id": "65ab467e",
   "metadata": {},
   "source": [
    "If you have the permission, you can load an instance from another owner. "
   ]
  },
  {
   "cell_type": "code",
   "execution_count": null,
   "id": "8436575d",
   "metadata": {},
   "outputs": [],
   "source": [
    "ln.setup.load(\"testuser1/mydata\")  # lamin load \"testuser1/mydata\""
   ]
  },
  {
   "attachments": {},
   "cell_type": "markdown",
   "id": "0986a5f3",
   "metadata": {},
   "source": [
    "Load an instance from wrong owner."
   ]
  },
  {
   "cell_type": "code",
   "execution_count": null,
   "id": "bc3568ae",
   "metadata": {},
   "outputs": [],
   "source": [
    "assert ln.setup.load(\"testuser2/mydata\") == \"instance-not-reachable\""
   ]
  },
  {
   "attachments": {},
   "cell_type": "markdown",
   "id": "e3701120",
   "metadata": {},
   "source": [
    "## Close an instance"
   ]
  },
  {
   "cell_type": "code",
   "execution_count": null,
   "id": "8e54d8cd",
   "metadata": {},
   "outputs": [],
   "source": [
    "ln.setup.close()"
   ]
  },
  {
   "cell_type": "code",
   "execution_count": null,
   "id": "12db83b9-9d14-4575-876a-3d640a1c1e10",
   "metadata": {
    "tags": [
     "hide-cell"
    ]
   },
   "outputs": [],
   "source": [
    "# clean up\n",
    "!lamin delete pgtest-registered\n",
    "!docker stop pgtest-registered && docker rm pgtest-registered"
   ]
  }
 ],
 "metadata": {
  "kernelspec": {
   "display_name": "Python 3 (ipykernel)",
   "language": "python",
   "name": "python3"
  },
  "language_info": {
   "codemirror_mode": {
    "name": "ipython",
    "version": 3
   },
   "file_extension": ".py",
   "mimetype": "text/x-python",
   "name": "python",
   "nbconvert_exporter": "python",
   "pygments_lexer": "ipython3",
   "version": "3.9.15"
  },
  "vscode": {
   "interpreter": {
    "hash": "5c7b89af1651d0b8571dde13640ecdccf7d5a6204171d6ab33e7c296e100e08a"
   }
  }
 },
 "nbformat": 4,
 "nbformat_minor": 5
}
