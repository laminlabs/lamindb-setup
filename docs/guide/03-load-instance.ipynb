{
 "cells": [
  {
   "attachments": {},
   "cell_type": "markdown",
   "id": "b43d09d5-26d3-440d-b334-9643ec5248e6",
   "metadata": {
    "tags": []
   },
   "source": [
    "# Load & close an instance"
   ]
  },
  {
   "cell_type": "code",
   "execution_count": null,
   "id": "33c2bb76-d61f-4866-87e2-780e61600022",
   "metadata": {},
   "outputs": [],
   "source": [
    "import lndb\n",
    "from lndb import settings\n",
    "from lndb._settings_store import instance_settings_file"
   ]
  },
  {
   "attachments": {},
   "cell_type": "markdown",
   "id": "1be836bb",
   "metadata": {},
   "source": [
    "## Load your own instance by name"
   ]
  },
  {
   "attachments": {},
   "cell_type": "markdown",
   "id": "a5c94e19",
   "metadata": {},
   "source": [
    "If the user is the instance owner, just load the instance by name:"
   ]
  },
  {
   "cell_type": "markdown",
   "id": "e292c512",
   "metadata": {},
   "source": [
    "```\n",
    "!lndb load mydata\n",
    "```"
   ]
  },
  {
   "cell_type": "code",
   "execution_count": null,
   "id": "e7ecc665",
   "metadata": {},
   "outputs": [],
   "source": [
    "lndb.load(\"mydata\")"
   ]
  },
  {
   "cell_type": "code",
   "execution_count": null,
   "id": "2276e0be",
   "metadata": {
    "tags": [
     "hide-cell"
    ]
   },
   "outputs": [],
   "source": [
    "import os\n",
    "\n",
    "assert settings.instance.storage.is_cloud == False\n",
    "assert settings.instance.name == \"mydata\"\n",
    "assert settings.instance.storage.root.as_posix() == f\"{os.getcwd()}/mydata\"\n",
    "assert settings.instance.storage.cache_dir is None\n",
    "assert settings.instance.db == f\"sqlite:///{os.getcwd()}/mydata/mydata.lndb\""
   ]
  },
  {
   "cell_type": "code",
   "execution_count": null,
   "id": "4f179b5b",
   "metadata": {
    "tags": [
     "hide-cell"
    ]
   },
   "outputs": [],
   "source": [
    "# another test case, this time with a manually configured instance name\n",
    "\n",
    "import os\n",
    "\n",
    "lndb.load(\"mydata_instance_name\")\n",
    "assert settings.instance.storage.is_cloud == False\n",
    "assert settings.instance.name == \"mydata_instance_name\"\n",
    "assert settings.instance.storage.root.as_posix() == f\"{os.getcwd()}/mydata_storage\"\n",
    "assert settings.instance.storage.cache_dir is None\n",
    "assert (\n",
    "    settings.instance.db\n",
    "    == f\"sqlite:///{os.getcwd()}/mydata_storage/mydata_instance_name.lndb\"\n",
    ")\n",
    "lndb.delete(\"mydata_instance_name\")"
   ]
  },
  {
   "cell_type": "markdown",
   "id": "3f47a1d4",
   "metadata": {},
   "source": [
    "This also works for remote instances:"
   ]
  },
  {
   "cell_type": "code",
   "execution_count": null,
   "id": "7c9698f9",
   "metadata": {
    "tags": [
     "hide-cell"
    ]
   },
   "outputs": [],
   "source": [
    "# ensure that the locally cached env file is deleted\n",
    "instance_settings_file(\"lndb-setup-ci\", \"testuser1\").unlink()"
   ]
  },
  {
   "cell_type": "code",
   "execution_count": null,
   "id": "089a3832",
   "metadata": {},
   "outputs": [],
   "source": [
    "lndb.load(\"lndb-setup-ci\")  # lndb load lndb-setup-ci"
   ]
  },
  {
   "cell_type": "code",
   "execution_count": null,
   "id": "1ebd784f",
   "metadata": {
    "tags": [
     "hide-cell"
    ]
   },
   "outputs": [],
   "source": [
    "assert settings.instance.storage.is_cloud == True\n",
    "assert str(settings.instance.storage.root) == \"s3://lndb-setup-ci\"\n",
    "assert str(settings.instance._sqlite_file) == \"s3://lndb-setup-ci/lndb-setup-ci.lndb\""
   ]
  },
  {
   "attachments": {},
   "cell_type": "markdown",
   "id": "914af9a6",
   "metadata": {},
   "source": [
    "## Load instance from another owner"
   ]
  },
  {
   "cell_type": "markdown",
   "id": "65ab467e",
   "metadata": {},
   "source": [
    "If you have the permission, you can load an instance from another owner. "
   ]
  },
  {
   "cell_type": "code",
   "execution_count": null,
   "id": "8436575d",
   "metadata": {},
   "outputs": [],
   "source": [
    "lndb.load(\"testuser1/mydata\")  # lndb load \"testuser1/mydata\""
   ]
  },
  {
   "attachments": {},
   "cell_type": "markdown",
   "id": "0986a5f3",
   "metadata": {},
   "source": [
    "Load an instance from wrong owner."
   ]
  },
  {
   "cell_type": "code",
   "execution_count": null,
   "id": "bc3568ae",
   "metadata": {},
   "outputs": [],
   "source": [
    "assert lndb.load(\"testuser2/mydata\") == \"instance-not-exists\""
   ]
  },
  {
   "attachments": {},
   "cell_type": "markdown",
   "id": "e3701120",
   "metadata": {},
   "source": [
    "## Close an instance"
   ]
  },
  {
   "cell_type": "code",
   "execution_count": null,
   "id": "8e54d8cd",
   "metadata": {},
   "outputs": [],
   "source": [
    "lndb.close()"
   ]
  }
 ],
 "metadata": {
  "kernelspec": {
   "display_name": "Python 3",
   "language": "python",
   "name": "python3"
  },
  "language_info": {
   "codemirror_mode": {
    "name": "ipython",
    "version": 3
   },
   "file_extension": ".py",
   "mimetype": "text/x-python",
   "name": "python",
   "nbconvert_exporter": "python",
   "pygments_lexer": "ipython3",
   "version": "3.11.1"
  },
  "vscode": {
   "interpreter": {
    "hash": "5c7b89af1651d0b8571dde13640ecdccf7d5a6204171d6ab33e7c296e100e08a"
   }
  }
 },
 "nbformat": 4,
 "nbformat_minor": 5
}
