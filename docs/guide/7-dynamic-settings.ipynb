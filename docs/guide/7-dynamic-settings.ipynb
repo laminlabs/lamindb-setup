{
 "cells": [
  {
   "cell_type": "markdown",
   "id": "b72e681e-1377-4ade-a756-43c5000463ba",
   "metadata": {},
   "source": [
    "# Test dynamic settings"
   ]
  },
  {
   "cell_type": "code",
   "execution_count": null,
   "id": "d296305f-abf4-45d5-985c-665651c8b2de",
   "metadata": {},
   "outputs": [],
   "source": [
    "from lndb_setup import init, load\n",
    "from lndb_setup import settings\n",
    "from lndb_setup._settings_store import InstanceSettingsStore"
   ]
  },
  {
   "cell_type": "code",
   "execution_count": null,
   "id": "3d7e5bf7",
   "metadata": {},
   "outputs": [],
   "source": [
    "init(storage=\"mydata_2\", dbconfig=\"sqlite\", schema=\"bionty\")"
   ]
  },
  {
   "cell_type": "code",
   "execution_count": null,
   "id": "4cf8855b",
   "metadata": {},
   "outputs": [],
   "source": [
    "settings_store_mydata_2 = InstanceSettingsStore(\n",
    "    storage_root=str(settings.instance.storage_root),\n",
    "    storage_region=settings.instance.storage_region,\n",
    "    schema_modules=settings.instance.schema_modules,\n",
    "    dbconfig=settings.instance._dbconfig,\n",
    ")"
   ]
  },
  {
   "cell_type": "code",
   "execution_count": null,
   "id": "d9378286",
   "metadata": {},
   "outputs": [],
   "source": [
    "init(storage=\"mydata_3\", dbconfig=\"sqlite\")"
   ]
  },
  {
   "cell_type": "code",
   "execution_count": null,
   "id": "0de1e493",
   "metadata": {},
   "outputs": [],
   "source": [
    "settings.instance.name == \"mydata_3\""
   ]
  },
  {
   "cell_type": "code",
   "execution_count": null,
   "id": "c1c7fafa",
   "metadata": {},
   "outputs": [],
   "source": [
    "settings._instance(settings_store_mydata_2).name == \"mydata_2\""
   ]
  },
  {
   "cell_type": "code",
   "execution_count": null,
   "id": "62585f76",
   "metadata": {},
   "outputs": [],
   "source": [
    "settings._instance().name == \"mydata_3\""
   ]
  }
 ],
 "metadata": {
  "kernelspec": {
   "display_name": "Python 3.9.12 ('base')",
   "language": "python",
   "name": "python3"
  },
  "language_info": {
   "codemirror_mode": {
    "name": "ipython",
    "version": 3
   },
   "file_extension": ".py",
   "mimetype": "text/x-python",
   "name": "python",
   "nbconvert_exporter": "python",
   "pygments_lexer": "ipython3",
   "version": "3.9.12"
  },
  "nbproject": {
   "id": "irkNHjIwWi40",
   "parent": null,
   "pypackage": null,
   "time_init": "2022-09-20T13:34:49.457406+00:00",
   "version": "draft"
  },
  "vscode": {
   "interpreter": {
    "hash": "2841734f87827db3a7b3181a6051fe720e9968e703956c2bd6988b5a29362801"
   }
  }
 },
 "nbformat": 4,
 "nbformat_minor": 5
}
