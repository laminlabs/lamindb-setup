{
 "cells": [
  {
   "cell_type": "markdown",
   "id": "b43d09d5-26d3-440d-b334-9643ec5248e6",
   "metadata": {
    "tags": []
   },
   "source": [
    "# Clone a remote SQLite instance for testing"
   ]
  },
  {
   "cell_type": "code",
   "execution_count": null,
   "id": "7953531f-f181-4325-a1d1-362a01b16771",
   "metadata": {},
   "outputs": [],
   "source": [
    "from lndb_setup import init\n",
    "from lndb_setup._clone import clone_test"
   ]
  },
  {
   "cell_type": "code",
   "execution_count": null,
   "id": "92046e99-aee6-4482-bbc0-b7aca193528b",
   "metadata": {},
   "outputs": [],
   "source": [
    "init(storage=\"s3://lamin-site-assets\")"
   ]
  },
  {
   "cell_type": "code",
   "execution_count": null,
   "id": "f1f43b5a-59ca-419a-8ed1-9672f2ff2025",
   "metadata": {},
   "outputs": [],
   "source": [
    "%%time\n",
    "clone_test()"
   ]
  },
  {
   "cell_type": "code",
   "execution_count": null,
   "id": "caffd43d-a98f-4e78-8cf2-a145fddd0bf0",
   "metadata": {},
   "outputs": [],
   "source": [
    "assert init(storage=\"lamin-site-assets_test\") is None"
   ]
  }
 ],
 "metadata": {
  "kernelspec": {
   "display_name": "Python 3 (ipykernel)",
   "language": "python",
   "name": "python3"
  },
  "language_info": {
   "codemirror_mode": {
    "name": "ipython",
    "version": 3
   },
   "file_extension": ".py",
   "mimetype": "text/x-python",
   "name": "python",
   "nbconvert_exporter": "python",
   "pygments_lexer": "ipython3",
   "version": "3.9.12"
  }
 },
 "nbformat": 4,
 "nbformat_minor": 5
}
