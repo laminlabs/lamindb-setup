{
 "cells": [
  {
   "cell_type": "markdown",
   "id": "b43d09d5-26d3-440d-b334-9643ec5248e6",
   "metadata": {
    "tags": []
   },
   "source": [
    "# Test migration for SQLite"
   ]
  },
  {
   "cell_type": "code",
   "execution_count": null,
   "id": "2fe35e5f-c94e-4075-9f5e-0797a0f04bb9",
   "metadata": {},
   "outputs": [],
   "source": [
    "!pip install lnschema_core==0.18.0"
   ]
  },
  {
   "cell_type": "code",
   "execution_count": null,
   "id": "33c2bb76-d61f-4866-87e2-780e61600022",
   "metadata": {},
   "outputs": [],
   "source": [
    "import lndb_setup\n",
    "from lndb_setup._test_migrate import test_migrate\n",
    "from lndb_setup._test_instances import test_instances"
   ]
  },
  {
   "cell_type": "code",
   "execution_count": null,
   "id": "92046e99-aee6-4482-bbc0-b7aca193528b",
   "metadata": {},
   "outputs": [],
   "source": [
    "lndb_setup.init(storage=\"s3://lamin-site-assets\")"
   ]
  },
  {
   "cell_type": "code",
   "execution_count": null,
   "id": "f1f43b5a-59ca-419a-8ed1-9672f2ff2025",
   "metadata": {},
   "outputs": [],
   "source": [
    "%%time\n",
    "\n",
    "test_migrate(\"lnschema_core\", n_instances=1, dialect_name=\"sqlite\")"
   ]
  }
 ],
 "metadata": {
  "kernelspec": {
   "display_name": "Python 3 (ipykernel)",
   "language": "python",
   "name": "python3"
  },
  "language_info": {
   "codemirror_mode": {
    "name": "ipython",
    "version": 3
   },
   "file_extension": ".py",
   "mimetype": "text/x-python",
   "name": "python",
   "nbconvert_exporter": "python",
   "pygments_lexer": "ipython3",
   "version": "3.9.12"
  }
 },
 "nbformat": 4,
 "nbformat_minor": 5
}
