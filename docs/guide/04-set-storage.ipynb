{
 "cells": [
  {
   "attachments": {},
   "cell_type": "markdown",
   "id": "b43d09d5-26d3-440d-b334-9643ec5248e6",
   "metadata": {
    "tags": []
   },
   "source": [
    "# Get info, set storage & delete an instance"
   ]
  },
  {
   "cell_type": "code",
   "execution_count": null,
   "id": "33c2bb76-d61f-4866-87e2-780e61600022",
   "metadata": {},
   "outputs": [],
   "source": [
    "import lamindb as ln"
   ]
  },
  {
   "attachments": {},
   "cell_type": "markdown",
   "id": "fe33eb9b",
   "metadata": {},
   "source": [
    "## Get info"
   ]
  },
  {
   "cell_type": "code",
   "execution_count": null,
   "id": "00a97004",
   "metadata": {},
   "outputs": [],
   "source": [
    "ln.setup.load(\"mydata\")"
   ]
  },
  {
   "cell_type": "code",
   "execution_count": null,
   "id": "d6f127d1",
   "metadata": {},
   "outputs": [],
   "source": [
    "ln.setup.info()  # CLI: lamin info"
   ]
  },
  {
   "attachments": {},
   "cell_type": "markdown",
   "id": "a7cf42fb",
   "metadata": {},
   "source": [
    "## Set storage"
   ]
  },
  {
   "cell_type": "code",
   "execution_count": null,
   "id": "8fd59ad3-04b9-42fb-83cc-ab7beedbec72",
   "metadata": {
    "tags": [
     "hide-cell"
    ]
   },
   "outputs": [],
   "source": [
    "import laminci\n",
    "\n",
    "pgurl = laminci.db.setup_local_test_postgres()"
   ]
  },
  {
   "cell_type": "code",
   "execution_count": null,
   "id": "d6b0bd5e",
   "metadata": {},
   "outputs": [],
   "source": [
    "ln.setup.init(storage=\"./storage_1\", db=pgurl)"
   ]
  },
  {
   "attachments": {},
   "cell_type": "markdown",
   "id": "e6638f44",
   "metadata": {},
   "source": [
    "Local storage:"
   ]
  },
  {
   "cell_type": "code",
   "execution_count": null,
   "id": "49b9ef11",
   "metadata": {},
   "outputs": [],
   "source": [
    "ln.setup.set.storage(\"./storage_2\")  # CLI: lamin set --storage ./storage_2"
   ]
  },
  {
   "cell_type": "code",
   "execution_count": null,
   "id": "8e481aa0",
   "metadata": {
    "tags": [
     "hide-cell"
    ]
   },
   "outputs": [],
   "source": [
    "from pathlib import Path\n",
    "\n",
    "assert ln.setup.settings.storage.root_as_str == f\"{Path.cwd()}/storage_2\""
   ]
  },
  {
   "attachments": {},
   "cell_type": "markdown",
   "id": "de1c12b8",
   "metadata": {},
   "source": [
    "Cloud storage:"
   ]
  },
  {
   "cell_type": "code",
   "execution_count": null,
   "id": "8436575d",
   "metadata": {},
   "outputs": [],
   "source": [
    "ln.setup.set.storage(\"s3://lndb-setup-ci\")  # lamin set --storage s3://lndb-setup-ci"
   ]
  },
  {
   "attachments": {},
   "cell_type": "markdown",
   "id": "859a972e",
   "metadata": {},
   "source": [
    "See an overview:"
   ]
  },
  {
   "cell_type": "code",
   "execution_count": null,
   "id": "146192a7",
   "metadata": {},
   "outputs": [],
   "source": [
    "ln.select(ln.Storage).df()"
   ]
  },
  {
   "cell_type": "code",
   "execution_count": null,
   "id": "d2934990",
   "metadata": {
    "tags": [
     "hide-cell"
    ]
   },
   "outputs": [],
   "source": [
    "assert ln.setup.settings.storage.is_cloud\n",
    "assert ln.setup.settings.storage.root_as_str == \"s3://lndb-setup-ci\"\n",
    "# root.fs contains the underlying fsspec filesystem\n",
    "assert (\n",
    "    ln.setup.settings.storage.root.fs.cache_regions  # set by lamindb to True for s3 by default\n",
    ")"
   ]
  },
  {
   "attachments": {},
   "cell_type": "markdown",
   "id": "ae953b6a",
   "metadata": {},
   "source": [
    "You can set any additional `fsspec` filesystem arguments for cloud storage, such as `profile` or `cache_regions` (for s3 only), for example:"
   ]
  },
  {
   "cell_type": "code",
   "execution_count": null,
   "id": "f9294082",
   "metadata": {},
   "outputs": [],
   "source": [
    "ln.setup.set.storage(\"s3://lndb-setup-ci\", cache_regions=False)"
   ]
  },
  {
   "cell_type": "code",
   "execution_count": null,
   "id": "d6915638-db49-4d3d-bd91-819bb4719ef7",
   "metadata": {
    "tags": [
     "hide-cell"
    ]
   },
   "outputs": [],
   "source": [
    "# test cache_regions\n",
    "assert not ln.setup.settings.storage.root.fs.cache_regions\n",
    "# test setting storage not by owner\n",
    "ln.setup.login(\n",
    "    \"testuser2@lamin.ai\", password=\"goeoNJKE61ygbz1vhaCVynGERaRrlviPBVQsjkhz\"\n",
    ")\n",
    "ln.setup.set.storage(\"./storage_3\")\n",
    "assert ln.setup.settings.storage.root_as_str == f\"{Path.cwd()}/storage_3\"\n",
    "!docker stop pgtest && docker rm pgtest"
   ]
  },
  {
   "attachments": {},
   "cell_type": "markdown",
   "id": "3fb6a223",
   "metadata": {
    "tags": []
   },
   "source": [
    "### Currently not possible: setting storage for SQLite instance"
   ]
  },
  {
   "cell_type": "code",
   "execution_count": null,
   "id": "49309f3a-199f-40bc-b318-a396ebcaafec",
   "metadata": {},
   "outputs": [],
   "source": [
    "ln.setup.login(\"testuser1\")\n",
    "ln.setup.load(\"mydata\")"
   ]
  },
  {
   "attachments": {},
   "cell_type": "markdown",
   "id": "6ccb6573",
   "metadata": {},
   "source": [
    "If you try to set the storage for an sqlite instance, an error message is returned:"
   ]
  },
  {
   "cell_type": "code",
   "execution_count": null,
   "id": "e4f2545f",
   "metadata": {
    "tags": []
   },
   "outputs": [],
   "source": [
    "assert ln.setup.set.storage(\"mydata_storage_2\") == \"set-storage-failed\""
   ]
  },
  {
   "attachments": {},
   "cell_type": "markdown",
   "id": "675739c6",
   "metadata": {},
   "source": [
    "## Delete an instance"
   ]
  },
  {
   "attachments": {},
   "cell_type": "markdown",
   "id": "cceb345b",
   "metadata": {},
   "source": [
    "### With local default storage"
   ]
  },
  {
   "cell_type": "code",
   "execution_count": null,
   "id": "562024da",
   "metadata": {},
   "outputs": [],
   "source": [
    "ln.setup.init(storage=\"mydata-delete\")"
   ]
  },
  {
   "cell_type": "code",
   "execution_count": null,
   "id": "e7d4860a",
   "metadata": {},
   "outputs": [],
   "source": [
    "ln.setup.delete(\"mydata-delete\")  # CLI: lamin delete mydata"
   ]
  },
  {
   "cell_type": "code",
   "execution_count": null,
   "id": "5d558511",
   "metadata": {
    "tags": [
     "hide-cell"
    ]
   },
   "outputs": [],
   "source": [
    "from lndb.dev._settings_store import instance_settings_file\n",
    "\n",
    "settings_file = instance_settings_file(\"mydata-delete\", \"testuser1\")\n",
    "assert settings_file.exists() == False"
   ]
  },
  {
   "attachments": {},
   "cell_type": "markdown",
   "id": "83d675b0",
   "metadata": {},
   "source": [
    "### With remote default storage"
   ]
  },
  {
   "cell_type": "code",
   "execution_count": null,
   "id": "dccb27bf",
   "metadata": {},
   "outputs": [],
   "source": [
    "ln.setup.init(storage=\"s3://lndb-setup-delete-ci\")"
   ]
  },
  {
   "cell_type": "code",
   "execution_count": null,
   "id": "fde88024",
   "metadata": {},
   "outputs": [],
   "source": [
    "ln.setup.delete(\"lndb-setup-delete-ci\")"
   ]
  }
 ],
 "metadata": {
  "kernelspec": {
   "display_name": "Python 3 (ipykernel)",
   "language": "python",
   "name": "python3"
  },
  "language_info": {
   "codemirror_mode": {
    "name": "ipython",
    "version": 3
   },
   "file_extension": ".py",
   "mimetype": "text/x-python",
   "name": "python",
   "nbconvert_exporter": "python",
   "pygments_lexer": "ipython3",
   "version": "3.9.12"
  },
  "vscode": {
   "interpreter": {
    "hash": "61b4062b24dfb1010f420dad5aa3bd73a4d2af47d0ec44eafec465a35a9d7239"
   }
  }
 },
 "nbformat": 4,
 "nbformat_minor": 5
}
