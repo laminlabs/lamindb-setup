{
 "cells": [
  {
   "cell_type": "markdown",
   "id": "b43d09d5-26d3-440d-b334-9643ec5248e6",
   "metadata": {
    "tags": []
   },
   "source": [
    "# Set storage"
   ]
  },
  {
   "cell_type": "code",
   "execution_count": null,
   "id": "33c2bb76-d61f-4866-87e2-780e61600022",
   "metadata": {},
   "outputs": [],
   "source": [
    "import lndb"
   ]
  },
  {
   "cell_type": "markdown",
   "id": "a7cf42fb",
   "metadata": {},
   "source": [
    "## Set storage for PostgreSQL instance"
   ]
  },
  {
   "cell_type": "code",
   "execution_count": null,
   "id": "8fd59ad3-04b9-42fb-83cc-ab7beedbec72",
   "metadata": {
    "tags": [
     "hide-cell"
    ]
   },
   "outputs": [],
   "source": [
    "pgurl = lndb.dev.setup_local_test_postgres()"
   ]
  },
  {
   "cell_type": "code",
   "execution_count": null,
   "id": "d6b0bd5e",
   "metadata": {},
   "outputs": [],
   "source": [
    "lndb.init(storage=\"./storage_1\", db=pgurl)"
   ]
  },
  {
   "cell_type": "markdown",
   "id": "ceb57cc9",
   "metadata": {},
   "source": [
    "Running \n",
    "```\n",
    "!lndb set --storage storage_2\n",
    "```\n",
    "on the command line runs the following Python function:"
   ]
  },
  {
   "cell_type": "code",
   "execution_count": null,
   "id": "49b9ef11",
   "metadata": {},
   "outputs": [],
   "source": [
    "lndb.set.storage(\"./storage_2\")"
   ]
  },
  {
   "cell_type": "code",
   "execution_count": null,
   "id": "8e481aa0",
   "metadata": {
    "tags": [
     "hide-cell"
    ]
   },
   "outputs": [],
   "source": [
    "from pathlib import Path\n",
    "\n",
    "assert lndb.settings.instance.storage.root.as_posix() == f\"{Path.cwd()}/storage_2\""
   ]
  },
  {
   "cell_type": "markdown",
   "id": "25a13298",
   "metadata": {},
   "source": [
    "Running \n",
    "```\n",
    "lndb set --storage s3://lndb-setup-ci\n",
    "```\n",
    "\n",
    "on the command line runs the following:"
   ]
  },
  {
   "cell_type": "code",
   "execution_count": null,
   "id": "8436575d",
   "metadata": {},
   "outputs": [],
   "source": [
    "lndb.set.storage(\"s3://lndb-setup-ci\")"
   ]
  },
  {
   "cell_type": "code",
   "execution_count": null,
   "id": "d2934990",
   "metadata": {
    "tags": [
     "hide-cell"
    ]
   },
   "outputs": [],
   "source": [
    "assert lndb.settings.instance.storage.is_cloud == True\n",
    "assert str(lndb.settings.instance.storage.root) == \"s3://lndb-setup-ci\""
   ]
  },
  {
   "cell_type": "markdown",
   "id": "529e68e5-9b10-4fdb-9d4c-ac8206bbbb68",
   "metadata": {},
   "source": [
    "### Set storage not by owner"
   ]
  },
  {
   "cell_type": "code",
   "execution_count": null,
   "id": "d6915638-db49-4d3d-bd91-819bb4719ef7",
   "metadata": {},
   "outputs": [],
   "source": [
    "lndb.login(\"testuser2@lamin.ai\", password=\"goeoNJKE61ygbz1vhaCVynGERaRrlviPBVQsjkhz\")"
   ]
  },
  {
   "cell_type": "code",
   "execution_count": null,
   "id": "2ed8716f-852f-4ce9-8eef-5b824d6e92b3",
   "metadata": {
    "tags": [
     "hide-cell"
    ]
   },
   "outputs": [],
   "source": [
    "assert lndb.set.storage(\"storage_3\") == \"only-owner-can-set-storage\""
   ]
  },
  {
   "cell_type": "code",
   "execution_count": null,
   "id": "78a819fa-48d6-4c6f-95d4-7dc7e94283bb",
   "metadata": {
    "tags": [
     "hide-cell"
    ]
   },
   "outputs": [],
   "source": [
    "!docker stop pgtest && docker rm pgtest"
   ]
  },
  {
   "attachments": {},
   "cell_type": "markdown",
   "id": "3fb6a223",
   "metadata": {
    "tags": []
   },
   "source": [
    "## Set storage for SQLite instance"
   ]
  },
  {
   "cell_type": "markdown",
   "id": "6ccb6573",
   "metadata": {},
   "source": [
    "If the user tries to set the storage for an sqlite instance, an error message is raised:"
   ]
  },
  {
   "cell_type": "code",
   "execution_count": null,
   "id": "49309f3a-199f-40bc-b318-a396ebcaafec",
   "metadata": {},
   "outputs": [],
   "source": [
    "lndb.login(\"testuser1\")"
   ]
  },
  {
   "cell_type": "code",
   "execution_count": null,
   "id": "f988a386",
   "metadata": {},
   "outputs": [],
   "source": [
    "lndb.load(\"mydata\")"
   ]
  },
  {
   "cell_type": "code",
   "execution_count": null,
   "id": "e4f2545f",
   "metadata": {
    "tags": [
     "hide-cell"
    ]
   },
   "outputs": [],
   "source": [
    "assert lndb.set.storage(\"mydata_storage_2\") == \"set-storage-failed\""
   ]
  },
  {
   "cell_type": "code",
   "execution_count": null,
   "id": "4fa82d8b",
   "metadata": {
    "tags": [
     "hide-cell"
    ]
   },
   "outputs": [],
   "source": [
    "lndb.set_storage(\"mydata_storage_2\")"
   ]
  }
 ],
 "metadata": {
  "kernelspec": {
   "display_name": "py39",
   "language": "python",
   "name": "python3"
  },
  "language_info": {
   "codemirror_mode": {
    "name": "ipython",
    "version": 3
   },
   "file_extension": ".py",
   "mimetype": "text/x-python",
   "name": "python",
   "nbconvert_exporter": "python",
   "pygments_lexer": "ipython3",
   "version": "3.9.15 (main, Nov 24 2022, 08:29:02) \n[Clang 14.0.6 ]"
  },
  "vscode": {
   "interpreter": {
    "hash": "61b4062b24dfb1010f420dad5aa3bd73a4d2af47d0ec44eafec465a35a9d7239"
   }
  }
 },
 "nbformat": 4,
 "nbformat_minor": 5
}
