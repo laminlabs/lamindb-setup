{
 "cells": [
  {
   "cell_type": "markdown",
   "metadata": {},
   "source": [
    "# Setup a user account"
   ]
  },
  {
   "cell_type": "code",
   "execution_count": null,
   "metadata": {},
   "outputs": [],
   "source": [
    "from lndb_setup import login, signup\n",
    "from lndb_setup import settings\n",
    "import jwt"
   ]
  },
  {
   "cell_type": "markdown",
   "metadata": {
    "tags": []
   },
   "source": [
    "## Sign up"
   ]
  },
  {
   "cell_type": "markdown",
   "metadata": {},
   "source": [
    "### The user account does not yet exist"
   ]
  },
  {
   "cell_type": "markdown",
   "metadata": {},
   "source": [
    "You only need to sign up once. For a non-signed-up email, call\n",
    "```\n",
    "!lndb signup testuser1@lamin.ai\n",
    "```\n",
    "which prints\n",
    "```\n",
    "Please *confirm* the sign-up email. After that, login with `lndb login testuser1@lamin.ai`!\n",
    "\n",
    "Generated login password: cEvcwMJFX4OwbsYVaMt2Os6GxxGgDUlBGILs2RyS.\n",
    "Email & password persist in: /Users/falexwolf/.lndb/user-testuser1@lamin.ai.env.\n",
    "Going forward, credentials are auto-loaded. In case of loss, recover your password via email: https://lamin.ai.\n",
    "```"
   ]
  },
  {
   "cell_type": "markdown",
   "metadata": {},
   "source": [
    "### The user account exists"
   ]
  },
  {
   "cell_type": "markdown",
   "metadata": {},
   "source": [
    "If the user tries to sign up again, an error message is raised:"
   ]
  },
  {
   "cell_type": "code",
   "execution_count": null,
   "metadata": {},
   "outputs": [],
   "source": [
    "!lndb signup testuser1@lamin.ai"
   ]
  },
  {
   "cell_type": "code",
   "execution_count": null,
   "metadata": {},
   "outputs": [],
   "source": [
    "assert signup(\"testuser1@lamin.ai\") == \"user-exists\""
   ]
  },
  {
   "cell_type": "markdown",
   "metadata": {},
   "source": [
    "### The user did not confim the email and tries to sign up again"
   ]
  },
  {
   "cell_type": "markdown",
   "metadata": {},
   "source": [
    "This raises the following error.\n",
    "```\n",
    "RuntimeError: It seems you already signed up with this email. Please click on the link in the confirmation email that you should have received from lamin.ai.\n",
    "```\n",
    "\n",
    "Depending on timing, it might also raise a `429 Too Many Requests` error, which is fine, too.\n",
    "\n",
    "If you're interested in the implementation: {doc}`../notes/multiple-sign-ups-same-email`."
   ]
  },
  {
   "cell_type": "markdown",
   "metadata": {
    "tags": []
   },
   "source": [
    "## Log in"
   ]
  },
  {
   "cell_type": "markdown",
   "metadata": {},
   "source": [
    "Running \n",
    "```\n",
    "lndb login \"testuser1@lamin.ai\" --password \"cEvcwMJFX4OwbsYVaMt2Os6GxxGgDUlBGILs2RyS\"\n",
    "```\n",
    "\n",
    "on the command line runs the following:"
   ]
  },
  {
   "cell_type": "code",
   "execution_count": null,
   "metadata": {},
   "outputs": [],
   "source": [
    "login(\"testuser1@lamin.ai\", password=\"cEvcwMJFX4OwbsYVaMt2Os6GxxGgDUlBGILs2RyS\")"
   ]
  },
  {
   "cell_type": "markdown",
   "metadata": {},
   "source": [
    "Running \n",
    "```\n",
    "lndb login testuser1 --password \"cEvcwMJFX4OwbsYVaMt2Os6GxxGgDUlBGILs2RyS\"\n",
    "```\n",
    "\n",
    "on the command line runs the following:"
   ]
  },
  {
   "cell_type": "code",
   "execution_count": null,
   "metadata": {},
   "outputs": [],
   "source": [
    "login(\"testuser1\", password=\"cEvcwMJFX4OwbsYVaMt2Os6GxxGgDUlBGILs2RyS\")"
   ]
  },
  {
   "cell_type": "code",
   "execution_count": null,
   "metadata": {
    "tags": [
     "hide-cell"
    ]
   },
   "outputs": [],
   "source": [
    "assert settings.user.email == \"testuser1@lamin.ai\"\n",
    "assert settings.user.id == \"DzTjkKse\"\n",
    "assert settings.user.handle == \"testuser1\"\n",
    "\n",
    "access_token_payload = jwt.decode(\n",
    "    settings.user.access_token, algorithms=\"HS256\", options={\"verify_signature\": False}\n",
    ")\n",
    "assert access_token_payload[\"sub\"] == \"29cff183-c34d-445f-b6cf-31fb3b566158\""
   ]
  }
 ],
 "metadata": {
  "kernelspec": {
   "display_name": "Python 3.9.12 ('base1')",
   "language": "python",
   "name": "python3"
  },
  "language_info": {
   "codemirror_mode": {
    "name": "ipython",
    "version": 3
   },
   "file_extension": ".py",
   "mimetype": "text/x-python",
   "name": "python",
   "nbconvert_exporter": "python",
   "pygments_lexer": "ipython3",
   "version": "3.9.12"
  },
  "vscode": {
   "interpreter": {
    "hash": "2775e555cdc2d728c54aa22130c79afb1fa4da64f22f2fc6dcc2aa346c4e0672"
   }
  }
 },
 "nbformat": 4,
 "nbformat_minor": 4
}
