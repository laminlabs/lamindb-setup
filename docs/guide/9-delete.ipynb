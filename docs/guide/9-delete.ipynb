{
 "cells": [
  {
   "cell_type": "markdown",
   "id": "b43d09d5-26d3-440d-b334-9643ec5248e6",
   "metadata": {
    "tags": []
   },
   "source": [
    "# Test delete"
   ]
  },
  {
   "cell_type": "code",
   "execution_count": null,
   "id": "33c2bb76-d61f-4866-87e2-780e61600022",
   "metadata": {},
   "outputs": [],
   "source": [
    "from lndb_setup import delete, load\n",
    "from lndb_setup._settings_load import load_instance_settings\n",
    "from lndb_setup._settings_store import instance_settings_file\n",
    "from lndb_setup._hub import (\n",
    "    connect_hub_with_auth,\n",
    "    get_instance,\n",
    "    get_storage_by_id,\n",
    "    get_user_by_handle,\n",
    ")\n",
    "from pathlib import Path"
   ]
  },
  {
   "cell_type": "markdown",
   "id": "914af9a6",
   "metadata": {},
   "source": [
    "## Delete an instance"
   ]
  },
  {
   "cell_type": "code",
   "execution_count": null,
   "id": "9ee2e90b",
   "metadata": {},
   "outputs": [],
   "source": [
    "hub = connect_hub_with_auth()"
   ]
  },
  {
   "cell_type": "code",
   "execution_count": null,
   "id": "2609e58d",
   "metadata": {},
   "outputs": [],
   "source": [
    "settings_file = instance_settings_file(\"mydata\", \"testuser1\")\n",
    "isettings = load_instance_settings(settings_file)\n",
    "owner = get_user_by_handle(hub, \"testuser1\")\n",
    "\n",
    "instance_hub_metadata = get_instance(hub, \"mydata\", owner[\"id\"])\n",
    "\n",
    "instance_default_storage = isettings.storage_root"
   ]
  },
  {
   "cell_type": "markdown",
   "id": "25a13298",
   "metadata": {},
   "source": [
    "Running \n",
    "```\n",
    "lndb delete mydata --owner testuser1\n",
    "```\n",
    "\n",
    "on the command line runs the following:"
   ]
  },
  {
   "cell_type": "code",
   "execution_count": null,
   "id": "8436575d",
   "metadata": {},
   "outputs": [],
   "source": [
    "delete(\"mydata\")"
   ]
  },
  {
   "cell_type": "code",
   "execution_count": null,
   "id": "d2e607c9",
   "metadata": {},
   "outputs": [],
   "source": [
    "assert Path(instance_default_storage).exists() == False\n",
    "assert get_instance(hub, \"mydata\", owner[\"id\"]) is None\n",
    "assert get_storage_by_id(hub, instance_default_storage[\"id\"]) is None\n",
    "assert settings_file.exists() == False"
   ]
  }
 ],
 "metadata": {
  "kernelspec": {
   "display_name": "Python 3 (ipykernel)",
   "language": "python",
   "name": "python3"
  },
  "language_info": {
   "codemirror_mode": {
    "name": "ipython",
    "version": 3
   },
   "file_extension": ".py",
   "mimetype": "text/x-python",
   "name": "python",
   "nbconvert_exporter": "python",
   "pygments_lexer": "ipython3",
   "version": "3.9.12 (main, Apr  5 2022, 01:53:17) \n[Clang 12.0.0 ]"
  },
  "vscode": {
   "interpreter": {
    "hash": "2841734f87827db3a7b3181a6051fe720e9968e703956c2bd6988b5a29362801"
   }
  }
 },
 "nbformat": 4,
 "nbformat_minor": 5
}
