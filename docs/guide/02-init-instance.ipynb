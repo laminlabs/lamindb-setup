{
 "cells": [
  {
   "attachments": {},
   "cell_type": "markdown",
   "metadata": {
    "tags": []
   },
   "source": [
    "# Init an instance"
   ]
  },
  {
   "cell_type": "code",
   "execution_count": null,
   "metadata": {},
   "outputs": [],
   "source": [
    "import lamindb as ln\n",
    "from laminci.db import setup_local_test_postgres\n",
    "from pathlib import Path"
   ]
  },
  {
   "attachments": {},
   "cell_type": "markdown",
   "metadata": {},
   "source": [
    "We already set up a user account for \"testuser1@lamin.ai\" and chose handle `testuser1`."
   ]
  },
  {
   "cell_type": "code",
   "execution_count": null,
   "metadata": {},
   "outputs": [],
   "source": [
    "ln.setup.login(\"testuser1\")  # CLI: lamin login testuser1"
   ]
  },
  {
   "attachments": {},
   "cell_type": "markdown",
   "metadata": {},
   "source": [
    "## Local database & storage"
   ]
  },
  {
   "attachments": {},
   "cell_type": "markdown",
   "metadata": {},
   "source": [
    "### SQLite"
   ]
  },
  {
   "cell_type": "code",
   "execution_count": null,
   "metadata": {},
   "outputs": [],
   "source": [
    "!lamin delete mydata"
   ]
  },
  {
   "cell_type": "code",
   "execution_count": null,
   "metadata": {},
   "outputs": [],
   "source": [
    "ln.setup.init(storage=\"./mydata\")  # CLI: lamin init --storage ./mydata"
   ]
  },
  {
   "attachments": {},
   "cell_type": "markdown",
   "metadata": {},
   "source": [
    "This automatically assigns an instance name that equals the name of the storage root along with a few other settings:"
   ]
  },
  {
   "cell_type": "code",
   "execution_count": null,
   "metadata": {},
   "outputs": [],
   "source": [
    "ln.setup.settings.instance"
   ]
  },
  {
   "cell_type": "code",
   "execution_count": null,
   "metadata": {
    "tags": [
     "hide-cell"
    ]
   },
   "outputs": [],
   "source": [
    "assert ln.setup.settings.instance.storage.is_cloud == False\n",
    "assert ln.setup.settings.instance.owner == ln.setup.settings.user.handle\n",
    "assert ln.setup.settings.instance.name == \"mydata\"\n",
    "assert ln.setup.settings.storage.root.as_posix() == Path(\"mydata\").resolve().as_posix()\n",
    "assert ln.setup.settings.storage.cache_dir is None\n",
    "assert ln.setup.settings.storage.id is not None\n",
    "assert (\n",
    "    ln.setup.settings.instance.db\n",
    "    == f\"sqlite:///{Path('./mydata').resolve().as_posix()}/mydata.lndb\"\n",
    ")"
   ]
  },
  {
   "attachments": {},
   "cell_type": "markdown",
   "metadata": {},
   "source": [
    "If you want to register it on the hub at lamin.ai, call:\n",
    "```\n",
    "ln.setup.register()\n",
    "```"
   ]
  },
  {
   "attachments": {},
   "cell_type": "markdown",
   "metadata": {},
   "source": [
    "### Postgres"
   ]
  },
  {
   "cell_type": "code",
   "execution_count": null,
   "metadata": {
    "tags": [
     "hide-cell"
    ]
   },
   "outputs": [],
   "source": [
    "pgurl = setup_local_test_postgres()"
   ]
  },
  {
   "attachments": {},
   "cell_type": "markdown",
   "metadata": {},
   "source": [
    "A connection string for postgres looks like this:"
   ]
  },
  {
   "cell_type": "code",
   "execution_count": null,
   "metadata": {},
   "outputs": [],
   "source": [
    "pgurl"
   ]
  },
  {
   "attachments": {},
   "cell_type": "markdown",
   "metadata": {},
   "source": [
    "Let us call init:"
   ]
  },
  {
   "cell_type": "code",
   "execution_count": null,
   "metadata": {},
   "outputs": [],
   "source": [
    "ln.setup.init(storage=\"./mydatapg\", db=pgurl)"
   ]
  },
  {
   "cell_type": "code",
   "execution_count": null,
   "metadata": {
    "tags": [
     "hide-cell"
    ]
   },
   "outputs": [],
   "source": [
    "assert ln.setup.settings.instance.name == \"pgtest\"\n",
    "assert ln.setup.settings.instance.storage.is_cloud == False\n",
    "assert ln.setup.settings.instance.owner == ln.setup.settings.user.handle\n",
    "assert ln.setup.settings.instance.dialect == \"postgresql\"\n",
    "assert ln.setup.settings.instance.db == pgurl\n",
    "assert ln.setup.settings.storage.id is not None\n",
    "assert (\n",
    "    ln.setup.settings.instance.storage.root.as_posix()\n",
    "    == Path(\"mydatapg\").absolute().as_posix()\n",
    ")\n",
    "assert ln.setup.settings.instance.storage.cache_dir is None\n",
    "\n",
    "!lamin delete pgtest\n",
    "!docker stop pgtest && docker rm pgtest"
   ]
  },
  {
   "attachments": {},
   "cell_type": "markdown",
   "metadata": {},
   "source": [
    "### Custom instance name"
   ]
  },
  {
   "cell_type": "code",
   "execution_count": null,
   "metadata": {
    "tags": [
     "hide-cell"
    ]
   },
   "outputs": [],
   "source": [
    "pgurl = setup_local_test_postgres()"
   ]
  },
  {
   "attachments": {},
   "cell_type": "markdown",
   "metadata": {},
   "source": [
    "Instead of having the instance name be auto-determined from `storage` or `db`, you can provide a custom name:"
   ]
  },
  {
   "cell_type": "code",
   "execution_count": null,
   "metadata": {},
   "outputs": [],
   "source": [
    "ln.setup.init(\n",
    "    storage=\"./mystorage\", name=\"mydata2\", db=pgurl\n",
    ")  # CLI: lamin init --storage ./mystorage --name \"mydata\" --db ..."
   ]
  },
  {
   "cell_type": "code",
   "execution_count": null,
   "metadata": {
    "tags": [
     "hide-cell"
    ]
   },
   "outputs": [],
   "source": [
    "assert ln.setup.settings.instance.name == \"mydata2\"\n",
    "assert ln.setup.settings.instance.storage.is_cloud == False\n",
    "assert ln.setup.settings.instance.owner == ln.setup.settings.user.handle\n",
    "assert ln.setup.settings.instance.dialect == \"postgresql\"\n",
    "assert ln.setup.settings.instance.db == pgurl\n",
    "assert ln.setup.settings.storage.id is not None\n",
    "assert (\n",
    "    ln.setup.settings.instance.storage.root.as_posix()\n",
    "    == Path(\"mystorage\").absolute().as_posix()\n",
    ")\n",
    "assert ln.setup.settings.instance.storage.cache_dir is None\n",
    "\n",
    "!lamin delete mydata2\n",
    "!docker stop pgtest && docker rm pgtest"
   ]
  },
  {
   "attachments": {},
   "cell_type": "markdown",
   "metadata": {},
   "source": [
    "## Configure with cloud storage"
   ]
  },
  {
   "attachments": {},
   "cell_type": "markdown",
   "metadata": {},
   "source": [
    "### AWS"
   ]
  },
  {
   "attachments": {},
   "cell_type": "markdown",
   "metadata": {},
   "source": [
    "You need to have access to AWS S3 via `awscli configure`."
   ]
  },
  {
   "attachments": {},
   "cell_type": "markdown",
   "metadata": {},
   "source": [
    "Let us look at the special case of an sqlite instance:"
   ]
  },
  {
   "cell_type": "code",
   "execution_count": null,
   "metadata": {},
   "outputs": [],
   "source": [
    "ln.setup.init(\n",
    "    storage=\"s3://lndb-setup-ci\"\n",
    ")  # CLI: lamin init --storage \"s3://lndb-setup-ci\""
   ]
  },
  {
   "cell_type": "code",
   "execution_count": null,
   "metadata": {},
   "outputs": [],
   "source": [
    "ln.setup.settings.instance"
   ]
  },
  {
   "cell_type": "code",
   "execution_count": null,
   "metadata": {},
   "outputs": [],
   "source": [
    "ln.setup.settings.instance._sqlite_file"
   ]
  },
  {
   "cell_type": "code",
   "execution_count": null,
   "metadata": {},
   "outputs": [],
   "source": [
    "ln.setup.settings.instance._sqlite_file_local"
   ]
  },
  {
   "cell_type": "code",
   "execution_count": null,
   "metadata": {
    "tags": [
     "hide-cell"
    ]
   },
   "outputs": [],
   "source": [
    "# test\n",
    "assert ln.setup.settings.storage.is_cloud == True\n",
    "assert str(ln.setup.settings.storage.root) == \"s3://lndb-setup-ci/\"\n",
    "assert ln.setup.settings.storage.region == \"us-east-1\"\n",
    "assert (\n",
    "    str(ln.setup.settings.instance._sqlite_file)\n",
    "    == \"s3://lndb-setup-ci/lndb-setup-ci.lndb\"\n",
    ")\n",
    "assert ln.setup.settings.storage.id is not None\n",
    "\n",
    "# do the same for an S3 bucket in Europe\n",
    "ln.setup.init(storage=\"s3://lndb-setup-ci-eu-central-1\", name=\"lndb-setup-ci-europe\")\n",
    "assert ln.setup.settings.storage.region == \"eu-central-1\"\n",
    "assert ln.setup.settings.instance.name == \"lndb-setup-ci-europe\"\n",
    "assert (\n",
    "    str(ln.setup.settings.instance._sqlite_file)\n",
    "    == \"s3://lndb-setup-ci-eu-central-1/lndb-setup-ci-europe.lndb\"\n",
    ")\n",
    "assert ln.setup.settings.storage.id is not None\n",
    "ln.setup.delete(\"lndb-setup-ci-europe\")"
   ]
  },
  {
   "attachments": {},
   "cell_type": "markdown",
   "metadata": {},
   "source": [
    "### GCP"
   ]
  },
  {
   "attachments": {},
   "cell_type": "markdown",
   "metadata": {},
   "source": [
    "You need to authenticate for Google Clod.\n",
    "\n",
    "* Either, set the environment variable `export GOOGLE_APPLICATION_CREDENTIALS=<HOME-DIR>/.lndb/<GOOGLE CLOUD PROJECT>.json`.\n",
    "* Alternatively, if you set up the `gcloud` CLI, log in with `gcloud auth application-default login`.\n"
   ]
  },
  {
   "cell_type": "code",
   "execution_count": null,
   "metadata": {},
   "outputs": [],
   "source": [
    "ln.setup.init(storage=\"gs://lndb-setup-ci-us\")"
   ]
  },
  {
   "cell_type": "code",
   "execution_count": null,
   "metadata": {
    "tags": [
     "hide-cell"
    ]
   },
   "outputs": [],
   "source": [
    "ln.setup.delete(\"lndb-setup-ci-us\")"
   ]
  },
  {
   "cell_type": "code",
   "execution_count": null,
   "metadata": {},
   "outputs": [],
   "source": [
    "# this should move up in this guide\n",
    "pgurl = setup_local_test_postgres(name=\"pgtest-registered\")\n",
    "ln.setup.init(storage=\"s3://lndb-setup-ci\", db=pgurl)\n",
    "ln.setup.register()"
   ]
  },
  {
   "attachments": {},
   "cell_type": "markdown",
   "metadata": {},
   "source": [
    "## Re-initialize an existing instance"
   ]
  },
  {
   "attachments": {},
   "cell_type": "markdown",
   "metadata": {},
   "source": [
    "Assume we accidentally `init` an existing instance, it will be loaded:"
   ]
  },
  {
   "cell_type": "code",
   "execution_count": null,
   "metadata": {},
   "outputs": [],
   "source": [
    "assert ln.setup.init(storage=\"mydata\") == \"migrate-unnecessary\""
   ]
  },
  {
   "cell_type": "code",
   "execution_count": null,
   "metadata": {
    "tags": [
     "hide-cell"
    ]
   },
   "outputs": [],
   "source": [
    "assert type(ln.setup.settings.storage.id)"
   ]
  }
 ],
 "metadata": {
  "kernelspec": {
   "display_name": "Python 3 (ipykernel)",
   "language": "python",
   "name": "python3"
  },
  "language_info": {
   "codemirror_mode": {
    "name": "ipython",
    "version": 3
   },
   "file_extension": ".py",
   "mimetype": "text/x-python",
   "name": "python",
   "nbconvert_exporter": "python",
   "pygments_lexer": "ipython3",
   "version": "3.9.15"
  },
  "vscode": {
   "interpreter": {
    "hash": "40d3a090f54c6569ab1632332b64b2c03c39dcf918b08424e98f38b5ae0af88f"
   }
  }
 },
 "nbformat": 4,
 "nbformat_minor": 4
}
