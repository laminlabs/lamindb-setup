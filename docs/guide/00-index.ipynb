{
 "cells": [
  {
   "attachments": {},
   "cell_type": "markdown",
   "metadata": {},
   "source": [
    "# Guide"
   ]
  },
  {
   "attachments": {},
   "cell_type": "markdown",
   "metadata": {},
   "source": [
    "Set up a LaminDB instance either using the CLI (`lamin`) or the Python API ({mod}`docs:lamindb.setup`).\n",
    "\n",
    "```{toctree}\n",
    ":maxdepth: 1\n",
    ":hidden:\n",
    "\n",
    "setup-user\n",
    "init-instance\n",
    "load-instance\n",
    "set-storage\n",
    "schema-modules\n",
    "migrate\n",
    "```"
   ]
  },
  {
   "attachments": {},
   "cell_type": "markdown",
   "metadata": {},
   "source": [
    "If you use the CLI, you can access help like so:"
   ]
  },
  {
   "cell_type": "code",
   "execution_count": null,
   "metadata": {},
   "outputs": [],
   "source": [
    "!lamin -h"
   ]
  },
  {
   "cell_type": "code",
   "execution_count": null,
   "metadata": {},
   "outputs": [],
   "source": [
    "!lamin init -h"
   ]
  },
  {
   "attachments": {},
   "cell_type": "markdown",
   "metadata": {},
   "source": [
    "## Sign up and log in"
   ]
  },
  {
   "cell_type": "code",
   "execution_count": null,
   "metadata": {
    "tags": [
     "hide-cell"
    ]
   },
   "outputs": [],
   "source": [
    "# in case an instance is open\n",
    "!lamin close"
   ]
  },
  {
   "cell_type": "code",
   "execution_count": null,
   "metadata": {},
   "outputs": [],
   "source": [
    "import lamindb as ln"
   ]
  },
  {
   "attachments": {},
   "cell_type": "markdown",
   "metadata": {},
   "source": [
    "```{code}\n",
    "\n",
    "ln.setup.signup(\"testuser1@lamin.ai\")  # CLI: lamin signup testuser1@lamin.ai\n",
    "```\n",
    "This will generate a password and cache both email and password in your `~/.lamin` directory. \n",
    "\n",
    "📧 You will also receive a confirmation email with a link to choose your user handle and complete the sign-up!"
   ]
  },
  {
   "attachments": {},
   "cell_type": "markdown",
   "metadata": {},
   "source": [
    "You can log in with either email or handle:"
   ]
  },
  {
   "attachments": {},
   "cell_type": "markdown",
   "metadata": {},
   "source": [
    "```\n",
    "ln.setup.login(\"testuser1@lamin.ai\")  # CLI: lamin login testuser1@lamin.ai\n",
    "```"
   ]
  },
  {
   "cell_type": "code",
   "execution_count": null,
   "metadata": {},
   "outputs": [],
   "source": [
    "ln.setup.login(\"testuser1\")  # CLI: lamin login testuser1"
   ]
  },
  {
   "attachments": {},
   "cell_type": "markdown",
   "metadata": {},
   "source": [
    "If you don't have a cached password in your environment, you need to pass it to the `login()` function:\n",
    "```{code}\n",
    "ln.setup.login(\"<email>\", password=\"<password>\")  # CLI: lamin login <email> --password <password>\n",
    "```"
   ]
  },
  {
   "attachments": {},
   "cell_type": "markdown",
   "metadata": {},
   "source": [
    "## Init an instance"
   ]
  },
  {
   "attachments": {},
   "cell_type": "markdown",
   "metadata": {},
   "source": [
    "The most common arguments for `lamin init` are the following:\n",
    "\n",
    "- `storage`: a storage location\n",
    "    - local storage: path to a local directory\n",
    "    - cloud storage: `s3://my-bucket` or `gs://my-bucket`\n",
    "- `db` (optional): a SQL database URI\n",
    "    - if not passed, the instance will use a SQLite database    \n",
    "- `schema` (optional): schema modules\n",
    "    - any instance uses the core schema module\n",
    "    - there are 2 public schema modules:\n",
    "        - [`bionty`](https://lamin.ai/docs/lnschema-bionty): biological entities\n",
    "        - [`lamin1`](https://lamin.ai/docs/lnschema-lamin1): Lamin's sample biolab schema\n",
    "    - [contact us](https://lamin.ai/contact) to learn about customized enterprise schema modules"
   ]
  },
  {
   "attachments": {},
   "cell_type": "markdown",
   "metadata": {},
   "source": [
    "### Examples"
   ]
  },
  {
   "attachments": {},
   "cell_type": "markdown",
   "metadata": {},
   "source": [
    "#### Local storage + SQLite"
   ]
  },
  {
   "attachments": {},
   "cell_type": "markdown",
   "metadata": {},
   "source": [
    "If you are only interested in tracking files and their transformations, init your local SQLite instance via:\n",
    "\n",
    "```\n",
    "ln.setup.init(storage=\"./mydata\")  # CLI: lamin init --storage ./mydata\n",
    "```"
   ]
  },
  {
   "cell_type": "code",
   "execution_count": null,
   "metadata": {},
   "outputs": [],
   "source": [
    "ln.setup.init(storage=\"./mydata\")\n",
    "# ln.setup.init(\n",
    "#     storage=\"./mydata\", schema=\"bionty,lamin1\"\n",
    "# )  # CLI: lamin init --storage mydata --schema bionty,lamin1"
   ]
  },
  {
   "attachments": {},
   "cell_type": "markdown",
   "metadata": {},
   "source": [
    "#### Cloud storage (S3) + SQLite"
   ]
  },
  {
   "attachments": {},
   "cell_type": "markdown",
   "metadata": {},
   "source": [
    "```\n",
    "ln.setup.init(storage=\"s3://<bucket_name>\", schema=\"bionty,lamin1\")  # CLI: lamin init --storage s3://<bucket_name> --schema bionty,lamin1\n",
    "```"
   ]
  },
  {
   "attachments": {},
   "cell_type": "markdown",
   "metadata": {},
   "source": [
    "#### Cloud storage (GCP) + Postgres"
   ]
  },
  {
   "attachments": {},
   "cell_type": "markdown",
   "metadata": {},
   "source": [
    "```\n",
    "ln.setup.init(storage=\"gs://<bucket_name>\", db=\"postgresql://<user>:<pwd>@<hostname>:<port>/<dbname>\", schema=\"bionty,lamin1\")  # CLI: lamin init --storage gs://<bucket_name> --db postgresql://<user>:<pwd>@<hostname>:<port>/<dbname> --schema bionty,lamin1\n",
    "```\n"
   ]
  },
  {
   "attachments": {},
   "cell_type": "markdown",
   "metadata": {},
   "source": [
    "## Load an instance"
   ]
  },
  {
   "attachments": {},
   "cell_type": "markdown",
   "metadata": {},
   "source": [
    "Load your own instance:\n",
    "```\n",
    "ln.setup.load(\"<instance_name>\")  # CLI: lamin load <instance_name>\n",
    "````"
   ]
  },
  {
   "attachments": {},
   "cell_type": "markdown",
   "metadata": {},
   "source": [
    "Load somebody else's instance:\n",
    "```\n",
    "ln.setup.load(f\"{account_handle}/{instance_name}\")  # CLI: lamin load <account_handle/instance_name>\n",
    "```"
   ]
  },
  {
   "attachments": {},
   "cell_type": "markdown",
   "metadata": {},
   "source": [
    "## Get info"
   ]
  },
  {
   "attachments": {},
   "cell_type": "markdown",
   "metadata": {},
   "source": [
    "Settings persist in `~/.lamin/` and can be accessed via {class}`docs:`lamindb.setup.settings`."
   ]
  },
  {
   "cell_type": "code",
   "execution_count": null,
   "metadata": {},
   "outputs": [],
   "source": [
    "ln.setup.info()  # CLI: lamin info"
   ]
  },
  {
   "cell_type": "code",
   "execution_count": null,
   "metadata": {},
   "outputs": [],
   "source": [
    "ln.setup.settings.user"
   ]
  },
  {
   "cell_type": "code",
   "execution_count": null,
   "metadata": {},
   "outputs": [],
   "source": [
    "ln.setup.settings.instance"
   ]
  },
  {
   "attachments": {},
   "cell_type": "markdown",
   "metadata": {},
   "source": [
    "```{note}\n",
    "\n",
    "The user who creates an instance is its owner. Ownership can be transferred in the hub.\n",
    "```"
   ]
  },
  {
   "cell_type": "code",
   "execution_count": null,
   "metadata": {},
   "outputs": [],
   "source": [
    "ln.setup.settings.instance.owner"
   ]
  },
  {
   "cell_type": "code",
   "execution_count": null,
   "metadata": {},
   "outputs": [],
   "source": [
    "ln.setup.settings.instance.identifier"
   ]
  },
  {
   "cell_type": "code",
   "execution_count": null,
   "metadata": {},
   "outputs": [],
   "source": [
    "ln.setup.settings.instance.db"
   ]
  },
  {
   "cell_type": "code",
   "execution_count": null,
   "metadata": {},
   "outputs": [],
   "source": [
    "ln.setup.settings.storage.root"
   ]
  },
  {
   "attachments": {},
   "cell_type": "markdown",
   "metadata": {},
   "source": [
    "## Delete an instance"
   ]
  },
  {
   "cell_type": "code",
   "execution_count": null,
   "metadata": {},
   "outputs": [],
   "source": [
    "ln.setup.delete(\"mydata\")"
   ]
  }
 ],
 "metadata": {
  "kernelspec": {
   "display_name": "Python 3 (ipykernel)",
   "language": "python",
   "name": "python3"
  },
  "language_info": {
   "codemirror_mode": {
    "name": "ipython",
    "version": 3
   },
   "file_extension": ".py",
   "mimetype": "text/x-python",
   "name": "python",
   "nbconvert_exporter": "python",
   "pygments_lexer": "ipython3",
   "version": "3.9.15"
  },
  "vscode": {
   "interpreter": {
    "hash": "ae1fefc8646a06dd2e75004cd934adda7c5727b046986a772e3b44b0ffba9754"
   }
  }
 },
 "nbformat": 4,
 "nbformat_minor": 4
}
