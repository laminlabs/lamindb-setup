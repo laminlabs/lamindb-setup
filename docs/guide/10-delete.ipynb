{
 "cells": [
  {
   "cell_type": "markdown",
   "id": "b43d09d5-26d3-440d-b334-9643ec5248e6",
   "metadata": {
    "tags": []
   },
   "source": [
    "# Test delete"
   ]
  },
  {
   "cell_type": "code",
   "execution_count": null,
   "id": "33c2bb76-d61f-4866-87e2-780e61600022",
   "metadata": {},
   "outputs": [],
   "source": [
    "from lndb_setup import delete, load, login, set_storage\n",
    "from lndb_setup._settings_load import load_instance_settings\n",
    "from lndb_setup._settings_store import instance_settings_file\n",
    "from lndb_setup._hub import (\n",
    "    connect_hub_with_auth,\n",
    "    get_instance,\n",
    "    get_storage_by_id,\n",
    "    get_user_by_handle,\n",
    "    get_instance_default_storage,\n",
    ")\n",
    "from pathlib import Path"
   ]
  },
  {
   "cell_type": "code",
   "execution_count": null,
   "id": "485f5ee1",
   "metadata": {},
   "outputs": [],
   "source": [
    "hub = connect_hub_with_auth()\n",
    "testuser1 = get_user_by_handle(hub, \"testuser1\")"
   ]
  },
  {
   "cell_type": "markdown",
   "id": "914af9a6",
   "metadata": {},
   "source": [
    "## Delete an instance"
   ]
  },
  {
   "attachments": {},
   "cell_type": "markdown",
   "id": "8baa3179",
   "metadata": {},
   "source": [
    "### As a non instance owner"
   ]
  },
  {
   "cell_type": "code",
   "execution_count": null,
   "id": "db40a2be",
   "metadata": {},
   "outputs": [],
   "source": [
    "login(\"testuser2\")"
   ]
  },
  {
   "attachments": {},
   "cell_type": "markdown",
   "id": "4bdf0105",
   "metadata": {},
   "source": [
    "You can only delete an instance if you are the owner of this one:"
   ]
  },
  {
   "cell_type": "code",
   "execution_count": null,
   "id": "44c07d49",
   "metadata": {},
   "outputs": [],
   "source": [
    "delete(\"mydata\") == \"instance-settings-not-found\""
   ]
  },
  {
   "attachments": {},
   "cell_type": "markdown",
   "id": "058c92ce",
   "metadata": {},
   "source": [
    "### As the instance owner"
   ]
  },
  {
   "cell_type": "code",
   "execution_count": null,
   "id": "908b3116",
   "metadata": {},
   "outputs": [],
   "source": [
    "login(\"testuser1\")"
   ]
  },
  {
   "cell_type": "code",
   "execution_count": null,
   "id": "2609e58d",
   "metadata": {},
   "outputs": [],
   "source": [
    "settings_file = instance_settings_file(\"mydata\", \"testuser1\")\n",
    "instance_default_storage = get_instance_default_storage(hub, \"mydata\", testuser1[\"id\"])"
   ]
  },
  {
   "cell_type": "markdown",
   "id": "25a13298",
   "metadata": {},
   "source": [
    "Running \n",
    "```\n",
    "lndb delete mydata --owner testuser1\n",
    "```\n",
    "\n",
    "on the command line runs the following:"
   ]
  },
  {
   "cell_type": "code",
   "execution_count": null,
   "id": "8436575d",
   "metadata": {},
   "outputs": [],
   "source": [
    "delete(\"mydata\")"
   ]
  },
  {
   "cell_type": "code",
   "execution_count": null,
   "id": "d2e607c9",
   "metadata": {},
   "outputs": [],
   "source": [
    "assert Path(instance_default_storage[\"root\"]).exists() == False\n",
    "assert get_instance(hub, \"mydata\", testuser1[\"id\"]) is None\n",
    "assert get_storage_by_id(hub, instance_default_storage[\"id\"]) is None\n",
    "assert settings_file.exists() == False"
   ]
  },
  {
   "attachments": {},
   "cell_type": "markdown",
   "id": "3286fbcc",
   "metadata": {},
   "source": [
    "### For instance with remote default storage"
   ]
  },
  {
   "cell_type": "code",
   "execution_count": null,
   "id": "42322a1d",
   "metadata": {},
   "outputs": [],
   "source": [
    "instance = get_instance(hub, \"lndb-setup-ci\", testuser1[\"id\"])\n",
    "instance_default_storage = get_instance_default_storage(\n",
    "    hub, \"lndb-setup-ci\", testuser1[\"id\"]\n",
    ")"
   ]
  },
  {
   "cell_type": "code",
   "execution_count": null,
   "id": "b2593ef8",
   "metadata": {},
   "outputs": [],
   "source": [
    "delete(\"lndb-setup-ci\")"
   ]
  },
  {
   "cell_type": "code",
   "execution_count": null,
   "id": "0fbe247c",
   "metadata": {},
   "outputs": [],
   "source": [
    "assert get_storage_by_id(hub, instance_default_storage[\"id\"]) is None\n",
    "assert Path(instance[\"cache_dir\"]).exists() == False"
   ]
  },
  {
   "attachments": {},
   "cell_type": "markdown",
   "id": "6493b91c",
   "metadata": {},
   "source": [
    "### For instance with local shared default storage"
   ]
  },
  {
   "cell_type": "code",
   "execution_count": null,
   "id": "e74cb290",
   "metadata": {},
   "outputs": [],
   "source": [
    "load(\"mydata_instance_name\")\n",
    "set_storage(\"mydatapg\")"
   ]
  },
  {
   "cell_type": "code",
   "execution_count": null,
   "id": "2c3c8382",
   "metadata": {},
   "outputs": [],
   "source": [
    "instance_default_storage = get_instance_default_storage(hub, \"pgtest\", testuser1[\"id\"])"
   ]
  },
  {
   "cell_type": "code",
   "execution_count": null,
   "id": "678eb113",
   "metadata": {},
   "outputs": [],
   "source": [
    "delete(\"pgtest\")"
   ]
  },
  {
   "cell_type": "code",
   "execution_count": null,
   "id": "c9b90075",
   "metadata": {},
   "outputs": [],
   "source": [
    "assert get_storage_by_id(hub, instance_default_storage[\"id\"]) is not None"
   ]
  },
  {
   "cell_type": "code",
   "execution_count": null,
   "id": "f21a3a08",
   "metadata": {},
   "outputs": [],
   "source": [
    "hub.auth.sign_out()"
   ]
  }
 ],
 "metadata": {
  "kernelspec": {
   "display_name": "Python 3 (ipykernel)",
   "language": "python",
   "name": "python3"
  },
  "language_info": {
   "codemirror_mode": {
    "name": "ipython",
    "version": 3
   },
   "file_extension": ".py",
   "mimetype": "text/x-python",
   "name": "python",
   "nbconvert_exporter": "python",
   "pygments_lexer": "ipython3",
   "version": "3.9.12"
  },
  "vscode": {
   "interpreter": {
    "hash": "2841734f87827db3a7b3181a6051fe720e9968e703956c2bd6988b5a29362801"
   }
  }
 },
 "nbformat": 4,
 "nbformat_minor": 5
}
