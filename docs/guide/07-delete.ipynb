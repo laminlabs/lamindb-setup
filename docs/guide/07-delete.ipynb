{
 "cells": [
  {
   "attachments": {},
   "cell_type": "markdown",
   "id": "b43d09d5-26d3-440d-b334-9643ec5248e6",
   "metadata": {
    "tags": []
   },
   "source": [
    "# Delete an instance"
   ]
  },
  {
   "cell_type": "code",
   "execution_count": null,
   "id": "33c2bb76-d61f-4866-87e2-780e61600022",
   "metadata": {},
   "outputs": [],
   "source": [
    "from lndb import delete, load, login, init, settings\n",
    "from lndb.dev._settings_store import instance_settings_file\n",
    "from pathlib import Path"
   ]
  },
  {
   "cell_type": "code",
   "execution_count": null,
   "id": "485f5ee1",
   "metadata": {},
   "outputs": [],
   "source": [
    "login(\"testuser1\")"
   ]
  },
  {
   "attachments": {},
   "cell_type": "markdown",
   "id": "cceb6b43",
   "metadata": {},
   "source": [
    "## With local default storage"
   ]
  },
  {
   "cell_type": "code",
   "execution_count": null,
   "id": "2609e58d",
   "metadata": {},
   "outputs": [],
   "source": [
    "init(storage=\"mydata-delete\")\n",
    "settings_file = instance_settings_file(\"mydata-delete\", \"testuser1\")"
   ]
  },
  {
   "cell_type": "markdown",
   "id": "25a13298",
   "metadata": {},
   "source": [
    "Running \n",
    "```\n",
    "!lndb delete mydata\n",
    "```"
   ]
  },
  {
   "cell_type": "code",
   "execution_count": null,
   "id": "8436575d",
   "metadata": {},
   "outputs": [],
   "source": [
    "delete(\"mydata-delete\")"
   ]
  },
  {
   "cell_type": "code",
   "execution_count": null,
   "id": "d2e607c9",
   "metadata": {},
   "outputs": [],
   "source": [
    "assert settings.instance.storage.root.exists() == True\n",
    "assert settings_file.exists() == False"
   ]
  },
  {
   "attachments": {},
   "cell_type": "markdown",
   "id": "3286fbcc",
   "metadata": {},
   "source": [
    "## With remote default storage"
   ]
  },
  {
   "cell_type": "code",
   "execution_count": null,
   "id": "fa1efbce",
   "metadata": {},
   "outputs": [],
   "source": [
    "from datetime import datetime\n",
    "\n",
    "instance_name = f\"lamin.ci.instance.{datetime.now().timestamp()}\""
   ]
  },
  {
   "cell_type": "code",
   "execution_count": null,
   "id": "037f38a3",
   "metadata": {},
   "outputs": [],
   "source": [
    "init(storage=\"s3://lndb-setup-delete-ci\", name=instance_name)"
   ]
  },
  {
   "cell_type": "code",
   "execution_count": null,
   "id": "b2593ef8",
   "metadata": {},
   "outputs": [],
   "source": [
    "delete(instance_name)"
   ]
  },
  {
   "attachments": {},
   "cell_type": "markdown",
   "id": "06a22900",
   "metadata": {},
   "source": [
    "Clean up instances."
   ]
  },
  {
   "cell_type": "code",
   "execution_count": null,
   "id": "9117428e",
   "metadata": {},
   "outputs": [],
   "source": [
    "from lnhub_rest._clean_ci import delete_ci_instances\n",
    "\n",
    "delete_ci_instances()"
   ]
  }
 ],
 "metadata": {
  "kernelspec": {
   "display_name": "base",
   "language": "python",
   "name": "python3"
  },
  "language_info": {
   "codemirror_mode": {
    "name": "ipython",
    "version": 3
   },
   "file_extension": ".py",
   "mimetype": "text/x-python",
   "name": "python",
   "nbconvert_exporter": "python",
   "pygments_lexer": "ipython3",
   "version": "3.9.7 (default, Sep 16 2021, 08:50:36) \n[Clang 10.0.0 ]"
  },
  "vscode": {
   "interpreter": {
    "hash": "40d3a090f54c6569ab1632332b64b2c03c39dcf918b08424e98f38b5ae0af88f"
   }
  }
 },
 "nbformat": 4,
 "nbformat_minor": 5
}
