{
 "cells": [
  {
   "attachments": {},
   "cell_type": "markdown",
   "id": "b43d09d5-26d3-440d-b334-9643ec5248e6",
   "metadata": {
    "tags": []
   },
   "source": [
    "# Load & close an instance"
   ]
  },
  {
   "cell_type": "code",
   "execution_count": null,
   "id": "5fd65a65-5c34-462e-a980-a5aed1a2713f",
   "metadata": {
    "tags": [
     "hide-cell"
    ]
   },
   "outputs": [],
   "source": [
    "!lamin close\n",
    "!yes | lamin delete mydata\n",
    "!lamin init --storage mydata\n",
    "!rm -r ./mydata_new_loc\n",
    "!mv mydata ./mydata_new_loc\n",
    "!lamin close"
   ]
  },
  {
   "cell_type": "code",
   "execution_count": null,
   "id": "33c2bb76-d61f-4866-87e2-780e61600022",
   "metadata": {},
   "outputs": [],
   "source": [
    "import lamindb_setup as ln_setup"
   ]
  },
  {
   "attachments": {},
   "cell_type": "markdown",
   "id": "1be836bb",
   "metadata": {},
   "source": [
    "## Load your own instance by name"
   ]
  },
  {
   "attachments": {},
   "cell_type": "markdown",
   "id": "a5c94e19",
   "metadata": {},
   "source": [
    "If the user is the instance owner, load the instance by name:\n",
    "```\n",
    "ln_setup.load(\"mydata\")  # CLI: lamin load mydata\n",
    "```"
   ]
  },
  {
   "attachments": {},
   "cell_type": "markdown",
   "id": "c878d40a",
   "metadata": {},
   "source": [
    "You can also load with a new default storage location:"
   ]
  },
  {
   "cell_type": "code",
   "execution_count": null,
   "id": "b857dc27",
   "metadata": {},
   "outputs": [],
   "source": [
    "ln_setup.load(\n",
    "    \"mydata\", storage=\"./mydata_new_loc\"\n",
    ")  # CLI: lamin load mydata --storage ./mydata_new_loc"
   ]
  },
  {
   "cell_type": "code",
   "execution_count": null,
   "id": "2276e0be",
   "metadata": {
    "tags": [
     "hide-cell"
    ]
   },
   "outputs": [],
   "source": [
    "from pathlib import Path\n",
    "\n",
    "assert ln_setup.settings.instance.storage.is_cloud == False\n",
    "assert ln_setup.settings.instance.name == \"mydata\"\n",
    "assert (\n",
    "    ln_setup.settings.instance.storage.root.as_posix()\n",
    "    == Path(\"./mydata_new_loc\").resolve().as_posix()\n",
    ")\n",
    "assert (\n",
    "    ln_setup.settings.instance.db\n",
    "    == f\"sqlite:///{Path('./mydata_new_loc').resolve().as_posix()}/mydata.lndb\"\n",
    ")"
   ]
  },
  {
   "attachments": {},
   "cell_type": "markdown",
   "id": "914af9a6",
   "metadata": {},
   "source": [
    "## Load an instance from another account"
   ]
  },
  {
   "attachments": {},
   "cell_type": "markdown",
   "id": "65ab467e",
   "metadata": {},
   "source": [
    "If you have the permission, you can load an instance from another owner:\n",
    "```\n",
    "ln_setup.load(\"<owner>/<instance_name>\")  # lamin load <owner>/<instance_name>\n",
    "```\n"
   ]
  },
  {
   "attachments": {},
   "cell_type": "markdown",
   "id": "0986a5f3",
   "metadata": {},
   "source": [
    "If there is a typo, or you get the account wrong, an error will be raised:"
   ]
  },
  {
   "cell_type": "code",
   "execution_count": null,
   "id": "bc3568ae",
   "metadata": {},
   "outputs": [],
   "source": [
    "import pytest\n",
    "\n",
    "with pytest.raises(RuntimeError):\n",
    "    ln_setup.load(\"testuser2/mydata\")"
   ]
  },
  {
   "attachments": {},
   "cell_type": "markdown",
   "id": "e3701120",
   "metadata": {},
   "source": [
    "## Close an instance"
   ]
  },
  {
   "cell_type": "code",
   "execution_count": null,
   "id": "8e54d8cd",
   "metadata": {},
   "outputs": [],
   "source": [
    "ln_setup.close()"
   ]
  },
  {
   "cell_type": "code",
   "execution_count": null,
   "id": "e8f70b17",
   "metadata": {},
   "outputs": [],
   "source": [
    "!yes | lamin delete mydata"
   ]
  }
 ],
 "metadata": {
  "kernelspec": {
   "display_name": "Python 3 (ipykernel)",
   "language": "python",
   "name": "python3"
  },
  "language_info": {
   "codemirror_mode": {
    "name": "ipython",
    "version": 3
   },
   "file_extension": ".py",
   "mimetype": "text/x-python",
   "name": "python",
   "nbconvert_exporter": "python",
   "pygments_lexer": "ipython3",
   "version": "3.9.15"
  },
  "vscode": {
   "interpreter": {
    "hash": "5c7b89af1651d0b8571dde13640ecdccf7d5a6204171d6ab33e7c296e100e08a"
   }
  }
 },
 "nbformat": 4,
 "nbformat_minor": 5
}
