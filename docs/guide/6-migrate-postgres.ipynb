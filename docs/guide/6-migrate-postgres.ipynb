{
 "cells": [
  {
   "cell_type": "markdown",
   "id": "f90220a1-1d19-4299-a632-b5a0e20480cd",
   "metadata": {},
   "source": [
    "# Test migration for Postgres"
   ]
  },
  {
   "cell_type": "code",
   "execution_count": null,
   "id": "e849879d-a2c7-424a-bad0-6244665e3612",
   "metadata": {},
   "outputs": [],
   "source": [
    "from lndb_setup._test_migrate import migrate_test"
   ]
  },
  {
   "cell_type": "code",
   "execution_count": null,
   "id": "198e4c82-b21e-4c37-81ec-70dde91f957f",
   "metadata": {},
   "outputs": [],
   "source": [
    "%%time\n",
    "migrate_test(\"lnschema_core\", n_instances=1, dialect_name=\"postgresql\")"
   ]
  }
 ],
 "metadata": {
  "kernelspec": {
   "display_name": "Python 3 (ipykernel)",
   "language": "python",
   "name": "python3"
  },
  "language_info": {
   "codemirror_mode": {
    "name": "ipython",
    "version": 3
   },
   "file_extension": ".py",
   "mimetype": "text/x-python",
   "name": "python",
   "nbconvert_exporter": "python",
   "pygments_lexer": "ipython3",
   "version": "3.9.12"
  }
 },
 "nbformat": 4,
 "nbformat_minor": 5
}
