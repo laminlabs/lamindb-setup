{
 "cells": [
  {
   "attachments": {},
   "cell_type": "markdown",
   "metadata": {},
   "source": [
    "# Configure schema modules"
   ]
  },
  {
   "cell_type": "code",
   "execution_count": null,
   "metadata": {
    "tags": [
     "hide-cell"
    ]
   },
   "outputs": [],
   "source": [
    "!lamin close\n",
    "!lamin delete mydata2"
   ]
  },
  {
   "cell_type": "code",
   "execution_count": null,
   "metadata": {},
   "outputs": [],
   "source": [
    "import lamindb_setup as ln_setup"
   ]
  },
  {
   "attachments": {},
   "cell_type": "markdown",
   "metadata": {},
   "source": [
    "The `bionty` schema module maps fundamental biological entities: https://github.com/laminlabs/lnschema-bionty\n",
    "\n",
    "The `lamin1` module is an example for a configurable in-house schema that tracks lab operations: https://github.com/laminlabs/lnschema-lamin1\n",
    "\n",
    "You can configure an arbitrary number of schema modules."
   ]
  },
  {
   "cell_type": "code",
   "execution_count": null,
   "metadata": {},
   "outputs": [],
   "source": [
    "import lamindb_setup\n",
    "\n",
    "if not lamindb_setup._USE_DJANGO:\n",
    "    ln_setup.init(\n",
    "        storage=\"mydata2\", schema=\"bionty,lamin1\"\n",
    "    )  # CLI: lamin init --storage mydata2 --schema bionty,lamin1"
   ]
  },
  {
   "cell_type": "code",
   "execution_count": null,
   "metadata": {},
   "outputs": [],
   "source": [
    "if not lamindb_setup._USE_DJANGO:\n",
    "    ln_setup.schema.draw()"
   ]
  },
  {
   "attachments": {},
   "cell_type": "markdown",
   "metadata": {},
   "source": [
    "For `bionty`, supporting public ontology versions are automatically tracked:"
   ]
  },
  {
   "cell_type": "code",
   "execution_count": null,
   "metadata": {
    "tags": [
     "hide-cell"
    ]
   },
   "outputs": [],
   "source": [
    "from lamindb_setup.dev._setup_knowledge import load_bionty_versions"
   ]
  },
  {
   "cell_type": "code",
   "execution_count": null,
   "metadata": {},
   "outputs": [],
   "source": [
    "if not lamindb_setup._USE_DJANGO:\n",
    "    load_bionty_versions(ln_setup.settings.instance, display=True)"
   ]
  },
  {
   "cell_type": "code",
   "execution_count": null,
   "metadata": {
    "tags": [
     "hide-cell"
    ]
   },
   "outputs": [],
   "source": [
    "if not lamindb_setup._USE_DJANGO:\n",
    "    # clean up\n",
    "    ln_setup.delete(\"mydata2\")\n",
    "    # test with postgres\n",
    "    from laminci.db import setup_local_test_postgres\n",
    "\n",
    "    pgurl = setup_local_test_postgres()\n",
    "    ln_setup.init(storage=\"mydata2\", schema=\"bionty,lamin1\", db=pgurl)\n",
    "    !docker stop pgtest && docker rm pgtest\n",
    "    ln_setup.delete(\"pgtest\")"
   ]
  }
 ],
 "metadata": {
  "kernelspec": {
   "display_name": "Python 3 (ipykernel)",
   "language": "python",
   "name": "python3"
  },
  "language_info": {
   "codemirror_mode": {
    "name": "ipython",
    "version": 3
   },
   "file_extension": ".py",
   "mimetype": "text/x-python",
   "name": "python",
   "nbconvert_exporter": "python",
   "pygments_lexer": "ipython3",
   "version": "3.9.15"
  },
  "vscode": {
   "interpreter": {
    "hash": "61b4062b24dfb1010f420dad5aa3bd73a4d2af47d0ec44eafec465a35a9d7239"
   }
  }
 },
 "nbformat": 4,
 "nbformat_minor": 4
}
