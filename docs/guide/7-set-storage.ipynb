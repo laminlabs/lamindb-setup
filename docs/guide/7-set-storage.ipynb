{
 "cells": [
  {
   "cell_type": "markdown",
   "id": "b43d09d5-26d3-440d-b334-9643ec5248e6",
   "metadata": {
    "tags": []
   },
   "source": [
    "# Test set storage"
   ]
  },
  {
   "cell_type": "code",
   "execution_count": null,
   "id": "33c2bb76-d61f-4866-87e2-780e61600022",
   "metadata": {},
   "outputs": [],
   "source": [
    "from lndb_setup import settings, load\n",
    "from lndb_setup._setup_instance import set_storage\n",
    "import os\n",
    "from lndb_setup._clone import setup_local_test_postgres"
   ]
  },
  {
   "cell_type": "code",
   "execution_count": null,
   "id": "11addea6",
   "metadata": {},
   "outputs": [],
   "source": [
    "load(\"mydata\")"
   ]
  },
  {
   "cell_type": "code",
   "execution_count": null,
   "id": "78bd5582",
   "metadata": {},
   "outputs": [],
   "source": [
    "!lndb set --storage mydata_storage_2"
   ]
  },
  {
   "cell_type": "code",
   "execution_count": null,
   "id": "a616c521",
   "metadata": {},
   "outputs": [],
   "source": [
    "pgurl = setup_local_test_postgres()"
   ]
  },
  {
   "cell_type": "code",
   "execution_count": null,
   "id": "49b9ef11",
   "metadata": {},
   "outputs": [],
   "source": [
    "load(\"mydatapg\")\n",
    "\n",
    "set_storage(\"mydatapg_storage_2\")\n",
    "\n",
    "assert settings.instance.cloud_storage == False\n",
    "assert settings.instance.name == \"mydatapg\"\n",
    "assert settings.instance.storage_root.as_posix() == f\"{os.getcwd()}/mydatapg_storage_2\"\n",
    "assert settings.instance.cache_dir is None\n",
    "assert settings.instance.db == pgurl"
   ]
  },
  {
   "cell_type": "code",
   "execution_count": null,
   "id": "8e481aa0",
   "metadata": {},
   "outputs": [],
   "source": []
  }
 ],
 "metadata": {
  "kernelspec": {
   "display_name": "Python 3.9.12 ('base')",
   "language": "python",
   "name": "python3"
  },
  "language_info": {
   "codemirror_mode": {
    "name": "ipython",
    "version": 3
   },
   "file_extension": ".py",
   "mimetype": "text/x-python",
   "name": "python",
   "nbconvert_exporter": "python",
   "pygments_lexer": "ipython3",
   "version": "3.9.12"
  },
  "vscode": {
   "interpreter": {
    "hash": "2841734f87827db3a7b3181a6051fe720e9968e703956c2bd6988b5a29362801"
   }
  }
 },
 "nbformat": 4,
 "nbformat_minor": 5
}
