{
 "cells": [
  {
   "cell_type": "markdown",
   "id": "b72e681e-1377-4ade-a756-43c5000463ba",
   "metadata": {},
   "source": [
    "# Confirm a migration dialogue"
   ]
  },
  {
   "cell_type": "code",
   "execution_count": null,
   "id": "d296305f-abf4-45d5-985c-665651c8b2de",
   "metadata": {},
   "outputs": [],
   "source": [
    "from nbproject import header, publish\n",
    "\n",
    "header()"
   ]
  },
  {
   "cell_type": "code",
   "execution_count": null,
   "id": "e71b0720",
   "metadata": {},
   "outputs": [],
   "source": [
    "!pip install --no-deps lnschema_core==0.7.0"
   ]
  },
  {
   "cell_type": "code",
   "execution_count": null,
   "id": "469da610-51d0-479a-9c6a-b3526f72222f",
   "metadata": {},
   "outputs": [],
   "source": [
    "!lndb init --storage migtest"
   ]
  },
  {
   "cell_type": "code",
   "execution_count": null,
   "id": "b6eda035",
   "metadata": {},
   "outputs": [],
   "source": [
    "!pip install --no-deps lnschema_core==0.7.1"
   ]
  },
  {
   "cell_type": "code",
   "execution_count": null,
   "id": "7efccf68",
   "metadata": {},
   "outputs": [],
   "source": [
    "!lndb load --name migtest"
   ]
  }
 ],
 "metadata": {
  "kernelspec": {
   "display_name": "Python 3 (ipykernel)",
   "language": "python",
   "name": "python3"
  },
  "language_info": {
   "codemirror_mode": {
    "name": "ipython",
    "version": 3
   },
   "file_extension": ".py",
   "mimetype": "text/x-python",
   "name": "python",
   "nbconvert_exporter": "python",
   "pygments_lexer": "ipython3",
   "version": "3.9.12"
  },
  "nbproject": {
   "id": "P73oWAwjze7v",
   "parent": null,
   "pypackage": null,
   "time_init": "2022-09-15T12:46:46.235316+00:00",
   "version": "draft"
  },
  "vscode": {
   "interpreter": {
    "hash": "2775e555cdc2d728c54aa22130c79afb1fa4da64f22f2fc6dcc2aa346c4e0672"
   }
  }
 },
 "nbformat": 4,
 "nbformat_minor": 5
}
