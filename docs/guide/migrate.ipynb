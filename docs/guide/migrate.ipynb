{
 "cells": [
  {
   "cell_type": "markdown",
   "id": "b72e681e-1377-4ade-a756-43c5000463ba",
   "metadata": {},
   "source": [
    "# Confirm a migration dialogue"
   ]
  },
  {
   "cell_type": "code",
   "execution_count": null,
   "id": "d296305f-abf4-45d5-985c-665651c8b2de",
   "metadata": {},
   "outputs": [],
   "source": [
    "from nbproject import header, publish\n",
    "import lndb_setup\n",
    "\n",
    "header()"
   ]
  },
  {
   "cell_type": "markdown",
   "id": "7efccf68",
   "metadata": {},
   "source": [
    "Let us trigger a migration to the most recent version, by translating the following command-line call\n",
    "```\n",
    "lndb load --name migtest\n",
    "```\n",
    "into this API call:"
   ]
  },
  {
   "cell_type": "code",
   "execution_count": null,
   "id": "bcfe4936",
   "metadata": {},
   "outputs": [],
   "source": [
    "# assert lndb_setup.load(\"migtest\") == \"migrate-success\""
   ]
  },
  {
   "cell_type": "code",
   "execution_count": null,
   "id": "bc3ff1b0-318f-46dc-90f6-c27a95b43b4c",
   "metadata": {},
   "outputs": [],
   "source": [
    "commands = \"\"\"ALTER TABLE dobject ADD COLUMN suffix VARCHAR;\n",
    "\n",
    "CREATE INDEX ix_dobject_suffix ON dobject (suffix);\n",
    "\n",
    "update dobject set suffix = file_suffix;\n",
    "\n",
    "DROP INDEX ix_dobject_file_suffix;\n",
    "\n",
    "ALTER TABLE dobject DROP COLUMN file_suffix;\"\"\".split(\n",
    "    \"\\n\\n\"\n",
    ")"
   ]
  },
  {
   "cell_type": "code",
   "execution_count": null,
   "id": "cbefc1e7-14e1-40e9-b82a-100b779e2dc8",
   "metadata": {},
   "outputs": [],
   "source": [
    "commands"
   ]
  },
  {
   "cell_type": "code",
   "execution_count": null,
   "id": "d6ce7597-32df-46f6-b856-e78f4f2fcfba",
   "metadata": {},
   "outputs": [],
   "source": [
    "import sqlite3\n",
    "\n",
    "con = sqlite3.connect(lndb_setup.settings.instance._sqlite_file)"
   ]
  },
  {
   "cell_type": "code",
   "execution_count": null,
   "id": "17282f90-6461-44da-a778-f1151ddb0b0b",
   "metadata": {},
   "outputs": [],
   "source": [
    "cur = con.cursor()"
   ]
  },
  {
   "cell_type": "code",
   "execution_count": null,
   "id": "55e2b4e3-f55d-4e34-a0c9-4c245e2312e9",
   "metadata": {},
   "outputs": [],
   "source": [
    "for command in commands:\n",
    "    con.execute(command)\n",
    "    con.commit()"
   ]
  },
  {
   "cell_type": "markdown",
   "id": "c568aba4",
   "metadata": {},
   "source": [
    "Clean up."
   ]
  },
  {
   "cell_type": "code",
   "execution_count": null,
   "id": "2ea3bbf4",
   "metadata": {},
   "outputs": [],
   "source": [
    "lndb_setup.settings.instance._sqlite_file.unlink()"
   ]
  }
 ],
 "metadata": {
  "kernelspec": {
   "display_name": "Python 3 (ipykernel)",
   "language": "python",
   "name": "python3"
  },
  "language_info": {
   "codemirror_mode": {
    "name": "ipython",
    "version": 3
   },
   "file_extension": ".py",
   "mimetype": "text/x-python",
   "name": "python",
   "nbconvert_exporter": "python",
   "pygments_lexer": "ipython3",
   "version": "3.9.12"
  },
  "nbproject": {
   "id": "irkNHjIwWi40",
   "parent": null,
   "pypackage": null,
   "time_init": "2022-09-20T13:34:49.457406+00:00",
   "version": "draft"
  },
  "vscode": {
   "interpreter": {
    "hash": "2775e555cdc2d728c54aa22130c79afb1fa4da64f22f2fc6dcc2aa346c4e0672"
   }
  }
 },
 "nbformat": 4,
 "nbformat_minor": 5
}
