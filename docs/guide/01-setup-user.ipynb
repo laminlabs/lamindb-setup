{
 "cells": [
  {
   "attachments": {},
   "cell_type": "markdown",
   "metadata": {},
   "source": [
    "# Sign up and log in"
   ]
  },
  {
   "cell_type": "code",
   "execution_count": null,
   "metadata": {},
   "outputs": [],
   "source": [
    "import lamindb as ln"
   ]
  },
  {
   "attachments": {},
   "cell_type": "markdown",
   "metadata": {
    "tags": []
   },
   "source": [
    "## Sign up"
   ]
  },
  {
   "attachments": {},
   "cell_type": "markdown",
   "metadata": {},
   "source": [
    "### Your user account does not yet exist"
   ]
  },
  {
   "attachments": {},
   "cell_type": "markdown",
   "metadata": {},
   "source": [
    "You only need to sign up once. For a non-signed-up email, on the CLI, call\n",
    "```\n",
    "!lamin signup testuser1@lamin.ai\n",
    "```\n",
    "and within Python, call\n",
    "```\n",
    "ln.setup.signup(\"testuser1@lamin.ai\")\n",
    "```\n",
    "\n",
    "This prints\n",
    "```\n",
    "Please *confirm* the sign-up email. After that, login with `lamin login testuser1@lamin.ai`!\n",
    "\n",
    "Generated login password: cEvcwMJFX4OwbsYVaMt2Os6GxxGgDUlBGILs2RyS\n",
    "Email & password are cached: /Users/testuser1/.lndb/user-testuser1@lamin.ai.env!\n",
    "Going forward, credentials are auto-loaded. In case of loss, recover your password via email: https://lamin.ai\n",
    "```"
   ]
  },
  {
   "attachments": {},
   "cell_type": "markdown",
   "metadata": {},
   "source": [
    "### Your user account exists"
   ]
  },
  {
   "attachments": {},
   "cell_type": "markdown",
   "metadata": {},
   "source": [
    "If the user tries to sign up again, an error message is raised:\n",
    "\n",
    "```\n",
    "!lamin signup testuser1@lamin.ai\n",
    "```"
   ]
  },
  {
   "cell_type": "code",
   "execution_count": null,
   "metadata": {},
   "outputs": [],
   "source": [
    "assert ln.setup.signup(\"testuser1@lamin.ai\") == \"user-exists\""
   ]
  },
  {
   "attachments": {},
   "cell_type": "markdown",
   "metadata": {},
   "source": [
    "### You did not confim the email and try to sign up again"
   ]
  },
  {
   "attachments": {},
   "cell_type": "markdown",
   "metadata": {},
   "source": [
    "This raises the following error.\n",
    "```\n",
    "RuntimeError: It seems you already signed up with this email. Please click on the link in the confirmation email that you should have received from lamin.ai.\n",
    "```\n",
    "\n",
    "Depending on timing, it might also raise a `429 Too Many Requests` error."
   ]
  },
  {
   "attachments": {},
   "cell_type": "markdown",
   "metadata": {
    "tags": []
   },
   "source": [
    "## Log in"
   ]
  },
  {
   "attachments": {},
   "cell_type": "markdown",
   "metadata": {},
   "source": [
    "Log in with your email:"
   ]
  },
  {
   "cell_type": "code",
   "execution_count": null,
   "metadata": {},
   "outputs": [],
   "source": [
    "ln.setup.login(\n",
    "    \"testuser1@lamin.ai\", password=\"cEvcwMJFX4OwbsYVaMt2Os6GxxGgDUlBGILs2RyS\"\n",
    ")  # CLI: lamin login \"testuser1@lamin.ai\" --password \"cEvcwMJFX4OwbsYVaMt2Os6GxxGgDUlBGILs2RyS\""
   ]
  },
  {
   "cell_type": "code",
   "execution_count": null,
   "metadata": {},
   "outputs": [],
   "source": [
    "ln.setup.login(\n",
    "    \"testuser1\", password=\"cEvcwMJFX4OwbsYVaMt2Os6GxxGgDUlBGILs2RyS\"\n",
    ")  # CLI: lamin login testuser1 --password \"cEvcwMJFX4OwbsYVaMt2Os6GxxGgDUlBGILs2RyS\""
   ]
  },
  {
   "attachments": {},
   "cell_type": "markdown",
   "metadata": {},
   "source": [
    "You don't have to provide your password the second time as it's cached:"
   ]
  },
  {
   "cell_type": "code",
   "execution_count": null,
   "metadata": {},
   "outputs": [],
   "source": [
    "ln.setup.login(\"testuser1\")  # CLI: lamin login testuser1"
   ]
  },
  {
   "cell_type": "code",
   "execution_count": null,
   "metadata": {
    "tags": [
     "hide-cell"
    ]
   },
   "outputs": [],
   "source": [
    "assert ln.setup.settings.user.email == \"testuser1@lamin.ai\"\n",
    "assert ln.setup.settings.user.id == \"DzTjkKse\"\n",
    "assert ln.setup.settings.user.handle == \"testuser1\"\n",
    "\n",
    "import jwt\n",
    "\n",
    "access_token_payload = jwt.decode(\n",
    "    ln.setup.settings.user.access_token,\n",
    "    algorithms=\"HS256\",\n",
    "    options={\"verify_signature\": False},\n",
    ")\n",
    "assert access_token_payload[\"email\"] == \"testuser1@lamin.ai\""
   ]
  }
 ],
 "metadata": {
  "kernelspec": {
   "display_name": "Python 3 (ipykernel)",
   "language": "python",
   "name": "python3"
  },
  "language_info": {
   "codemirror_mode": {
    "name": "ipython",
    "version": 3
   },
   "file_extension": ".py",
   "mimetype": "text/x-python",
   "name": "python",
   "nbconvert_exporter": "python",
   "pygments_lexer": "ipython3",
   "version": "3.9.15"
  },
  "vscode": {
   "interpreter": {
    "hash": "2775e555cdc2d728c54aa22130c79afb1fa4da64f22f2fc6dcc2aa346c4e0672"
   }
  }
 },
 "nbformat": 4,
 "nbformat_minor": 4
}
