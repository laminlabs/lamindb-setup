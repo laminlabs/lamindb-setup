{
 "cells": [
  {
   "cell_type": "markdown",
   "id": "b43d09d5-26d3-440d-b334-9643ec5248e6",
   "metadata": {
    "tags": []
   },
   "source": [
    "# Deleting an instance"
   ]
  },
  {
   "cell_type": "code",
   "execution_count": null,
   "id": "33c2bb76-d61f-4866-87e2-780e61600022",
   "metadata": {},
   "outputs": [],
   "source": [
    "from lndb_setup import delete, load, login, init, settings\n",
    "from lndb_setup._settings_store import instance_settings_file\n",
    "from pathlib import Path"
   ]
  },
  {
   "cell_type": "code",
   "execution_count": null,
   "id": "485f5ee1",
   "metadata": {},
   "outputs": [],
   "source": [
    "login(\"testuser1\")"
   ]
  },
  {
   "cell_type": "markdown",
   "id": "914af9a6",
   "metadata": {},
   "source": [
    "## Delete an instance"
   ]
  },
  {
   "cell_type": "markdown",
   "id": "cceb6b43",
   "metadata": {},
   "source": [
    "### With local default storage"
   ]
  },
  {
   "cell_type": "code",
   "execution_count": null,
   "id": "2609e58d",
   "metadata": {},
   "outputs": [],
   "source": [
    "init(storage=\"mydata-delete\")\n",
    "settings_file = instance_settings_file(\"mydata-delete\", \"testuser1\")\n",
    "instance_default_storage_root = settings.instance.storage.root"
   ]
  },
  {
   "cell_type": "markdown",
   "id": "25a13298",
   "metadata": {},
   "source": [
    "Running \n",
    "```\n",
    "!lndb delete mydata\n",
    "```"
   ]
  },
  {
   "cell_type": "code",
   "execution_count": null,
   "id": "8436575d",
   "metadata": {},
   "outputs": [],
   "source": [
    "delete(\"mydata-delete\")"
   ]
  },
  {
   "cell_type": "code",
   "execution_count": null,
   "id": "d2e607c9",
   "metadata": {},
   "outputs": [],
   "source": [
    "assert Path(instance_default_storage_root).exists() == False\n",
    "assert settings_file.exists() == False"
   ]
  },
  {
   "cell_type": "markdown",
   "id": "3286fbcc",
   "metadata": {},
   "source": [
    "### With remote default storage"
   ]
  },
  {
   "cell_type": "code",
   "execution_count": null,
   "id": "fa1efbce",
   "metadata": {},
   "outputs": [],
   "source": [
    "from datetime import datetime\n",
    "\n",
    "instance_name = f\"lndb-setup-delete-ci-{datetime.now().timestamp()}\""
   ]
  },
  {
   "cell_type": "code",
   "execution_count": null,
   "id": "037f38a3",
   "metadata": {},
   "outputs": [],
   "source": [
    "init(storage=\"s3://lndb-setup-delete-ci\", name=instance_name)"
   ]
  },
  {
   "cell_type": "code",
   "execution_count": null,
   "id": "b2593ef8",
   "metadata": {},
   "outputs": [],
   "source": [
    "delete(instance_name)"
   ]
  },
  {
   "cell_type": "markdown",
   "id": "06a22900",
   "metadata": {},
   "source": [
    "## Clean up instances"
   ]
  },
  {
   "attachments": {},
   "cell_type": "markdown",
   "id": "cfb13a6a",
   "metadata": {},
   "source": [
    "The following cleans up all instances including those from failed CI runs."
   ]
  },
  {
   "cell_type": "code",
   "execution_count": null,
   "id": "9117428e",
   "metadata": {},
   "outputs": [],
   "source": [
    "from lnhub_rest._delete_instance_sbclient import delete_ci_instances\n",
    "\n",
    "delete_ci_instances()"
   ]
  }
 ],
 "metadata": {
  "kernelspec": {
   "display_name": "Python 3 (ipykernel)",
   "language": "python",
   "name": "python3"
  },
  "language_info": {
   "codemirror_mode": {
    "name": "ipython",
    "version": 3
   },
   "file_extension": ".py",
   "mimetype": "text/x-python",
   "name": "python",
   "nbconvert_exporter": "python",
   "pygments_lexer": "ipython3",
   "version": "3.9.13"
  },
  "vscode": {
   "interpreter": {
    "hash": "2841734f87827db3a7b3181a6051fe720e9968e703956c2bd6988b5a29362801"
   }
  }
 },
 "nbformat": 4,
 "nbformat_minor": 5
}
