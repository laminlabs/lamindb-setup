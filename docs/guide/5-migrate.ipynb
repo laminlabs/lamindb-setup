{
 "cells": [
  {
   "cell_type": "markdown",
   "id": "b72e681e-1377-4ade-a756-43c5000463ba",
   "metadata": {},
   "source": [
    "# Test a migration"
   ]
  },
  {
   "cell_type": "code",
   "execution_count": null,
   "id": "d296305f-abf4-45d5-985c-665651c8b2de",
   "metadata": {},
   "outputs": [],
   "source": [
    "from nbproject import header, publish\n",
    "import lndb_setup\n",
    "\n",
    "header()"
   ]
  },
  {
   "cell_type": "code",
   "execution_count": null,
   "id": "e71b0720",
   "metadata": {},
   "outputs": [],
   "source": [
    "!pip install --no-deps lnschema_core==0.14.0\n",
    "!pip install --no-deps lnschema_bionty==0.4.4\n",
    "!pip install --no-deps lnschema_wetlab==0.7.2"
   ]
  },
  {
   "cell_type": "markdown",
   "id": "baeaaa5b-f282-4e33-95b1-014c121707c8",
   "metadata": {},
   "source": [
    "Create an instance with old schema modules:"
   ]
  },
  {
   "cell_type": "code",
   "execution_count": null,
   "id": "3d7e5bf7",
   "metadata": {},
   "outputs": [],
   "source": [
    "!lndb init --storage \"outdated\" --schema \"bionty,wetlab\""
   ]
  },
  {
   "cell_type": "code",
   "execution_count": null,
   "id": "f1727235-d974-43f0-92c1-9dccb6d64255",
   "metadata": {},
   "outputs": [],
   "source": [
    "from lndb_setup._clone import clone_test"
   ]
  },
  {
   "cell_type": "markdown",
   "id": "0853980b-1acd-405c-8639-e96781cf0360",
   "metadata": {},
   "source": [
    "Clone the old db in the instance table to a test instance:"
   ]
  },
  {
   "cell_type": "code",
   "execution_count": null,
   "id": "be50555c-cd46-497b-82ce-ee3fa1d0ee26",
   "metadata": {},
   "outputs": [],
   "source": [
    "clone_test()"
   ]
  },
  {
   "cell_type": "markdown",
   "id": "87651e14-fd5a-46da-a2a8-84704e823ea9",
   "metadata": {},
   "source": [
    "The test instance has the same name as the reference instance, but with \"_test\" appended:"
   ]
  },
  {
   "cell_type": "code",
   "execution_count": null,
   "id": "90745f95-910e-4027-b293-ea9e83733c09",
   "metadata": {},
   "outputs": [],
   "source": [
    "!lndb init --storage \"outdated_test\" --schema \"bionty,wetlab\""
   ]
  },
  {
   "cell_type": "markdown",
   "id": "72de543c",
   "metadata": {},
   "source": [
    "Now go back to the latest version of the schema."
   ]
  },
  {
   "cell_type": "code",
   "execution_count": null,
   "id": "3ed412de",
   "metadata": {},
   "outputs": [],
   "source": [
    "!pip install --no-deps lnschema_core==0.16.0\n",
    "!pip install --no-deps lnschema_bionty==0.5.0\n",
    "!pip install --no-deps lnschema_wetlab==0.8.0"
   ]
  },
  {
   "cell_type": "markdown",
   "id": "7efccf68",
   "metadata": {},
   "source": [
    "Let us trigger a migration to the most recent version, by translating the following command-line call\n",
    "```\n",
    "lndb load outdated_test\n",
    "```\n",
    "into this API call:"
   ]
  },
  {
   "cell_type": "code",
   "execution_count": null,
   "id": "bcfe4936",
   "metadata": {},
   "outputs": [],
   "source": [
    "assert lndb_setup.load(\"outdated_test\") == \"migrate-success\""
   ]
  },
  {
   "cell_type": "markdown",
   "id": "c568aba4",
   "metadata": {},
   "source": [
    "Clean up."
   ]
  },
  {
   "cell_type": "code",
   "execution_count": null,
   "id": "2ea3bbf4",
   "metadata": {},
   "outputs": [],
   "source": [
    "lndb_setup.settings.instance._sqlite_file.unlink()"
   ]
  }
 ],
 "metadata": {
  "kernelspec": {
   "display_name": "Python 3 (ipykernel)",
   "language": "python",
   "name": "python3"
  },
  "language_info": {
   "codemirror_mode": {
    "name": "ipython",
    "version": 3
   },
   "file_extension": ".py",
   "mimetype": "text/x-python",
   "name": "python",
   "nbconvert_exporter": "python",
   "pygments_lexer": "ipython3",
   "version": "3.9.12"
  },
  "nbproject": {
   "id": "irkNHjIwWi40",
   "parent": null,
   "pypackage": null,
   "time_init": "2022-09-20T13:34:49.457406+00:00",
   "version": "draft"
  },
  "vscode": {
   "interpreter": {
    "hash": "2775e555cdc2d728c54aa22130c79afb1fa4da64f22f2fc6dcc2aa346c4e0672"
   }
  }
 },
 "nbformat": 4,
 "nbformat_minor": 5
}
