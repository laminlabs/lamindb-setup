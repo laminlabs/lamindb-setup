{
 "cells": [
  {
   "cell_type": "markdown",
   "id": "b72e681e-1377-4ade-a756-43c5000463ba",
   "metadata": {},
   "source": [
    "# Confirm a migration dialogue"
   ]
  },
  {
   "cell_type": "code",
   "execution_count": null,
   "id": "d296305f-abf4-45d5-985c-665651c8b2de",
   "metadata": {},
   "outputs": [],
   "source": [
    "from nbproject import header, publish\n",
    "import lndb_setup\n",
    "\n",
    "header()"
   ]
  },
  {
   "cell_type": "code",
   "execution_count": null,
   "id": "e71b0720",
   "metadata": {},
   "outputs": [],
   "source": [
    "!pip install --no-deps lnschema_core==0.14.0\n",
    "!pip install --no-deps lnschema_bionty==0.4.4\n",
    "!pip install --no-deps lnschema_wetlab==0.7.2\n",
    "!pip install --no-deps lnbfx==0.4.5"
   ]
  },
  {
   "cell_type": "code",
   "execution_count": null,
   "id": "3d7e5bf7",
   "metadata": {},
   "outputs": [],
   "source": [
    "!lndb init --storage migtest --schema bionty,wetlab,bfx"
   ]
  },
  {
   "cell_type": "markdown",
   "id": "72de543c",
   "metadata": {},
   "source": [
    "Now go back to the latest version of the schema."
   ]
  },
  {
   "cell_type": "code",
   "execution_count": null,
   "id": "3ed412de",
   "metadata": {},
   "outputs": [],
   "source": [
    "!pip install --no-deps lnschema_core -U\n",
    "!pip install --no-deps lnschema_bionty -U\n",
    "!pip install --no-deps lnschema_wetlab -U\n",
    "!pip install --no-deps lnbfx -U"
   ]
  },
  {
   "cell_type": "markdown",
   "id": "7efccf68",
   "metadata": {},
   "source": [
    "Let us trigger a migration to the most recent version, by translating the following command-line call\n",
    "```\n",
    "lndb load migtest\n",
    "```\n",
    "into this API call:"
   ]
  },
  {
   "cell_type": "code",
   "execution_count": null,
   "id": "bcfe4936",
   "metadata": {},
   "outputs": [],
   "source": [
    "assert lndb_setup.load(\"migtest\") == \"migrate-success\""
   ]
  },
  {
   "cell_type": "markdown",
   "id": "c568aba4",
   "metadata": {},
   "source": [
    "Clean up."
   ]
  },
  {
   "cell_type": "code",
   "execution_count": null,
   "id": "2ea3bbf4",
   "metadata": {},
   "outputs": [],
   "source": [
    "lndb_setup.settings.instance._sqlite_file.unlink()"
   ]
  }
 ],
 "metadata": {
  "kernelspec": {
   "display_name": "Python 3 (ipykernel)",
   "language": "python",
   "name": "python3"
  },
  "language_info": {
   "codemirror_mode": {
    "name": "ipython",
    "version": 3
   },
   "file_extension": ".py",
   "mimetype": "text/x-python",
   "name": "python",
   "nbconvert_exporter": "python",
   "pygments_lexer": "ipython3",
   "version": "3.9.12"
  },
  "nbproject": {
   "id": "irkNHjIwWi40",
   "parent": null,
   "pypackage": null,
   "time_init": "2022-09-20T13:34:49.457406+00:00",
   "version": "draft"
  },
  "vscode": {
   "interpreter": {
    "hash": "2775e555cdc2d728c54aa22130c79afb1fa4da64f22f2fc6dcc2aa346c4e0672"
   }
  }
 },
 "nbformat": 4,
 "nbformat_minor": 5
}
