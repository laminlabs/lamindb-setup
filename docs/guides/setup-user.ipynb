{
 "cells": [
  {
   "cell_type": "markdown",
   "metadata": {},
   "source": [
    "# Setup a user"
   ]
  },
  {
   "cell_type": "code",
   "execution_count": null,
   "metadata": {},
   "outputs": [],
   "source": [
    "from lndb_setup import log_in_user, sign_up_user\n",
    "from lndb_setup import settings"
   ]
  },
  {
   "cell_type": "markdown",
   "metadata": {
    "tags": []
   },
   "source": [
    "## Sign up"
   ]
  },
  {
   "cell_type": "markdown",
   "metadata": {},
   "source": [
    "### The user does not yet exist"
   ]
  },
  {
   "cell_type": "markdown",
   "metadata": {},
   "source": [
    "You only need to sign up a single time! For a non-signed-up email, call\n",
    "```\n",
    "!lndb signup --email raspbear@gmx.de\n",
    "```\n",
    "which prints\n",
    "```\n",
    "Please *confirm* the sign-up email. After that, proceed to `lndb init`!\n",
    "\n",
    "Generated login secret: O6A5bqHzhERTMpGHXxEdbsTrEIt4a3Dy3AWdrWQR.\n",
    "Email & secret persist in: /Users/falexwolf/.lndb/lndb.env.\n",
    "Going forward, credentials are auto-loaded. In case of loss, you can always recover your secret via email.\n",
    "```"
   ]
  },
  {
   "cell_type": "markdown",
   "metadata": {},
   "source": [
    "### The user confirmed the email and hence, is signed up"
   ]
  },
  {
   "cell_type": "markdown",
   "metadata": {},
   "source": [
    "If the user tries to sign up again, an error message is raised:"
   ]
  },
  {
   "cell_type": "code",
   "execution_count": null,
   "metadata": {},
   "outputs": [],
   "source": [
    "!lndb signup --email raspbear@gmx.de"
   ]
  },
  {
   "cell_type": "code",
   "execution_count": null,
   "metadata": {},
   "outputs": [],
   "source": [
    "sign_up_user(email=\"raspbear@gmx.de\") == \"user-exists\""
   ]
  },
  {
   "cell_type": "markdown",
   "metadata": {},
   "source": [
    "### The user did not confim the email and tries to sign up again"
   ]
  },
  {
   "cell_type": "markdown",
   "metadata": {},
   "source": [
    "This raises the following error. It was a bit tricky to implement, see {doc}`../notes/multiple-sign-ups-same-email`.\n",
    "```\n",
    "RuntimeError: It seems you already signed up with this email. Please click on the link in the confirmation email that you should have received from lamin.ai.\n",
    "```\n",
    "\n",
    "Depending on timing, it might also raise a `429 Too Many Requests` error, which is fine, too."
   ]
  },
  {
   "cell_type": "markdown",
   "metadata": {
    "tags": []
   },
   "source": [
    "## Login"
   ]
  },
  {
   "cell_type": "markdown",
   "metadata": {},
   "source": [
    "Running \n",
    "```\n",
    "lndb login --email \"raspbear@gmx.de\" --secret \"MmR4YuQEyb0yxu7dAwJZTjLzR1Az2lN4Q4IduDlO\"\n",
    "```\n",
    "\n",
    "on the command line runs the following function:"
   ]
  },
  {
   "cell_type": "code",
   "execution_count": null,
   "metadata": {},
   "outputs": [],
   "source": [
    "log_in_user(email=\"raspbear@gmx.de\", secret=\"MmR4YuQEyb0yxu7dAwJZTjLzR1Az2lN4Q4IduDlO\")"
   ]
  },
  {
   "cell_type": "markdown",
   "metadata": {},
   "source": [
    "## Check settings"
   ]
  },
  {
   "cell_type": "code",
   "execution_count": null,
   "metadata": {},
   "outputs": [],
   "source": [
    "settings.user"
   ]
  },
  {
   "cell_type": "code",
   "execution_count": null,
   "metadata": {},
   "outputs": [],
   "source": [
    "assert settings.user.user_email == \"raspbear@gmx.de\"\n",
    "assert settings.user.user_id == \"9ypQ1yrW\""
   ]
  }
 ],
 "metadata": {
  "kernelspec": {
   "display_name": "Python 3 (ipykernel)",
   "language": "python",
   "name": "python3"
  },
  "language_info": {
   "codemirror_mode": {
    "name": "ipython",
    "version": 3
   },
   "file_extension": ".py",
   "mimetype": "text/x-python",
   "name": "python",
   "nbconvert_exporter": "python",
   "pygments_lexer": "ipython3",
   "version": "3.9.12"
  },
  "vscode": {
   "interpreter": {
    "hash": "2775e555cdc2d728c54aa22130c79afb1fa4da64f22f2fc6dcc2aa346c4e0672"
   }
  }
 },
 "nbformat": 4,
 "nbformat_minor": 4
}
