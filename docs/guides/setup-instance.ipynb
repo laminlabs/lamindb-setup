{
 "cells": [
  {
   "cell_type": "markdown",
   "metadata": {},
   "source": [
    "# Setup an instance with a default schema"
   ]
  },
  {
   "cell_type": "code",
   "execution_count": null,
   "metadata": {},
   "outputs": [],
   "source": [
    "from lndb_setup import load_or_create_instance_settings, load_or_create_user_settings\n",
    "from lndb_setup._setup_instance import init_instance, load_instance"
   ]
  },
  {
   "cell_type": "markdown",
   "metadata": {},
   "source": [
    "We assume we already setup user \"raspbear@gmx.de\"."
   ]
  },
  {
   "cell_type": "code",
   "execution_count": null,
   "metadata": {},
   "outputs": [],
   "source": [
    "!lndb login --email \"raspbear@gmx.de\""
   ]
  },
  {
   "cell_type": "markdown",
   "metadata": {
    "tags": []
   },
   "source": [
    "## Configure LaminDB instance"
   ]
  },
  {
   "cell_type": "markdown",
   "metadata": {},
   "source": [
    "### Configure with local storage"
   ]
  },
  {
   "cell_type": "markdown",
   "metadata": {},
   "source": [
    "```{note}\n",
    "\n",
    "After the first time sign up, the following prints an additional first line as below.\n",
    "\n",
    "```\n",
    "\n",
    "```\n",
    "Completing user sign up. Only happens once!\n",
    "Created lndb instance: mydata/mydata.lndb\n",
    "```"
   ]
  },
  {
   "cell_type": "markdown",
   "metadata": {},
   "source": [
    "Running the following on the command line\n",
    "```\n",
    "lndb init --storage \"mydata\"\n",
    "```\n",
    "runs this API:"
   ]
  },
  {
   "cell_type": "code",
   "execution_count": null,
   "metadata": {},
   "outputs": [],
   "source": [
    "init_instance(storage=\"mydata\", dbconfig=\"sqlite\")"
   ]
  },
  {
   "cell_type": "code",
   "execution_count": null,
   "metadata": {},
   "outputs": [],
   "source": [
    "instance_settings = load_or_create_instance_settings()\n",
    "user_settings = load_or_create_user_settings()"
   ]
  },
  {
   "cell_type": "code",
   "execution_count": null,
   "metadata": {},
   "outputs": [],
   "source": [
    "instance_settings"
   ]
  },
  {
   "cell_type": "code",
   "execution_count": null,
   "metadata": {},
   "outputs": [],
   "source": [
    "user_settings"
   ]
  },
  {
   "cell_type": "code",
   "execution_count": null,
   "metadata": {},
   "outputs": [],
   "source": [
    "instance_settings.instance_name"
   ]
  },
  {
   "cell_type": "code",
   "execution_count": null,
   "metadata": {
    "tags": [
     "hide-cell"
    ]
   },
   "outputs": [],
   "source": [
    "assert instance_settings.cloud_storage == False\n",
    "assert instance_settings.instance_name == \"mydata\"\n",
    "assert user_settings.user_secret == \"MmR4YuQEyb0yxu7dAwJZTjLzR1Az2lN4Q4IduDlO\"\n",
    "assert user_settings.user_id == \"9ypQ1yrW\"\n",
    "assert instance_settings.storage_dir.as_posix() == \"mydata\"\n",
    "assert instance_settings.cache_dir is None\n",
    "assert instance_settings.db == \"sqlite:///mydata/mydata.lndb\"\n",
    "assert user_settings.user_email == \"raspbear@gmx.de\""
   ]
  },
  {
   "cell_type": "markdown",
   "metadata": {},
   "source": [
    "Remove the test directory:"
   ]
  },
  {
   "cell_type": "code",
   "execution_count": null,
   "metadata": {
    "tags": [
     "hide-cell"
    ]
   },
   "outputs": [],
   "source": [
    "instance_settings._sqlite_file.unlink()\n",
    "instance_settings.storage_dir.rmdir()"
   ]
  },
  {
   "cell_type": "markdown",
   "metadata": {},
   "source": [
    "### Configure with cloud storage"
   ]
  },
  {
   "cell_type": "markdown",
   "metadata": {},
   "source": [
    "Now on the cloud (`lndb init --storage \"s3://lamin0\"`):"
   ]
  },
  {
   "cell_type": "code",
   "execution_count": null,
   "metadata": {},
   "outputs": [],
   "source": [
    "init_instance(storage=\"s3://lamin0\", dbconfig=\"sqlite\")"
   ]
  },
  {
   "cell_type": "code",
   "execution_count": null,
   "metadata": {},
   "outputs": [],
   "source": [
    "instance_settings = load_or_create_instance_settings()\n",
    "user_settings = load_or_create_user_settings()"
   ]
  },
  {
   "cell_type": "code",
   "execution_count": null,
   "metadata": {},
   "outputs": [],
   "source": [
    "instance_settings"
   ]
  },
  {
   "cell_type": "code",
   "execution_count": null,
   "metadata": {},
   "outputs": [],
   "source": [
    "user_settings"
   ]
  },
  {
   "cell_type": "code",
   "execution_count": null,
   "metadata": {},
   "outputs": [],
   "source": [
    "instance_settings.instance_name"
   ]
  },
  {
   "cell_type": "code",
   "execution_count": null,
   "metadata": {},
   "outputs": [],
   "source": [
    "instance_settings.cache_dir"
   ]
  },
  {
   "cell_type": "code",
   "execution_count": null,
   "metadata": {},
   "outputs": [],
   "source": [
    "instance_settings.db"
   ]
  },
  {
   "cell_type": "code",
   "execution_count": null,
   "metadata": {},
   "outputs": [],
   "source": [
    "instance_settings._sqlite_file"
   ]
  },
  {
   "cell_type": "code",
   "execution_count": null,
   "metadata": {},
   "outputs": [],
   "source": [
    "instance_settings._sqlite_file_local"
   ]
  },
  {
   "cell_type": "code",
   "execution_count": null,
   "metadata": {},
   "outputs": [],
   "source": [
    "assert instance_settings.cloud_storage == True\n",
    "assert user_settings.user_secret == \"MmR4YuQEyb0yxu7dAwJZTjLzR1Az2lN4Q4IduDlO\"\n",
    "assert user_settings.user_id == \"9ypQ1yrW\"\n",
    "assert str(instance_settings.storage_dir) == \"s3://lamin0\"\n",
    "assert str(instance_settings._sqlite_file) == \"s3://lamin0/lamin0.lndb\"\n",
    "assert user_settings.user_email == \"raspbear@gmx.de\""
   ]
  },
  {
   "cell_type": "markdown",
   "metadata": {},
   "source": [
    "Clean up the test case."
   ]
  },
  {
   "cell_type": "code",
   "execution_count": null,
   "metadata": {
    "tags": [
     "hide-cell"
    ]
   },
   "outputs": [],
   "source": [
    "instance_settings._sqlite_file.unlink()\n",
    "instance_settings._sqlite_file_local.unlink()"
   ]
  },
  {
   "cell_type": "markdown",
   "metadata": {},
   "source": [
    "## Load an existing instance"
   ]
  },
  {
   "cell_type": "code",
   "execution_count": null,
   "metadata": {},
   "outputs": [],
   "source": [
    "load_instance(\"mydata\")"
   ]
  },
  {
   "cell_type": "code",
   "execution_count": null,
   "metadata": {},
   "outputs": [],
   "source": [
    "instance_settings = load_or_create_instance_settings()\n",
    "user_settings = load_or_create_user_settings()"
   ]
  },
  {
   "cell_type": "code",
   "execution_count": null,
   "metadata": {},
   "outputs": [],
   "source": [
    "assert instance_settings.cloud_storage == False\n",
    "assert instance_settings.instance_name == \"mydata\"\n",
    "assert user_settings.user_secret == \"MmR4YuQEyb0yxu7dAwJZTjLzR1Az2lN4Q4IduDlO\"\n",
    "assert user_settings.user_id == \"9ypQ1yrW\"\n",
    "assert instance_settings.storage_dir.as_posix() == \"mydata\"\n",
    "assert instance_settings.cache_dir is None\n",
    "assert instance_settings.db == \"sqlite:///mydata/mydata.lndb\"\n",
    "assert user_settings.user_email == \"raspbear@gmx.de\""
   ]
  },
  {
   "cell_type": "code",
   "execution_count": null,
   "metadata": {},
   "outputs": [],
   "source": [
    "load_instance(\"lamin0\")"
   ]
  },
  {
   "cell_type": "code",
   "execution_count": null,
   "metadata": {},
   "outputs": [],
   "source": [
    "instance_settings = load_or_create_instance_settings()\n",
    "user_settings = load_or_create_user_settings()"
   ]
  },
  {
   "cell_type": "code",
   "execution_count": null,
   "metadata": {},
   "outputs": [],
   "source": [
    "assert instance_settings.cloud_storage == True\n",
    "assert user_settings.user_secret == \"MmR4YuQEyb0yxu7dAwJZTjLzR1Az2lN4Q4IduDlO\"\n",
    "assert user_settings.user_id == \"9ypQ1yrW\"\n",
    "assert str(instance_settings.storage_dir) == \"s3://lamin0\"\n",
    "assert str(instance_settings._sqlite_file) == \"s3://lamin0/lamin0.lndb\"\n",
    "assert user_settings.user_email == \"raspbear@gmx.de\""
   ]
  }
 ],
 "metadata": {
  "kernelspec": {
   "display_name": "Python 3 (ipykernel)",
   "language": "python",
   "name": "python3"
  },
  "language_info": {
   "codemirror_mode": {
    "name": "ipython",
    "version": 3
   },
   "file_extension": ".py",
   "mimetype": "text/x-python",
   "name": "python",
   "nbconvert_exporter": "python",
   "pygments_lexer": "ipython3",
   "version": "3.9.12"
  },
  "vscode": {
   "interpreter": {
    "hash": "2775e555cdc2d728c54aa22130c79afb1fa4da64f22f2fc6dcc2aa346c4e0672"
   }
  }
 },
 "nbformat": 4,
 "nbformat_minor": 4
}
