{
 "cells": [
  {
   "cell_type": "markdown",
   "id": "4c28a5ac",
   "metadata": {},
   "source": [
    "# Test locking on load"
   ]
  },
  {
   "cell_type": "code",
   "execution_count": null,
   "id": "69eeefee",
   "metadata": {},
   "outputs": [],
   "source": [
    "import pytest\n",
    "import lamindb_setup as ln_setup\n",
    "from lamindb_setup.dev.cloud_sqlite_locker import Locker"
   ]
  },
  {
   "cell_type": "code",
   "execution_count": null,
   "id": "048c059a",
   "metadata": {},
   "outputs": [],
   "source": [
    "assert ln_setup.settings.user.handle == \"testuser2\""
   ]
  },
  {
   "cell_type": "code",
   "execution_count": null,
   "id": "201d1baf",
   "metadata": {},
   "outputs": [],
   "source": [
    "ln_setup.init(storage=\"s3://lndb-setup-ci\", name=\"lndb-load-test-lock\")\n",
    "ln_setup.close()"
   ]
  },
  {
   "cell_type": "code",
   "execution_count": null,
   "id": "f628325e",
   "metadata": {},
   "outputs": [],
   "source": [
    "# lock with some random id\n",
    "locker = Locker(\n",
    "    \"randuseridtt\", storage_root=\"s3://lndb-setup-ci\", name=\"lndb-load-test-lock\"\n",
    ")"
   ]
  },
  {
   "cell_type": "code",
   "execution_count": null,
   "id": "f3cad961",
   "metadata": {},
   "outputs": [],
   "source": [
    "locker.lock()"
   ]
  },
  {
   "cell_type": "code",
   "execution_count": null,
   "id": "72bdc453",
   "metadata": {},
   "outputs": [],
   "source": [
    "with pytest.raises(RuntimeError):\n",
    "    ln_setup.load(\"lndb-load-test-lock\")"
   ]
  },
  {
   "cell_type": "code",
   "execution_count": null,
   "id": "9c0471c1",
   "metadata": {},
   "outputs": [],
   "source": [
    "locker.unlock()"
   ]
  },
  {
   "cell_type": "code",
   "execution_count": null,
   "id": "6b1d536f",
   "metadata": {},
   "outputs": [],
   "source": [
    "ln_setup.load(\"lndb-load-test-lock\")\n",
    "ln_setup.close()"
   ]
  },
  {
   "cell_type": "code",
   "execution_count": null,
   "id": "c8c615dd",
   "metadata": {},
   "outputs": [],
   "source": [
    "# lock as if by testuser1\n",
    "locker = Locker(\n",
    "    \"DzTjkKse\", storage_root=\"s3://lndb-setup-ci\", name=\"lndb-load-test-lock\"\n",
    ")"
   ]
  },
  {
   "cell_type": "code",
   "execution_count": null,
   "id": "171439b1",
   "metadata": {},
   "outputs": [],
   "source": [
    "locker.lock()"
   ]
  },
  {
   "cell_type": "code",
   "execution_count": null,
   "id": "a4754388",
   "metadata": {},
   "outputs": [],
   "source": [
    "with pytest.raises(RuntimeError):\n",
    "    ln_setup.load(\"lndb-load-test-lock\")"
   ]
  },
  {
   "cell_type": "code",
   "execution_count": null,
   "id": "c9bd3d47",
   "metadata": {},
   "outputs": [],
   "source": [
    "locker.unlock()"
   ]
  },
  {
   "cell_type": "code",
   "execution_count": null,
   "id": "2c392fee",
   "metadata": {},
   "outputs": [],
   "source": [
    "ln_setup.load(\"lndb-load-test-lock\")"
   ]
  },
  {
   "cell_type": "code",
   "execution_count": null,
   "id": "b8b0c52a",
   "metadata": {},
   "outputs": [],
   "source": [
    "ln_setup.delete(\"lndb-load-test-lock\", force=True)"
   ]
  }
 ],
 "metadata": {
  "kernelspec": {
   "display_name": "Python 3 (ipykernel)",
   "language": "python",
   "name": "python3"
  },
  "language_info": {
   "codemirror_mode": {
    "name": "ipython",
    "version": 3
   },
   "file_extension": ".py",
   "mimetype": "text/x-python",
   "name": "python",
   "nbconvert_exporter": "python",
   "pygments_lexer": "ipython3",
   "version": "3.9.17"
  }
 },
 "nbformat": 4,
 "nbformat_minor": 5
}
