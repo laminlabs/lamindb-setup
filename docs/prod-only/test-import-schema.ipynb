{
 "cells": [
  {
   "attachments": {},
   "cell_type": "markdown",
   "id": "261ca5e4-f46f-4361-9c3e-f944bbe14484",
   "metadata": {},
   "source": [
    "# Test load through schema module"
   ]
  },
  {
   "cell_type": "markdown",
   "id": "3e5867b4",
   "metadata": {},
   "source": [
    "Also see the corresponding FAQ notebook in lamindb: `import-schema`.\n",
    "\n",
    "If you try to access an attribute (other than `model`), you'll load the instance in the same way as calling `import lamindb`."
   ]
  },
  {
   "cell_type": "code",
   "execution_count": null,
   "id": "130c852d-6613-4fde-9dd5-576d3561834b",
   "metadata": {
    "tags": []
   },
   "outputs": [],
   "source": [
    "!lamin init --storage test-implicit-load --schema bionty"
   ]
  },
  {
   "cell_type": "code",
   "execution_count": null,
   "id": "be291649",
   "metadata": {},
   "outputs": [],
   "source": [
    "import lamindb_setup\n",
    "\n",
    "assert not lamindb_setup.dev.django.IS_SETUP"
   ]
  },
  {
   "cell_type": "code",
   "execution_count": null,
   "id": "8d8e810d",
   "metadata": {},
   "outputs": [],
   "source": [
    "import lnschema_bionty as lb"
   ]
  },
  {
   "cell_type": "code",
   "execution_count": null,
   "id": "7cb89c8a",
   "metadata": {},
   "outputs": [],
   "source": [
    "assert not lamindb_setup.dev.django.IS_SETUP"
   ]
  },
  {
   "cell_type": "code",
   "execution_count": null,
   "id": "9b1a7f77",
   "metadata": {},
   "outputs": [],
   "source": [
    "lb.Gene"
   ]
  },
  {
   "cell_type": "code",
   "execution_count": null,
   "id": "99e720b4",
   "metadata": {},
   "outputs": [],
   "source": [
    "assert lamindb_setup.dev.django.IS_SETUP"
   ]
  },
  {
   "cell_type": "code",
   "execution_count": null,
   "id": "cc237dc9",
   "metadata": {},
   "outputs": [],
   "source": [
    "!lamin delete --force test-implicit-load"
   ]
  }
 ],
 "metadata": {
  "kernelspec": {
   "display_name": "Python 3 (ipykernel)",
   "language": "python",
   "name": "python3"
  },
  "language_info": {
   "codemirror_mode": {
    "name": "ipython",
    "version": 3
   },
   "file_extension": ".py",
   "mimetype": "text/x-python",
   "name": "python",
   "nbconvert_exporter": "python",
   "pygments_lexer": "ipython3",
   "version": "3.9.16"
  },
  "nbproject": {
   "id": "2lhqA4uTKSFP",
   "parent": null,
   "pypackage": null,
   "time_init": "2023-07-02T08:19:16.832930+00:00",
   "user_handle": null,
   "user_id": null,
   "user_name": null,
   "version": "0"
  },
  "vscode": {
   "interpreter": {
    "hash": "61b4062b24dfb1010f420dad5aa3bd73a4d2af47d0ec44eafec465a35a9d7239"
   }
  }
 },
 "nbformat": 4,
 "nbformat_minor": 5
}
