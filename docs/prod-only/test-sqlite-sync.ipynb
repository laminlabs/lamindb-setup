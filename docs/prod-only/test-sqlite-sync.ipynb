{
 "cells": [
  {
   "attachments": {},
   "cell_type": "markdown",
   "id": "404d7543",
   "metadata": {},
   "source": [
    "# Check synchronization of local and cloud sqlite databases"
   ]
  },
  {
   "cell_type": "code",
   "execution_count": null,
   "id": "6e685a68",
   "metadata": {},
   "outputs": [],
   "source": [
    "import os\n",
    "\n",
    "instance_name = f\"lamindb-setup-ci-test-sqlite-sync-{os.environ['LAMIN_ENV']}\"\n",
    "!lamin load {instance_name}\n",
    "!yes | lamin delete {instance_name}"
   ]
  },
  {
   "cell_type": "code",
   "execution_count": null,
   "id": "f906c3b7",
   "metadata": {},
   "outputs": [],
   "source": [
    "from lamindb_setup import init, settings\n",
    "import os"
   ]
  },
  {
   "cell_type": "code",
   "execution_count": null,
   "id": "b651f6da",
   "metadata": {},
   "outputs": [],
   "source": [
    "init(\n",
    "    storage=\"s3://lndb-setup-ci\",\n",
    "    name=instance_name,\n",
    ")"
   ]
  },
  {
   "attachments": {},
   "cell_type": "markdown",
   "id": "9256886a",
   "metadata": {},
   "source": [
    "Get the paths to the cloud and local sqlite databases."
   ]
  },
  {
   "cell_type": "code",
   "execution_count": null,
   "id": "a10f5317",
   "metadata": {},
   "outputs": [],
   "source": [
    "sqlite_file = settings.instance._sqlite_file"
   ]
  },
  {
   "cell_type": "code",
   "execution_count": null,
   "id": "70f404a3",
   "metadata": {},
   "outputs": [],
   "source": [
    "sqlite_file"
   ]
  },
  {
   "attachments": {},
   "cell_type": "markdown",
   "id": "45967bdd",
   "metadata": {},
   "source": [
    "Remote SQLite file does exists upon instance init:"
   ]
  },
  {
   "cell_type": "code",
   "execution_count": null,
   "id": "81100c7e",
   "metadata": {},
   "outputs": [],
   "source": [
    "assert settings.instance._sqlite_file.exists()"
   ]
  },
  {
   "attachments": {},
   "cell_type": "markdown",
   "id": "c764511d",
   "metadata": {},
   "source": [
    "Now mimic a new user who loads the instance (this runs 4s):"
   ]
  },
  {
   "cell_type": "code",
   "execution_count": null,
   "id": "01ef82da",
   "metadata": {},
   "outputs": [],
   "source": [
    "settings.instance._update_local_sqlite_file()"
   ]
  },
  {
   "attachments": {},
   "cell_type": "markdown",
   "id": "8e39b443",
   "metadata": {},
   "source": [
    "Get the mere filepath of the local file, without any update:"
   ]
  },
  {
   "cell_type": "code",
   "execution_count": null,
   "id": "7b5a850a",
   "metadata": {},
   "outputs": [],
   "source": [
    "cache_file = settings.instance.storage.cloud_to_local_no_update(sqlite_file)"
   ]
  },
  {
   "cell_type": "code",
   "execution_count": null,
   "id": "5f104fdb",
   "metadata": {},
   "outputs": [],
   "source": [
    "cache_file"
   ]
  },
  {
   "attachments": {},
   "cell_type": "markdown",
   "id": "26d8bd48",
   "metadata": {},
   "source": [
    "Delete the local sqlite file:"
   ]
  },
  {
   "cell_type": "code",
   "execution_count": null,
   "id": "2abf1dd1",
   "metadata": {},
   "outputs": [],
   "source": [
    "cache_file.unlink()"
   ]
  },
  {
   "cell_type": "code",
   "execution_count": null,
   "id": "2b04284d",
   "metadata": {},
   "outputs": [],
   "source": [
    "assert not cache_file.exists()"
   ]
  },
  {
   "attachments": {},
   "cell_type": "markdown",
   "id": "27bd0aac",
   "metadata": {},
   "source": [
    "Update the local version of the sqlite file:"
   ]
  },
  {
   "cell_type": "code",
   "execution_count": null,
   "id": "ee390b27",
   "metadata": {},
   "outputs": [],
   "source": [
    "settings.instance._update_local_sqlite_file()"
   ]
  },
  {
   "cell_type": "code",
   "execution_count": null,
   "id": "c7bb2d22",
   "metadata": {},
   "outputs": [],
   "source": [
    "assert cache_file.exists()"
   ]
  },
  {
   "attachments": {},
   "cell_type": "markdown",
   "id": "dc5f6ac8",
   "metadata": {},
   "source": [
    "If the local sqlite database is older than the cloud one, the cloud database replaces the local sqlite database file."
   ]
  },
  {
   "cell_type": "code",
   "execution_count": null,
   "id": "3efbf64a",
   "metadata": {},
   "outputs": [],
   "source": [
    "cloud_mtime = sqlite_file.modified.timestamp()"
   ]
  },
  {
   "cell_type": "code",
   "execution_count": null,
   "id": "dc7d8fce",
   "metadata": {},
   "outputs": [],
   "source": [
    "cloud_mtime"
   ]
  },
  {
   "cell_type": "code",
   "execution_count": null,
   "id": "eeaa994e",
   "metadata": {},
   "outputs": [],
   "source": [
    "os.utime(cache_file, times=(cloud_mtime - 1, cloud_mtime - 1))"
   ]
  },
  {
   "cell_type": "code",
   "execution_count": null,
   "id": "8bf951c3",
   "metadata": {},
   "outputs": [],
   "source": [
    "assert cache_file.stat().st_mtime < sqlite_file.modified.timestamp()"
   ]
  },
  {
   "cell_type": "code",
   "execution_count": null,
   "id": "7616cb64",
   "metadata": {},
   "outputs": [],
   "source": [
    "settings.instance._update_local_sqlite_file()"
   ]
  },
  {
   "cell_type": "code",
   "execution_count": null,
   "id": "b350c551",
   "metadata": {},
   "outputs": [],
   "source": [
    "assert cache_file.stat().st_mtime == sqlite_file.modified.timestamp()"
   ]
  },
  {
   "cell_type": "code",
   "execution_count": null,
   "id": "adb57f7c",
   "metadata": {
    "tags": [
     "hide-cell"
    ]
   },
   "outputs": [],
   "source": [
    "!yes | lamin delete {instance_name}"
   ]
  }
 ],
 "metadata": {
  "kernelspec": {
   "display_name": "Python 3",
   "language": "python",
   "name": "python3"
  },
  "language_info": {
   "codemirror_mode": {
    "name": "ipython",
    "version": 3
   },
   "file_extension": ".py",
   "mimetype": "text/x-python",
   "name": "python",
   "nbconvert_exporter": "python",
   "pygments_lexer": "ipython3",
   "version": "3.9.16"
  },
  "vscode": {
   "interpreter": {
    "hash": "b0fa6594d8f4cbf19f97940f81e996739fb7646882a419484c72d19e05852a7e"
   }
  }
 },
 "nbformat": 4,
 "nbformat_minor": 5
}
