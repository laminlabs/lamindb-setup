{
 "cells": [
  {
   "cell_type": "markdown",
   "id": "14c2ca43",
   "metadata": {},
   "source": [
    "# Test cache management"
   ]
  },
  {
   "cell_type": "code",
   "execution_count": null,
   "id": "fb4845c7",
   "metadata": {},
   "outputs": [],
   "source": [
    "import lamindb_setup as ln_setup\n",
    "from lamindb_setup.dev._settings_store import system_storage_settings_file\n",
    "\n",
    "ln_setup.login(\"testuser2\")"
   ]
  },
  {
   "cell_type": "code",
   "execution_count": null,
   "id": "62b929d1",
   "metadata": {},
   "outputs": [],
   "source": [
    "if system_storage_settings_file().exists():\n",
    "    system_storage_settings_file().unlink()"
   ]
  },
  {
   "cell_type": "code",
   "execution_count": null,
   "id": "05adf185",
   "metadata": {},
   "outputs": [],
   "source": [
    "ln_setup.init(storage=\"s3://lndb-setup-ci\", name=\"test-cache\")"
   ]
  },
  {
   "cell_type": "markdown",
   "id": "fc410abd",
   "metadata": {},
   "source": [
    "Check that setting the cache dir works."
   ]
  },
  {
   "cell_type": "code",
   "execution_count": null,
   "id": "4758d49b",
   "metadata": {},
   "outputs": [],
   "source": [
    "assert not system_storage_settings_file().exists()"
   ]
  },
  {
   "cell_type": "code",
   "execution_count": null,
   "id": "511a73d4",
   "metadata": {},
   "outputs": [],
   "source": [
    "save_cache_dir = ln_setup.settings.storage.cache_dir\n",
    "set_cache_dir = save_cache_dir.parent / \"Cache1\""
   ]
  },
  {
   "cell_type": "code",
   "execution_count": null,
   "id": "2cacb380",
   "metadata": {},
   "outputs": [],
   "source": [
    "ln_setup.settings.storage.cache_dir = set_cache_dir"
   ]
  },
  {
   "cell_type": "code",
   "execution_count": null,
   "id": "32cd1d26",
   "metadata": {},
   "outputs": [],
   "source": [
    "assert system_storage_settings_file().exists()"
   ]
  },
  {
   "cell_type": "code",
   "execution_count": null,
   "id": "df1a1396",
   "metadata": {},
   "outputs": [],
   "source": [
    "assert ln_setup.settings.storage.cache_dir != save_cache_dir"
   ]
  },
  {
   "cell_type": "code",
   "execution_count": null,
   "id": "5b5ca8a8",
   "metadata": {},
   "outputs": [],
   "source": [
    "assert ln_setup.settings.storage.cache_dir == set_cache_dir"
   ]
  },
  {
   "cell_type": "code",
   "execution_count": null,
   "id": "0f39c10f",
   "metadata": {},
   "outputs": [],
   "source": [
    "assert set_cache_dir.exists()"
   ]
  },
  {
   "cell_type": "code",
   "execution_count": null,
   "id": "abb797de",
   "metadata": {},
   "outputs": [],
   "source": [
    "assert set_cache_dir in ln_setup.settings.instance._sqlite_file_local.parents"
   ]
  },
  {
   "cell_type": "markdown",
   "id": "b149a867",
   "metadata": {},
   "source": [
    "Check clearing the cache dir, also closes the cloud sqlite instance."
   ]
  },
  {
   "cell_type": "code",
   "execution_count": null,
   "id": "83accdf1",
   "metadata": {},
   "outputs": [],
   "source": [
    "!lamin cache clear"
   ]
  },
  {
   "cell_type": "code",
   "execution_count": null,
   "id": "87778fbf",
   "metadata": {},
   "outputs": [],
   "source": [
    "assert not any(set_cache_dir.iterdir())"
   ]
  },
  {
   "cell_type": "markdown",
   "id": "14ffa755",
   "metadata": {},
   "source": [
    "Check that the cache dir is preserved between`close` and `load`."
   ]
  },
  {
   "cell_type": "code",
   "execution_count": null,
   "id": "a05bb5a2",
   "metadata": {},
   "outputs": [],
   "source": [
    "ln_setup.load(\"test-cache\")"
   ]
  },
  {
   "cell_type": "code",
   "execution_count": null,
   "id": "4f1c8dbe",
   "metadata": {},
   "outputs": [],
   "source": [
    "assert ln_setup.settings.storage.cache_dir == set_cache_dir"
   ]
  },
  {
   "cell_type": "markdown",
   "id": "e2aeabb4",
   "metadata": {},
   "source": [
    "Setting to `\"null\"` or `None` restores the default directory."
   ]
  },
  {
   "cell_type": "code",
   "execution_count": null,
   "id": "95aec7fd",
   "metadata": {},
   "outputs": [],
   "source": [
    "ln_setup.settings.storage.cache_dir = None"
   ]
  },
  {
   "cell_type": "code",
   "execution_count": null,
   "id": "bdb03994",
   "metadata": {},
   "outputs": [],
   "source": [
    "assert ln_setup.settings.storage.cache_dir == save_cache_dir"
   ]
  },
  {
   "cell_type": "code",
   "execution_count": null,
   "id": "6ae6f8e2",
   "metadata": {},
   "outputs": [],
   "source": [
    "assert ln_setup.settings.storage.cache_dir != set_cache_dir"
   ]
  },
  {
   "cell_type": "markdown",
   "id": "a4de1b2b",
   "metadata": {},
   "source": [
    "Setting the cache dir through CLI doesn't affect the currently loaded settings because it is done in another process and the settings only check the cache dir in `settings.env` on init."
   ]
  },
  {
   "cell_type": "markdown",
   "id": "75d63a9e",
   "metadata": {},
   "source": [
    "Check CLI."
   ]
  },
  {
   "cell_type": "code",
   "execution_count": null,
   "id": "52749ad0",
   "metadata": {},
   "outputs": [],
   "source": [
    "!lamin cache"
   ]
  },
  {
   "cell_type": "code",
   "execution_count": null,
   "id": "f9e7a289",
   "metadata": {},
   "outputs": [],
   "source": [
    "!lamin cache set \"null\""
   ]
  },
  {
   "cell_type": "markdown",
   "id": "09834230",
   "metadata": {},
   "source": [
    "Clean up."
   ]
  },
  {
   "cell_type": "code",
   "execution_count": null,
   "id": "a58062c8",
   "metadata": {},
   "outputs": [],
   "source": [
    "system_storage_settings_file().unlink()\n",
    "ln_setup.delete(\"test-cache\", force=True)"
   ]
  }
 ],
 "metadata": {
  "kernelspec": {
   "display_name": "Python 3 (ipykernel)",
   "language": "python",
   "name": "python3"
  },
  "language_info": {
   "codemirror_mode": {
    "name": "ipython",
    "version": 3
   },
   "file_extension": ".py",
   "mimetype": "text/x-python",
   "name": "python",
   "nbconvert_exporter": "python",
   "pygments_lexer": "ipython3",
   "version": "3.9.17"
  }
 },
 "nbformat": 4,
 "nbformat_minor": 5
}
