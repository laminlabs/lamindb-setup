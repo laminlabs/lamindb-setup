{
 "cells": [
  {
   "cell_type": "markdown",
   "id": "d60ebc4a",
   "metadata": {},
   "source": [
    "# Try to add a managed storage with read-only access rights"
   ]
  },
  {
   "cell_type": "code",
   "execution_count": null,
   "id": "ab87a2bb",
   "metadata": {},
   "outputs": [],
   "source": [
    "import lamindb_setup as ln_setup\n",
    "import pytest\n",
    "from pathlib import Path\n",
    "from lamindb_setup._set_managed_storage import set_managed_storage\n",
    "from lamindb_setup.core._hub_client import connect_hub_with_auth\n",
    "from django.db.utils import ProgrammingError"
   ]
  },
  {
   "cell_type": "code",
   "execution_count": null,
   "id": "2bd330c9",
   "metadata": {},
   "outputs": [],
   "source": [
    "ln_setup.connect(\"laminlabs/lamin-site-assets\")"
   ]
  },
  {
   "cell_type": "markdown",
   "id": "6dac4a0f",
   "metadata": {},
   "source": [
    "Try to add a managed storage with read-only permissions."
   ]
  },
  {
   "cell_type": "code",
   "execution_count": null,
   "id": "c5e4c7c2",
   "metadata": {},
   "outputs": [],
   "source": [
    "test_root = Path(\"./testuser1_ci_storage\").resolve().as_posix()"
   ]
  },
  {
   "cell_type": "code",
   "execution_count": null,
   "id": "fe65863e",
   "metadata": {},
   "outputs": [],
   "source": [
    "with pytest.raises(ProgrammingError) as error:\n",
    "    set_managed_storage(test_root)\n",
    "assert error.exconly() == \"ProgrammingError: permission denied for table lnschema_core_storage\""
   ]
  },
  {
   "cell_type": "markdown",
   "id": "322b7b27",
   "metadata": {},
   "source": [
    "Check that the record of the storage was not added to the hub."
   ]
  },
  {
   "cell_type": "code",
   "execution_count": null,
   "id": "4bd78714",
   "metadata": {},
   "outputs": [],
   "source": [
    "hub_client = connect_hub_with_auth()\n",
    "\n",
    "records = hub_client.table(\"storage\").select(\"*\").eq(\"root\", test_root).execute().data\n",
    "assert len(records) == 0\n",
    "\n",
    "hub_client.auth.sign_out()"
   ]
  },
  {
   "cell_type": "code",
   "execution_count": null,
   "id": "93062f63",
   "metadata": {},
   "outputs": [],
   "source": [
    "ln_setup.close()"
   ]
  }
 ],
 "metadata": {
  "kernelspec": {
   "display_name": "Python 3 (ipykernel)",
   "language": "python",
   "name": "python3"
  },
  "language_info": {
   "codemirror_mode": {
    "name": "ipython",
    "version": 3
   },
   "file_extension": ".py",
   "mimetype": "text/x-python",
   "name": "python",
   "nbconvert_exporter": "python",
   "pygments_lexer": "ipython3",
   "version": "3.9.17"
  }
 },
 "nbformat": 4,
 "nbformat_minor": 5
}
