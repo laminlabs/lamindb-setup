{
 "cells": [
  {
   "cell_type": "markdown",
   "id": "b43d09d5-26d3-440d-b334-9643ec5248e6",
   "metadata": {
    "tags": []
   },
   "source": [
    "# Add managed storage"
   ]
  },
  {
   "cell_type": "code",
   "execution_count": null,
   "id": "6422b64e",
   "metadata": {
    "tags": [
     "hide-cell"
    ]
   },
   "outputs": [],
   "source": [
    "!lamin close\n",
    "!lamin login testuser1\n",
    "!lamin delete --force test-add-managed-storage\n",
    "!docker stop pgtest && docker rm pgtest"
   ]
  },
  {
   "cell_type": "code",
   "execution_count": null,
   "id": "33c2bb76-d61f-4866-87e2-780e61600022",
   "metadata": {},
   "outputs": [],
   "source": [
    "import laminci\n",
    "import pytest\n",
    "from pathlib import Path\n",
    "import lamindb_setup as ln_setup\n",
    "from lamindb_setup._set_managed_storage import set_managed_storage"
   ]
  },
  {
   "cell_type": "code",
   "execution_count": null,
   "id": "8fd59ad3-04b9-42fb-83cc-ab7beedbec72",
   "metadata": {
    "tags": [
     "hide-cell"
    ]
   },
   "outputs": [],
   "source": [
    "pgurl = laminci.db.setup_local_test_postgres()"
   ]
  },
  {
   "cell_type": "code",
   "execution_count": null,
   "id": "d6b0bd5e",
   "metadata": {},
   "outputs": [],
   "source": [
    "ln_setup.init(storage=\"./storage1\", name=\"test-add-managed-storage\", db=pgurl)"
   ]
  },
  {
   "cell_type": "code",
   "execution_count": null,
   "id": "8d1f62dc",
   "metadata": {},
   "outputs": [],
   "source": [
    "instance_id = ln_setup.settings.instance._id\n",
    "storage1_uid = ln_setup.settings.storage.uid"
   ]
  },
  {
   "cell_type": "code",
   "execution_count": null,
   "id": "49b9ef11",
   "metadata": {},
   "outputs": [],
   "source": [
    "with pytest.raises(ValueError) as error:\n",
    "    set_managed_storage(\"./storage2\")\n",
    "assert error.exconly() == \"ValueError: Can't add additional managed storage locations for instances that aren't managed through the hub.\""
   ]
  },
  {
   "cell_type": "code",
   "execution_count": null,
   "id": "077da8fe",
   "metadata": {},
   "outputs": [],
   "source": [
    "ln_setup.register()"
   ]
  },
  {
   "cell_type": "markdown",
   "id": "f7e1bfaa",
   "metadata": {},
   "source": [
    "After registering the instance on the hub, things work out:"
   ]
  },
  {
   "cell_type": "code",
   "execution_count": null,
   "id": "e60b272e",
   "metadata": {},
   "outputs": [],
   "source": [
    "set_managed_storage(\"./storage2\")"
   ]
  },
  {
   "cell_type": "code",
   "execution_count": null,
   "id": "8e481aa0",
   "metadata": {
    "tags": [
     "hide-cell"
    ]
   },
   "outputs": [],
   "source": [
    "storage2_uid = ln_setup.settings.storage.uid\n",
    "assert ln_setup.settings.storage.root_as_str == f\"{Path.cwd()}/storage2\"\n",
    "assert (ln_setup.settings.storage.root / \".lamindb/_is_initialized\").read_text() == ln_setup.settings.storage.uid\n",
    "assert ln_setup.settings.storage.is_on_hub"
   ]
  },
  {
   "cell_type": "markdown",
   "id": "5317086c",
   "metadata": {},
   "source": [
    "Let's confirm things are idempotent and we can switch between storage locations."
   ]
  },
  {
   "cell_type": "code",
   "execution_count": null,
   "id": "4e5cd7b2",
   "metadata": {},
   "outputs": [],
   "source": [
    "set_managed_storage(\"./storage1\")"
   ]
  },
  {
   "cell_type": "code",
   "execution_count": null,
   "id": "53471a8b",
   "metadata": {},
   "outputs": [],
   "source": [
    "assert ln_setup.settings.storage.root_as_str == f\"{Path.cwd()}/storage1\"\n",
    "assert (ln_setup.settings.storage.root / \".lamindb/_is_initialized\").read_text() == ln_setup.settings.storage.uid\n",
    "assert ln_setup.settings.storage.is_on_hub\n",
    "assert ln_setup.settings.storage.uid == storage1_uid"
   ]
  },
  {
   "cell_type": "markdown",
   "id": "e9f123db",
   "metadata": {},
   "source": [
    "Repeat:"
   ]
  },
  {
   "cell_type": "code",
   "execution_count": null,
   "id": "a4183af7",
   "metadata": {},
   "outputs": [],
   "source": [
    "set_managed_storage(\"./storage1\")"
   ]
  },
  {
   "cell_type": "code",
   "execution_count": null,
   "id": "20564200",
   "metadata": {},
   "outputs": [],
   "source": [
    "assert ln_setup.settings.storage.root_as_str == f\"{Path.cwd()}/storage1\"\n",
    "assert (ln_setup.settings.storage.root / \".lamindb/_is_initialized\").read_text() == ln_setup.settings.storage.uid\n",
    "assert ln_setup.settings.storage.is_on_hub\n",
    "assert ln_setup.settings.storage.uid == storage1_uid"
   ]
  },
  {
   "cell_type": "code",
   "execution_count": null,
   "id": "d97ea220",
   "metadata": {},
   "outputs": [],
   "source": [
    "set_managed_storage(\"./storage2\")"
   ]
  },
  {
   "cell_type": "code",
   "execution_count": null,
   "id": "e20bfc21",
   "metadata": {},
   "outputs": [],
   "source": [
    "storage2_uid = ln_setup.settings.storage.uid\n",
    "assert ln_setup.settings.storage.root_as_str == f\"{Path.cwd()}/storage2\"\n",
    "assert (ln_setup.settings.storage.root / \".lamindb/_is_initialized\").read_text() == ln_setup.settings.storage.uid\n",
    "assert ln_setup.settings.storage.is_on_hub\n",
    "assert ln_setup.settings.storage.uid == storage2_uid"
   ]
  },
  {
   "cell_type": "markdown",
   "id": "de1c12b8",
   "metadata": {},
   "source": [
    "Cloud storage:"
   ]
  },
  {
   "cell_type": "code",
   "execution_count": null,
   "id": "8436575d",
   "metadata": {},
   "outputs": [],
   "source": [
    "set_managed_storage(\"s3://lamindb-ci/storage3\")"
   ]
  },
  {
   "cell_type": "code",
   "execution_count": null,
   "id": "d2934990",
   "metadata": {
    "tags": [
     "hide-cell"
    ]
   },
   "outputs": [],
   "source": [
    "assert ln_setup.settings.storage.type_is_cloud\n",
    "assert ln_setup.settings.storage.root_as_str == \"s3://lamindb-ci/storage3\"\n",
    "assert ln_setup.settings.storage.region == \"us-west-1\"\n",
    "assert (ln_setup.settings.storage.root / \".lamindb/_is_initialized\").read_text() == ln_setup.settings.storage.uid\n",
    "# root.fs contains the underlying fsspec filesystem\n",
    "assert (\n",
    "    ln_setup.settings.storage.root.fs.cache_regions  # set by lamindb to True for s3 by default\n",
    ")\n",
    "assert ln_setup.settings.storage._instance_id is not None"
   ]
  },
  {
   "cell_type": "markdown",
   "id": "ae953b6a",
   "metadata": {},
   "source": [
    "You can set any additional `fsspec` filesystem arguments for cloud storage, such as `profile` or `cache_regions` (for s3 only), for example:"
   ]
  },
  {
   "cell_type": "code",
   "execution_count": null,
   "id": "f9294082",
   "metadata": {},
   "outputs": [],
   "source": [
    "set_managed_storage(\"s3://lamindb-ci/storage3\", cache_regions=False)"
   ]
  },
  {
   "cell_type": "code",
   "execution_count": null,
   "id": "a889ba33",
   "metadata": {},
   "outputs": [],
   "source": [
    "# test cache_regions\n",
    "assert not ln_setup.settings.storage.root.fs.cache_regions"
   ]
  },
  {
   "cell_type": "markdown",
   "id": "015b8f36",
   "metadata": {},
   "source": [
    "Cloud storage with mere read access:"
   ]
  },
  {
   "cell_type": "code",
   "execution_count": null,
   "id": "4ef50cab",
   "metadata": {},
   "outputs": [],
   "source": [
    "with pytest.raises(ValueError) as error:\n",
    "    set_managed_storage(\"gs://rxrx1-europe-west4/images/test/HEPG2-08\")\n",
    "assert error.exconly().startswith(\"ValueError: Cannot manage storage without write access\")"
   ]
  },
  {
   "cell_type": "markdown",
   "id": "83a2ee6b",
   "metadata": {},
   "source": [
    "Add testuser2 as a collaborator to the instance:"
   ]
  },
  {
   "cell_type": "code",
   "execution_count": null,
   "id": "9a4029b0",
   "metadata": {},
   "outputs": [],
   "source": [
    "from laminhub_rest.core.instance.collaborator import InstanceCollaboratorHandler\n",
    "from lamindb_setup.core._hub_client import connect_hub_with_auth\n",
    "\n",
    "admin_hub = connect_hub_with_auth()\n",
    "InstanceCollaboratorHandler(admin_hub).add_by_slug(\n",
    "    \"testuser1/test-add-managed-storage\",\n",
    "    \"testuser2\",\n",
    "    \"write\"\n",
    ")\n",
    "admin_hub.auth.close()"
   ]
  },
  {
   "cell_type": "markdown",
   "id": "e9d64cad",
   "metadata": {},
   "source": [
    "Sign them in and let them add another storage location:"
   ]
  },
  {
   "cell_type": "code",
   "execution_count": null,
   "id": "d6915638-db49-4d3d-bd91-819bb4719ef7",
   "metadata": {},
   "outputs": [],
   "source": [
    "ln_setup.login(\"testuser2\")\n",
    "set_managed_storage(\"./storage4\")\n",
    "assert ln_setup.settings.storage.root_as_str == f\"{Path.cwd()}/storage4\""
   ]
  },
  {
   "cell_type": "markdown",
   "id": "60ac7cb2",
   "metadata": {},
   "source": [
    "Attempt to delete instance with testuser2:"
   ]
  },
  {
   "cell_type": "code",
   "execution_count": null,
   "id": "6de90900",
   "metadata": {},
   "outputs": [],
   "source": [
    "with pytest.raises(PermissionError) as error:\n",
    "    ln_setup.delete(\"testuser1/test-add-managed-storage\", force=True)"
   ]
  },
  {
   "cell_type": "markdown",
   "id": "9d1fd197",
   "metadata": {},
   "source": [
    "Delete test instance through testuser1:"
   ]
  },
  {
   "cell_type": "code",
   "execution_count": null,
   "id": "c6950299",
   "metadata": {},
   "outputs": [],
   "source": [
    "ln_setup.login(\"testuser1\")\n",
    "ln_setup.delete(\"test-add-managed-storage\", force=True)\n",
    "!docker stop pgtest && docker rm pgtest"
   ]
  },
  {
   "cell_type": "markdown",
   "id": "2e4a0bdd",
   "metadata": {},
   "source": [
    "Assert everything is deleted:"
   ]
  },
  {
   "cell_type": "code",
   "execution_count": null,
   "id": "a3270c08",
   "metadata": {},
   "outputs": [],
   "source": [
    "from lamindb_setup.core._hub_client import call_with_fallback_auth\n",
    "from lamindb_setup.core._hub_crud import select_instance_by_id\n",
    "from lamindb_setup.core._hub_core import get_storage_records_for_instance\n",
    "assert call_with_fallback_auth(select_instance_by_id, instance_id=instance_id.hex) is None\n",
    "assert not get_storage_records_for_instance(instance_id)"
   ]
  }
 ],
 "metadata": {
  "kernelspec": {
   "display_name": "Python 3 (ipykernel)",
   "language": "python",
   "name": "python3"
  },
  "language_info": {
   "codemirror_mode": {
    "name": "ipython",
    "version": 3
   },
   "file_extension": ".py",
   "mimetype": "text/x-python",
   "name": "python",
   "nbconvert_exporter": "python",
   "pygments_lexer": "ipython3",
   "version": "3.10.13"
  },
  "vscode": {
   "interpreter": {
    "hash": "61b4062b24dfb1010f420dad5aa3bd73a4d2af47d0ec44eafec465a35a9d7239"
   }
  }
 },
 "nbformat": 4,
 "nbformat_minor": 5
}
