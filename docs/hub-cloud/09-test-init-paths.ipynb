{
 "cells": [
  {
   "cell_type": "markdown",
   "id": "58aad301",
   "metadata": {},
   "source": [
    "# Test init paths"
   ]
  },
  {
   "cell_type": "code",
   "execution_count": null,
   "id": "c9776f3e",
   "metadata": {},
   "outputs": [],
   "source": [
    "import lamindb_setup as ln_setup"
   ]
  },
  {
   "cell_type": "code",
   "execution_count": null,
   "id": "69c0c8b4",
   "metadata": {},
   "outputs": [],
   "source": [
    "ln_setup.init(storage=\"~/mydata\")\n",
    "\n",
    "assert \"home\" in ln_setup.settings.storage.root.as_posix()"
   ]
  },
  {
   "cell_type": "code",
   "execution_count": null,
   "id": "553472a0",
   "metadata": {},
   "outputs": [],
   "source": [
    "ln_setup.delete(\"mydata\", force=True)"
   ]
  }
 ],
 "metadata": {
  "kernelspec": {
   "display_name": "lamindb",
   "language": "python",
   "name": "python3"
  },
  "language_info": {
   "codemirror_mode": {
    "name": "ipython",
    "version": 3
   },
   "file_extension": ".py",
   "mimetype": "text/x-python",
   "name": "python",
   "nbconvert_exporter": "python",
   "pygments_lexer": "ipython3",
   "version": "3.12.8"
  }
 },
 "nbformat": 4,
 "nbformat_minor": 5
}
