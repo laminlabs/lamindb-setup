{
 "cells": [
  {
   "cell_type": "markdown",
   "id": "5acb0094",
   "metadata": {},
   "source": [
    "# Migrate a hosted instance"
   ]
  },
  {
   "cell_type": "code",
   "execution_count": null,
   "id": "213594a4",
   "metadata": {},
   "outputs": [],
   "source": [
    "import lamindb_setup as ln_setup"
   ]
  },
  {
   "cell_type": "code",
   "execution_count": null,
   "id": "0a310f89",
   "metadata": {},
   "outputs": [],
   "source": [
    "ln_setup.login(\"testuser1\")"
   ]
  },
  {
   "cell_type": "code",
   "execution_count": null,
   "id": "eecceaf0",
   "metadata": {},
   "outputs": [],
   "source": [
    "ln_setup.connect(\"laminlabs/lamindata\", use_root_db_user=True)"
   ]
  },
  {
   "cell_type": "code",
   "execution_count": null,
   "id": "ffb9b496",
   "metadata": {},
   "outputs": [],
   "source": [
    "# double connect to check migration with django reset\n",
    "ln_setup.connect(\"laminlabs/lamindata\", use_root_db_user=True)"
   ]
  },
  {
   "cell_type": "code",
   "execution_count": null,
   "id": "e9887c91",
   "metadata": {},
   "outputs": [],
   "source": [
    "assert \"root\" in ln_setup.settings.instance.db"
   ]
  },
  {
   "cell_type": "code",
   "execution_count": null,
   "id": "657de4c6",
   "metadata": {},
   "outputs": [],
   "source": [
    "ln_setup.migrate.deploy()"
   ]
  }
 ],
 "metadata": {
  "kernelspec": {
   "display_name": "Python 3 (ipykernel)",
   "language": "python",
   "name": "python3"
  },
  "language_info": {
   "codemirror_mode": {
    "name": "ipython",
    "version": 3
   },
   "file_extension": ".py",
   "mimetype": "text/x-python",
   "name": "python",
   "nbconvert_exporter": "python",
   "pygments_lexer": "ipython3",
   "version": "3.10.16"
  }
 },
 "nbformat": 4,
 "nbformat_minor": 5
}
