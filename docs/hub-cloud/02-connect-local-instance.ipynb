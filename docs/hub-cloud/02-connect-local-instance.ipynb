{
 "cells": [
  {
   "cell_type": "markdown",
   "id": "b43d09d5-26d3-440d-b334-9643ec5248e6",
   "metadata": {
    "tags": []
   },
   "source": [
    "# Connect to local instance"
   ]
  },
  {
   "cell_type": "code",
   "execution_count": null,
   "id": "5fd65a65-5c34-462e-a980-a5aed1a2713f",
   "metadata": {
    "tags": []
   },
   "outputs": [],
   "source": [
    "!lamin disconnect\n",
    "!lamin delete --force mydata\n",
    "!lamin init --storage mydata\n",
    "!lamin disconnect"
   ]
  },
  {
   "cell_type": "code",
   "execution_count": null,
   "id": "33c2bb76-d61f-4866-87e2-780e61600022",
   "metadata": {},
   "outputs": [],
   "source": [
    "import lamindb_setup as ln_setup"
   ]
  },
  {
   "cell_type": "markdown",
   "id": "1be836bb",
   "metadata": {},
   "source": [
    "## Load your own instance by name"
   ]
  },
  {
   "cell_type": "markdown",
   "id": "a5c94e19",
   "metadata": {},
   "source": [
    "If the user is the instance owner, load the instance by name:"
   ]
  },
  {
   "cell_type": "code",
   "execution_count": null,
   "id": "b857dc27",
   "metadata": {},
   "outputs": [],
   "source": [
    "ln_setup.connect(\"mydata\")"
   ]
  },
  {
   "cell_type": "code",
   "execution_count": null,
   "id": "2276e0be",
   "metadata": {
    "tags": [
     "hide-cell"
    ]
   },
   "outputs": [],
   "source": [
    "from pathlib import Path\n",
    "\n",
    "assert ln_setup.settings.instance.storage.type_is_cloud == False\n",
    "assert ln_setup.settings.instance.name == \"mydata\"\n",
    "\n",
    "root_path = Path(\"./mydata\").resolve()\n",
    "assert ln_setup.settings.instance.storage.root == root_path\n",
    "assert (\n",
    "    ln_setup.settings.instance.db\n",
    "    == f\"sqlite:///{root_path.as_posix()}/{ln_setup.settings.instance._id.hex}.lndb\"\n",
    ")"
   ]
  },
  {
   "cell_type": "markdown",
   "id": "e3701120",
   "metadata": {},
   "source": [
    "Delete:"
   ]
  },
  {
   "cell_type": "code",
   "execution_count": null,
   "id": "8e54d8cd",
   "metadata": {},
   "outputs": [],
   "source": [
    "assert ln_setup.settings._instance_settings_path.exists()\n",
    "ln_setup.delete(\"mydata\", force=True)\n",
    "assert not ln_setup.settings._instance_settings_path.exists()"
   ]
  }
 ],
 "metadata": {
  "kernelspec": {
   "display_name": "Python 3 (ipykernel)",
   "language": "python",
   "name": "python3"
  },
  "language_info": {
   "codemirror_mode": {
    "name": "ipython",
    "version": 3
   },
   "file_extension": ".py",
   "mimetype": "text/x-python",
   "name": "python",
   "nbconvert_exporter": "python",
   "pygments_lexer": "ipython3",
   "version": "3.9.17"
  },
  "vscode": {
   "interpreter": {
    "hash": "5c7b89af1651d0b8571dde13640ecdccf7d5a6204171d6ab33e7c296e100e08a"
   }
  }
 },
 "nbformat": 4,
 "nbformat_minor": 5
}
