{
 "cells": [
  {
   "attachments": {},
   "cell_type": "markdown",
   "id": "b43d09d5-26d3-440d-b334-9643ec5248e6",
   "metadata": {
    "tags": []
   },
   "source": [
    "# Load & delete an on-prem instance"
   ]
  },
  {
   "cell_type": "markdown",
   "id": "f165d50c",
   "metadata": {},
   "source": [
    "Here, we construct a case in which the storage location of the previous instance was moved:"
   ]
  },
  {
   "cell_type": "code",
   "execution_count": null,
   "id": "5fd65a65-5c34-462e-a980-a5aed1a2713f",
   "metadata": {
    "tags": []
   },
   "outputs": [],
   "source": [
    "!lamin close\n",
    "!yes | lamin delete mydata\n",
    "!lamin init --storage mydata\n",
    "!rm -r ./mydata_new_loc\n",
    "!mv mydata ./mydata_new_loc\n",
    "!lamin close"
   ]
  },
  {
   "cell_type": "code",
   "execution_count": null,
   "id": "33c2bb76-d61f-4866-87e2-780e61600022",
   "metadata": {},
   "outputs": [],
   "source": [
    "import lamindb_setup as ln_setup"
   ]
  },
  {
   "attachments": {},
   "cell_type": "markdown",
   "id": "1be836bb",
   "metadata": {},
   "source": [
    "## Load your own instance by name"
   ]
  },
  {
   "attachments": {},
   "cell_type": "markdown",
   "id": "a5c94e19",
   "metadata": {},
   "source": [
    "If the user is the instance owner, load the instance by name:\n",
    "```\n",
    "ln_setup.connect(\"mydata\")\n",
    "```"
   ]
  },
  {
   "attachments": {},
   "cell_type": "markdown",
   "id": "c878d40a",
   "metadata": {},
   "source": [
    "You can also load with a new default storage location:"
   ]
  },
  {
   "cell_type": "code",
   "execution_count": null,
   "id": "b857dc27",
   "metadata": {},
   "outputs": [],
   "source": [
    "ln_setup.connect(\"mydata\", storage=\"./mydata_new_loc\")"
   ]
  },
  {
   "cell_type": "code",
   "execution_count": null,
   "id": "2276e0be",
   "metadata": {
    "tags": [
     "hide-cell"
    ]
   },
   "outputs": [],
   "source": [
    "from pathlib import Path\n",
    "\n",
    "assert ln_setup.settings.instance.storage.is_cloud == False\n",
    "assert ln_setup.settings.instance.name == \"mydata\"\n",
    "assert (\n",
    "    ln_setup.settings.instance.storage.root.as_posix()\n",
    "    == Path(\"./mydata_new_loc\").resolve().as_posix()\n",
    ")\n",
    "assert (\n",
    "    ln_setup.settings.instance.db\n",
    "    == f\"sqlite:///{Path('./mydata_new_loc').resolve().as_posix()}/{ln_setup.settings.instance.id.hex}.lndb\"\n",
    ")"
   ]
  },
  {
   "attachments": {},
   "cell_type": "markdown",
   "id": "0986a5f3",
   "metadata": {},
   "source": [
    "You cannot load another instance in the same Python session:"
   ]
  },
  {
   "cell_type": "code",
   "execution_count": null,
   "id": "bc3568ae",
   "metadata": {},
   "outputs": [],
   "source": [
    "import pytest\n",
    "\n",
    "with pytest.raises(RuntimeError):\n",
    "    ln_setup.connect(\"testuser2/mydata\")\n",
    "\n",
    "assert ln_setup.settings.instance.slug == \"testuser1/mydata\""
   ]
  },
  {
   "attachments": {},
   "cell_type": "markdown",
   "id": "e3701120",
   "metadata": {},
   "source": [
    "## Delete an instance"
   ]
  },
  {
   "cell_type": "code",
   "execution_count": null,
   "id": "8e54d8cd",
   "metadata": {},
   "outputs": [],
   "source": [
    "assert ln_setup.settings._instance_settings_path.exists()\n",
    "ln_setup.delete(\"mydata\", force=True)\n",
    "assert not ln_setup.settings._instance_settings_path.exists()"
   ]
  }
 ],
 "metadata": {
  "kernelspec": {
   "display_name": "Python 3 (ipykernel)",
   "language": "python",
   "name": "python3"
  },
  "language_info": {
   "codemirror_mode": {
    "name": "ipython",
    "version": 3
   },
   "file_extension": ".py",
   "mimetype": "text/x-python",
   "name": "python",
   "nbconvert_exporter": "python",
   "pygments_lexer": "ipython3",
   "version": "3.9.15"
  },
  "vscode": {
   "interpreter": {
    "hash": "5c7b89af1651d0b8571dde13640ecdccf7d5a6204171d6ab33e7c296e100e08a"
   }
  }
 },
 "nbformat": 4,
 "nbformat_minor": 5
}
