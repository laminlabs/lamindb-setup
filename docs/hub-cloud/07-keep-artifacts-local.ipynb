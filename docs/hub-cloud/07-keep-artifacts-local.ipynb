{
 "cells": [
  {
   "cell_type": "markdown",
   "metadata": {},
   "source": [
    "# Connect with `keep_artifacts_local=True`"
   ]
  },
  {
   "cell_type": "code",
   "execution_count": null,
   "metadata": {},
   "outputs": [],
   "source": [
    "# this shouldn't run in a notebook, but in the unit tests\n",
    "# currently still limited because of inability to load multiple instances\n",
    "\n",
    "import os\n",
    "import pytest\n",
    "import lamindb_setup as ln_setup\n",
    "from upath import UPath\n",
    "from pathlib import Path\n",
    "\n",
    "# os.environ[\"LAMIN_ENV\"] = \"prod\"\n",
    "\n",
    "name = f\"keep-artifacts-local-setup-{os.environ['LAMIN_ENV']}\"\n",
    "storage = UPath(f\"s3://lamindb-ci/{name}\").as_posix()\n",
    "\n",
    "ln_setup.login(\"testuser1\")\n",
    "ln_setup.init(storage=storage)\n",
    "\n",
    "assert ln_setup.settings.instance.name == name\n",
    "assert ln_setup.settings.instance.storage.type_is_cloud\n",
    "assert ln_setup.settings.instance.storage.root_as_str == storage\n",
    "assert (\n",
    "    ln_setup.settings.instance._sqlite_file.as_posix() == f\"{storage}/.lamindb/lamin.db\"\n",
    ")"
   ]
  },
  {
   "cell_type": "code",
   "execution_count": null,
   "metadata": {},
   "outputs": [],
   "source": [
    "with pytest.raises(ValueError) as error:\n",
    "    ln_setup.settings.instance.local_storage\n",
    "assert (\n",
    "    error.exconly()\n",
    "    == \"ValueError: `keep_artifacts_local` is False, switch via: ln.setup.settings.instance.keep_artifacts_local = True\"\n",
    ")"
   ]
  },
  {
   "cell_type": "code",
   "execution_count": null,
   "metadata": {},
   "outputs": [],
   "source": [
    "ln_setup.settings.instance.keep_artifacts_local = True\n",
    "with pytest.raises(ValueError) as error:\n",
    "    ln_setup.settings.instance.local_storage\n",
    "assert error.exconly().startswith(\n",
    "    \"ValueError: No local storage location found in current environment:\"\n",
    ")"
   ]
  },
  {
   "cell_type": "code",
   "execution_count": null,
   "metadata": {},
   "outputs": [],
   "source": [
    "# now set local storage location\n",
    "ln_setup.settings.instance.local_storage = \"./my_local_storage\", \"testuser1-laptop\"\n",
    "\n",
    "assert (\n",
    "    ln_setup.settings.instance.local_storage.root.as_posix()\n",
    "    == UPath(\"./my_local_storage\").resolve().as_posix()\n",
    ")\n",
    "assert (\n",
    "    ln_setup.settings.instance.local_storage.root / \".lamindb/storage_uid.txt\"\n",
    ").read_text().splitlines()[0] == ln_setup.settings.instance.local_storage.uid\n",
    "assert ln_setup.settings.instance.local_storage is not None\n",
    "assert ln_setup.settings.instance.local_storage.region == \"testuser1-laptop\"\n",
    "# the remote storage location is still in the regular slot\n",
    "assert ln_setup.settings.instance.storage.root.as_posix() == storage"
   ]
  },
  {
   "cell_type": "markdown",
   "metadata": {},
   "source": [
    "Another one:"
   ]
  },
  {
   "cell_type": "code",
   "execution_count": null,
   "metadata": {},
   "outputs": [],
   "source": [
    "ln_setup.settings.instance.local_storage = \"./my_local_storage2\", \"testuser1-laptop\""
   ]
  },
  {
   "cell_type": "code",
   "execution_count": null,
   "metadata": {},
   "outputs": [],
   "source": [
    "assert (\n",
    "    ln_setup.settings.instance.local_storage.root.as_posix()\n",
    "    == UPath(\"./my_local_storage2\").resolve().as_posix()\n",
    ")\n",
    "assert (\n",
    "    ln_setup.settings.instance.local_storage.root / \".lamindb/storage_uid.txt\"\n",
    ").read_text().splitlines()[0] == ln_setup.settings.instance.local_storage.uid"
   ]
  },
  {
   "cell_type": "markdown",
   "metadata": {},
   "source": [
    "See whether we can repeat this:"
   ]
  },
  {
   "cell_type": "code",
   "execution_count": null,
   "metadata": {},
   "outputs": [],
   "source": [
    "ln_setup.settings.instance.local_storage = \"./my_local_storage2\", \"testuser1-laptop\""
   ]
  },
  {
   "cell_type": "markdown",
   "metadata": {},
   "source": [
    "And back to the initial one:"
   ]
  },
  {
   "cell_type": "code",
   "execution_count": null,
   "metadata": {},
   "outputs": [],
   "source": [
    "ln_setup.settings.instance.local_storage = \"./my_local_storage\", \"testuser1-laptop\""
   ]
  },
  {
   "cell_type": "code",
   "execution_count": null,
   "metadata": {},
   "outputs": [],
   "source": [
    "import lamindb as ln\n",
    "\n",
    "ln.Storage.df()"
   ]
  },
  {
   "cell_type": "markdown",
   "metadata": {},
   "source": [
    "Add a test file:"
   ]
  },
  {
   "cell_type": "code",
   "execution_count": null,
   "metadata": {},
   "outputs": [],
   "source": [
    "test_file = ln_setup.settings.instance.local_storage.root / \".lamindb/test_file.txt\"\n",
    "test_file.write_text(\"test\")"
   ]
  },
  {
   "cell_type": "code",
   "execution_count": null,
   "metadata": {},
   "outputs": [],
   "source": [
    "ln_setup.settings.instance.local_storage.root.view_tree()"
   ]
  },
  {
   "cell_type": "code",
   "execution_count": null,
   "metadata": {},
   "outputs": [],
   "source": [
    "with pytest.raises(ln_setup.errors.StorageNotEmpty):\n",
    "    ln_setup.delete(name, force=True)"
   ]
  },
  {
   "cell_type": "code",
   "execution_count": null,
   "metadata": {},
   "outputs": [],
   "source": [
    "test_file.unlink()"
   ]
  },
  {
   "cell_type": "markdown",
   "metadata": {},
   "source": [
    "Expand user directory:"
   ]
  },
  {
   "cell_type": "code",
   "execution_count": null,
   "metadata": {},
   "outputs": [],
   "source": [
    "# Test expanduser works\n",
    "test_path = \"~/test/file.txt\"\n",
    "result = ln_setup.core.upath.create_path(test_path)\n",
    "expected = UPath(Path(test_path).expanduser())\n",
    "assert result.as_posix() == expected.as_posix()\n",
    "\n",
    "# Test it doesn't affect absolute paths\n",
    "test_path = \"/absolute/path/file.txt\"\n",
    "result = ln_setup.core.upath.create_path(test_path)\n",
    "assert str(result) == test_path"
   ]
  },
  {
   "cell_type": "code",
   "execution_count": null,
   "metadata": {},
   "outputs": [],
   "source": [
    "ln_setup.delete(name, force=True)"
   ]
  }
 ],
 "metadata": {
  "kernelspec": {
   "display_name": "py312",
   "language": "python",
   "name": "python3"
  },
  "language_info": {
   "codemirror_mode": {
    "name": "ipython",
    "version": 3
   },
   "file_extension": ".py",
   "mimetype": "text/x-python",
   "name": "python",
   "nbconvert_exporter": "python",
   "pygments_lexer": "ipython3",
   "version": "3.12.8"
  }
 },
 "nbformat": 4,
 "nbformat_minor": 2
}
