{
 "cells": [
  {
   "cell_type": "markdown",
   "metadata": {},
   "source": [
    "# Connect with `keep_artifacts_local=True`"
   ]
  },
  {
   "cell_type": "code",
   "execution_count": null,
   "metadata": {},
   "outputs": [],
   "source": [
    "# this shouldn't run in a notebook, but in the unit tests\n",
    "# currently still limited because of inability to load multiple instances\n",
    "\n",
    "import pytest\n",
    "import lamindb_setup as ln_setup\n",
    "from pathlib import Path\n",
    "\n",
    "ln_setup.login(\"testuser1\")\n",
    "ln_setup.init(storage=\"s3://lamindb-ci/keep-artifacts-local-setup\")\n",
    "\n",
    "assert ln_setup.settings.instance.name == \"keep-artifacts-local-setup\"\n",
    "assert ln_setup.settings.instance.storage.type_is_cloud\n",
    "assert (\n",
    "    ln_setup.settings.instance.storage.root_as_str\n",
    "    == \"s3://lamindb-ci/keep-artifacts-local-setup\"\n",
    ")\n",
    "assert (\n",
    "    ln_setup.settings.instance._sqlite_file.as_posix()\n",
    "    == f\"s3://lamindb-ci/keep-artifacts-local-setup/{ln_setup.settings.instance._id.hex}.lndb\"  # noqa\n",
    ")"
   ]
  },
  {
   "cell_type": "code",
   "execution_count": null,
   "metadata": {},
   "outputs": [],
   "source": [
    "with pytest.raises(ValueError) as error:\n",
    "    ln_setup.settings.instance.storage_local\n",
    "assert error.exconly() == \"ValueError: `keep_artifacts_local` is not enabled for this instance.\""
   ]
  },
  {
   "cell_type": "code",
   "execution_count": null,
   "metadata": {},
   "outputs": [],
   "source": [
    "ln_setup.settings.instance._keep_artifacts_local = True\n",
    "with pytest.raises(ValueError) as error:\n",
    "    ln_setup.settings.instance.storage_local"
   ]
  },
  {
   "cell_type": "code",
   "execution_count": null,
   "metadata": {},
   "outputs": [],
   "source": [
    "# now set local storage location\n",
    "ln_setup.settings.instance.storage_local = \"./my_storage_local\"\n",
    "\n",
    "assert (\n",
    "    ln_setup.settings.instance.storage_local.root.as_posix()\n",
    "    == Path(\"./my_storage_local\").resolve().as_posix()\n",
    ")\n",
    "assert (ln_setup.settings.instance.storage_local.root / \".lamindb/_is_initialized\").read_text() == ln_setup.settings.instance.storage_local.uid\n",
    "assert ln_setup.settings.instance.storage_local is not None\n",
    "# the remote storage location is still in the regular slot\n",
    "assert ln_setup.settings.instance.storage.root.as_posix() == \"s3://lamindb-ci/keep-artifacts-local-setup\""
   ]
  },
  {
   "cell_type": "markdown",
   "metadata": {},
   "source": [
    "Another one:"
   ]
  },
  {
   "cell_type": "code",
   "execution_count": null,
   "metadata": {},
   "outputs": [],
   "source": [
    "ln_setup.settings.instance.storage_local = \"./my_storage_local2\""
   ]
  },
  {
   "cell_type": "code",
   "execution_count": null,
   "metadata": {},
   "outputs": [],
   "source": [
    "assert (\n",
    "    ln_setup.settings.instance.storage_local.root.as_posix()\n",
    "    == Path(\"./my_storage_local2\").resolve().as_posix()\n",
    ")\n",
    "assert (ln_setup.settings.instance.storage_local.root / \".lamindb/_is_initialized\").read_text() == ln_setup.settings.instance.storage_local.uid"
   ]
  },
  {
   "cell_type": "markdown",
   "metadata": {},
   "source": [
    "See whether we can repeat this:"
   ]
  },
  {
   "cell_type": "code",
   "execution_count": null,
   "metadata": {},
   "outputs": [],
   "source": [
    "ln_setup.settings.instance.storage_local = \"./my_storage_local2\""
   ]
  },
  {
   "cell_type": "markdown",
   "metadata": {},
   "source": [
    "And back to the initial one:"
   ]
  },
  {
   "cell_type": "code",
   "execution_count": null,
   "metadata": {},
   "outputs": [],
   "source": [
    "ln_setup.settings.instance.storage_local = \"./my_storage_local\""
   ]
  },
  {
   "cell_type": "markdown",
   "metadata": {},
   "source": [
    "Add a test file:"
   ]
  },
  {
   "cell_type": "code",
   "execution_count": null,
   "metadata": {},
   "outputs": [],
   "source": [
    "test_file = (ln_setup.settings.instance.storage_local.root / \".lamindb/test_file.txt\")\n",
    "test_file.write_text(\"test\")"
   ]
  },
  {
   "cell_type": "code",
   "execution_count": null,
   "metadata": {},
   "outputs": [],
   "source": [
    "ln_setup.settings.instance.storage_local.root.view_tree()"
   ]
  },
  {
   "cell_type": "code",
   "execution_count": null,
   "metadata": {},
   "outputs": [],
   "source": [
    "with pytest.raises(ln_setup.core.upath.InstanceNotEmpty):\n",
    "    ln_setup.delete(\"keep-artifacts-local-setup\", force=True)"
   ]
  },
  {
   "cell_type": "code",
   "execution_count": null,
   "metadata": {},
   "outputs": [],
   "source": [
    "test_file.unlink()"
   ]
  },
  {
   "cell_type": "code",
   "execution_count": null,
   "metadata": {},
   "outputs": [],
   "source": [
    "ln_setup.delete(\"keep-artifacts-local-setup\", force=True)"
   ]
  }
 ],
 "metadata": {
  "kernelspec": {
   "display_name": "py310",
   "language": "python",
   "name": "python3"
  },
  "language_info": {
   "codemirror_mode": {
    "name": "ipython",
    "version": 3
   },
   "file_extension": ".py",
   "mimetype": "text/x-python",
   "name": "python",
   "nbconvert_exporter": "python",
   "pygments_lexer": "ipython3",
   "version": "3.10.13"
  }
 },
 "nbformat": 4,
 "nbformat_minor": 2
}
