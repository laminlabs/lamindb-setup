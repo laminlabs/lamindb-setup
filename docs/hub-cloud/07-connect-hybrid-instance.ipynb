{
 "cells": [
  {
   "cell_type": "markdown",
   "metadata": {},
   "source": [
    "# Connect hybrid instance"
   ]
  },
  {
   "cell_type": "code",
   "execution_count": null,
   "metadata": {},
   "outputs": [],
   "source": [
    "# this shouldn't run in a notebook, but in the unit tests...\n",
    "\n",
    "import pytest\n",
    "import lamindb_setup as ln_setup\n",
    "from pathlib import Path\n",
    "\n",
    "ln_setup.login(\"testuser1\")\n",
    "ln_setup.init(storage=\"s3://lamindb-ci/load_remote_instance\")\n",
    "\n",
    "assert ln_setup.settings.instance.name == \"load_remote_instance\"\n",
    "assert ln_setup.settings.instance.storage.type_is_cloud\n",
    "assert (\n",
    "    ln_setup.settings.instance.storage.root_as_str\n",
    "    == \"s3://lamindb-ci/load_remote_instance\"\n",
    ")\n",
    "assert (\n",
    "    ln_setup.settings.instance._sqlite_file.as_posix()\n",
    "    == f\"s3://lamindb-ci/load_remote_instance/{ln_setup.settings.instance.id.hex}.lndb\"  # noqa\n",
    ")\n",
    "with pytest.raises(ValueError) as error:\n",
    "    ln_setup.settings.instance.local_storage\n",
    "assert error.exconly() == \"ValueError: Local storage is not enabled for this instance.\"\n",
    "ln_setup.settings.instance._local_storage_on = True\n",
    "with pytest.raises(ValueError) as error:\n",
    "    ln_setup.settings.instance.local_storage\n",
    "assert (\n",
    "    error.exconly()\n",
    "    == \"ValueError: No local storage root found, set via\"\n",
    "    \" `ln.setup.settings.instance.local_storage = local_root`\"\n",
    ")\n",
    "\n",
    "# now set local storage location\n",
    "ln_setup.settings.instance.local_storage = \"./my_local_storage\"\n",
    "\n",
    "assert (\n",
    "    ln_setup.settings.instance.local_storage.root.as_posix()\n",
    "    == Path(\"./my_local_storage\").resolve().as_posix()\n",
    ")\n",
    "assert ln_setup.settings.instance.local_storage is not None\n",
    "with pytest.raises(ValueError) as error:\n",
    "    ln_setup.settings.instance.local_storage = \"./my_local_storage2\"\n",
    "assert error.exconly().startswith(\n",
    "    \"ValueError: You already configured a local storage root for this instance in this\"\n",
    "    \" environment:\"\n",
    ")\n",
    "ln_setup.delete(\"load_remote_instance\", force=True)"
   ]
  }
 ],
 "metadata": {
  "kernelspec": {
   "display_name": "py310",
   "language": "python",
   "name": "python3"
  },
  "language_info": {
   "codemirror_mode": {
    "name": "ipython",
    "version": 3
   },
   "file_extension": ".py",
   "mimetype": "text/x-python",
   "name": "python",
   "nbconvert_exporter": "python",
   "pygments_lexer": "ipython3",
   "version": "3.10.13"
  }
 },
 "nbformat": 4,
 "nbformat_minor": 2
}
