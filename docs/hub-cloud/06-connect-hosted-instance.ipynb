{
 "cells": [
  {
   "cell_type": "markdown",
   "metadata": {},
   "source": [
    "# Load hosted instance"
   ]
  },
  {
   "cell_type": "code",
   "execution_count": null,
   "metadata": {},
   "outputs": [],
   "source": [
    "import pytest\n",
    "import shutil\n",
    "import lamindb_setup as ln_setup\n",
    "from lamindb_setup.core.upath import UPath\n",
    "from lamindb_setup.core._hub_core import delete_instance\n",
    "from lamindb_setup.core.upath import InstanceNotEmpty\n",
    "\n",
    "instance_name = \"my-hosted\"\n",
    "assert ln_setup.settings.user.handle == \"testuser1\""
   ]
  },
  {
   "cell_type": "code",
   "execution_count": null,
   "metadata": {},
   "outputs": [],
   "source": [
    "ln_setup.connect(f\"testuser1/{instance_name}\")"
   ]
  },
  {
   "cell_type": "code",
   "execution_count": null,
   "metadata": {},
   "outputs": [],
   "source": [
    "root = ln_setup.settings.storage.root"
   ]
  },
  {
   "cell_type": "code",
   "execution_count": null,
   "metadata": {},
   "outputs": [],
   "source": [
    "root.view_tree()"
   ]
  },
  {
   "cell_type": "code",
   "execution_count": null,
   "metadata": {},
   "outputs": [],
   "source": [
    "target_path = root / \"test_notebooks.py\"\n",
    "target_path.upload_from(\"test_notebooks.py\")\n",
    "assert target_path.exists()"
   ]
  },
  {
   "cell_type": "code",
   "execution_count": null,
   "metadata": {},
   "outputs": [],
   "source": [
    "test_dir = UPath(\"./test-dir-upload\")\n",
    "test_dir.mkdir()\n",
    "(test_dir / \"file1\").touch()\n",
    "subdir = test_dir / \"subdir\"\n",
    "subdir.mkdir()\n",
    "(subdir / \"file2\").touch()\n",
    "subsubdir = subdir / \"subsubdir\"\n",
    "subsubdir.mkdir()\n",
    "(subsubdir / \"file3\").touch()"
   ]
  },
  {
   "cell_type": "code",
   "execution_count": null,
   "metadata": {},
   "outputs": [],
   "source": [
    "target_dir = root / \"test-dir-upload\"\n",
    "target_dir.upload_from(test_dir, create_folder=True) # default\n",
    "\n",
    "assert target_dir.is_dir()\n",
    "assert (target_dir / \"test-dir-upload\").exists()\n",
    "assert (target_dir / \"test-dir-upload/file1\").exists()\n",
    "\n",
    "target_dir.rmdir()\n",
    "assert not target_dir.exists()"
   ]
  },
  {
   "cell_type": "code",
   "execution_count": null,
   "metadata": {},
   "outputs": [],
   "source": [
    "target_dir.upload_from(test_dir, create_folder=False)\n",
    "\n",
    "assert target_dir.is_dir()\n",
    "assert (target_dir / \"file1\").exists()\n",
    "assert not (target_dir / \"test-dir-upload\").exists()"
   ]
  },
  {
   "cell_type": "markdown",
   "metadata": {},
   "source": [
    "Test that instance can not be deleted from hub:"
   ]
  },
  {
   "cell_type": "code",
   "execution_count": null,
   "metadata": {},
   "outputs": [],
   "source": [
    "with pytest.raises(InstanceNotEmpty):\n",
    "    delete_instance(f\"testuser1/{instance_name}\")"
   ]
  },
  {
   "cell_type": "markdown",
   "metadata": {},
   "source": [
    "Delete everything:"
   ]
  },
  {
   "cell_type": "code",
   "execution_count": null,
   "metadata": {},
   "outputs": [],
   "source": [
    "shutil.rmtree(test_dir)\n",
    "\n",
    "target_path.unlink()\n",
    "assert not target_path.exists()\n",
    "\n",
    "target_dir.rmdir()\n",
    "assert not target_dir.exists()\n",
    "\n",
    "assert ln_setup.settings.storage._mark_storage_root.exists()\n",
    "\n",
    "ln_setup.delete(\"my-hosted\", force=True)\n",
    "delete_instance(f\"testuser1/{instance_name}\")"
   ]
  }
 ],
 "metadata": {
  "kernelspec": {
   "display_name": "Python 3 (ipykernel)",
   "language": "python",
   "name": "python3"
  },
  "language_info": {
   "codemirror_mode": {
    "name": "ipython",
    "version": 3
   },
   "file_extension": ".py",
   "mimetype": "text/x-python",
   "name": "python",
   "nbconvert_exporter": "python",
   "pygments_lexer": "ipython3",
   "version": "3.9.17"
  }
 },
 "nbformat": 4,
 "nbformat_minor": 2
}
