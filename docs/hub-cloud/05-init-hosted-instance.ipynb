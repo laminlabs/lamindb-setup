{
 "cells": [
  {
   "cell_type": "markdown",
   "metadata": {},
   "source": [
    "# Init hosted instance"
   ]
  },
  {
   "cell_type": "code",
   "execution_count": null,
   "metadata": {},
   "outputs": [],
   "source": [
    "!lamin login testuser1"
   ]
  },
  {
   "cell_type": "code",
   "execution_count": null,
   "metadata": {},
   "outputs": [],
   "source": [
    "import lamindb_setup as ln_setup\n",
    "from lamindb_setup.core.upath import create_path, UPath, InstanceNotEmpty\n",
    "from lamindb_setup.core._hub_core import (\n",
    "    delete_instance,\n",
    "    call_with_fallback_auth,\n",
    "    select_instance_by_owner_name,\n",
    ")\n",
    "import pytest\n",
    "\n",
    "instance_name = \"my-hosted\"\n",
    "assert ln_setup.settings.user.handle == \"testuser1\""
   ]
  },
  {
   "cell_type": "code",
   "execution_count": null,
   "metadata": {},
   "outputs": [],
   "source": [
    "try:\n",
    "    delete_instance(f\"testuser1/{instance_name}\")\n",
    "except InstanceNotEmpty:\n",
    "    instance_with_storage = call_with_fallback_auth(\n",
    "        select_instance_by_owner_name,\n",
    "        owner=\"testuser1\",\n",
    "        name=instance_name,\n",
    "    )\n",
    "    root = create_path(instance_with_storage[\"storage\"][\"root\"])\n",
    "    for obj in root.rglob(\"\"):\n",
    "        if obj.is_file():\n",
    "            obj.unlink()\n",
    "    delete_instance(f\"testuser1/{instance_name}\")"
   ]
  },
  {
   "cell_type": "code",
   "execution_count": null,
   "metadata": {},
   "outputs": [],
   "source": [
    "with pytest.raises(ValueError):\n",
    "    ln_setup.init(storage=\"create-s3\")"
   ]
  },
  {
   "cell_type": "code",
   "execution_count": null,
   "metadata": {},
   "outputs": [],
   "source": [
    "ln_setup.init(name=\"my-hosted\", storage=\"create-s3\")"
   ]
  },
  {
   "cell_type": "code",
   "execution_count": null,
   "metadata": {},
   "outputs": [],
   "source": [
    "from lamindb_setup.core.upath import HOSTED_BUCKETS"
   ]
  },
  {
   "cell_type": "code",
   "execution_count": null,
   "metadata": {},
   "outputs": [],
   "source": [
    "assert ln_setup.settings.instance.storage.type_is_cloud == True\n",
    "assert ln_setup.settings.instance.owner == ln_setup.settings.user.handle\n",
    "assert ln_setup.settings.instance.name == \"my-hosted\"\n",
    "assert ln_setup.settings.storage.root.as_posix().startswith(HOSTED_BUCKETS)\n",
    "assert ln_setup.settings.storage.id is not None"
   ]
  },
  {
   "cell_type": "code",
   "execution_count": null,
   "metadata": {},
   "outputs": [],
   "source": [
    "ln_setup.close()"
   ]
  }
 ],
 "metadata": {
  "kernelspec": {
   "display_name": "Python 3 (ipykernel)",
   "language": "python",
   "name": "python3"
  },
  "language_info": {
   "codemirror_mode": {
    "name": "ipython",
    "version": 3
   },
   "file_extension": ".py",
   "mimetype": "text/x-python",
   "name": "python",
   "nbconvert_exporter": "python",
   "pygments_lexer": "ipython3",
   "version": "3.10.13"
  }
 },
 "nbformat": 4,
 "nbformat_minor": 2
}
