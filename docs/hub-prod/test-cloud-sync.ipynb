{
 "cells": [
  {
   "cell_type": "markdown",
   "id": "404d7543",
   "metadata": {},
   "source": [
    "# Check synchronization of local and cloud files and directories"
   ]
  },
  {
   "cell_type": "code",
   "execution_count": null,
   "id": "6e685a68",
   "metadata": {},
   "outputs": [],
   "source": [
    "import os\n",
    "\n",
    "instance_name = f\"test-sqlite-sync\"\n",
    "!lamin load {instance_name}\n",
    "!yes | lamin delete {instance_name}"
   ]
  },
  {
   "cell_type": "code",
   "execution_count": null,
   "id": "f906c3b7",
   "metadata": {},
   "outputs": [],
   "source": [
    "from lamindb_setup import init, settings\n",
    "import time\n",
    "import os"
   ]
  },
  {
   "cell_type": "code",
   "execution_count": null,
   "id": "b651f6da",
   "metadata": {},
   "outputs": [],
   "source": [
    "init(\n",
    "    storage=f\"s3://lamindb-ci/{instance_name}\",\n",
    "    name=instance_name,\n",
    ")"
   ]
  },
  {
   "cell_type": "markdown",
   "id": "2ff322c2",
   "metadata": {},
   "source": [
    "Set everything up before starting the tests"
   ]
  },
  {
   "cell_type": "code",
   "execution_count": null,
   "id": "0ab17030",
   "metadata": {},
   "outputs": [],
   "source": [
    "dir_sync = settings.storage.root / \"dir_sync\"\n",
    "dir_sync.fs.invalidate_cache()\n",
    "if dir_sync.is_dir():\n",
    "    dir_sync.rmdir()\n",
    "assert not dir_sync.exists()\n",
    "\n",
    "(dir_sync / \"file1\").touch()\n",
    "(dir_sync / \"file2\").touch()\n",
    "\n",
    "assert dir_sync.is_dir()"
   ]
  },
  {
   "cell_type": "code",
   "execution_count": null,
   "id": "fb819996",
   "metadata": {},
   "outputs": [],
   "source": [
    "dir_sync_local = settings.storage.cloud_to_local_no_update(dir_sync)\n",
    "if dir_sync_local.is_dir():\n",
    "    for file in dir_sync_local.iterdir():\n",
    "        file.unlink()\n",
    "    dir_sync_local.rmdir()\n",
    "assert not dir_sync_local.exists()"
   ]
  },
  {
   "cell_type": "code",
   "execution_count": null,
   "id": "f08e2521",
   "metadata": {},
   "outputs": [],
   "source": [
    "num_files = lambda directory: len(\n",
    "    [file for file in directory.rglob(\"*\") if file.is_file()]\n",
    ")"
   ]
  },
  {
   "cell_type": "markdown",
   "id": "574c3f95",
   "metadata": {},
   "source": [
    "Test sync of general files and directories"
   ]
  },
  {
   "cell_type": "code",
   "execution_count": null,
   "id": "21513b48",
   "metadata": {},
   "outputs": [],
   "source": [
    "dir_sync_local = settings.storage.cloud_to_local(dir_sync)"
   ]
  },
  {
   "cell_type": "code",
   "execution_count": null,
   "id": "a0c48799",
   "metadata": {},
   "outputs": [],
   "source": [
    "assert dir_sync_local.is_dir()\n",
    "assert num_files(dir_sync_local) == 2"
   ]
  },
  {
   "cell_type": "code",
   "execution_count": null,
   "id": "26a6c51a",
   "metadata": {},
   "outputs": [],
   "source": [
    "for file in (\"file1\", \"file2\"):\n",
    "    assert (dir_sync_local / file).stat().st_mtime == (\n",
    "        dir_sync / file\n",
    "    ).modified.timestamp()"
   ]
  },
  {
   "cell_type": "code",
   "execution_count": null,
   "id": "0b697c03",
   "metadata": {},
   "outputs": [],
   "source": [
    "local_file = dir_sync_local / \"file1\"\n",
    "local_file.unlink()\n",
    "assert not local_file.exists()\n",
    "assert num_files(dir_sync_local) == 1"
   ]
  },
  {
   "cell_type": "code",
   "execution_count": null,
   "id": "03aec135",
   "metadata": {},
   "outputs": [],
   "source": [
    "dir_sync_local = settings.storage.cloud_to_local(dir_sync)\n",
    "assert local_file.exists()\n",
    "assert num_files(dir_sync_local) == 2"
   ]
  },
  {
   "cell_type": "code",
   "execution_count": null,
   "id": "625c26a6",
   "metadata": {},
   "outputs": [],
   "source": [
    "for file in (\"file1\", \"file2\"):\n",
    "    cloud_file = dir_sync / file\n",
    "    local_file = dir_sync_local / file\n",
    "\n",
    "    cloud_mtime = cloud_file.modified.timestamp()\n",
    "    os.utime(local_file, times=(cloud_mtime - 1, cloud_mtime - 1))\n",
    "\n",
    "    assert local_file.stat().st_mtime < cloud_mtime"
   ]
  },
  {
   "cell_type": "code",
   "execution_count": null,
   "id": "53481cf2",
   "metadata": {},
   "outputs": [],
   "source": [
    "dir_sync_local = settings.storage.cloud_to_local(dir_sync)\n",
    "\n",
    "for file in (\"file1\", \"file2\"):\n",
    "    assert (dir_sync_local / file).stat().st_mtime == (\n",
    "        dir_sync / file\n",
    "    ).modified.timestamp()"
   ]
  },
  {
   "cell_type": "code",
   "execution_count": null,
   "id": "42292a01",
   "metadata": {},
   "outputs": [],
   "source": [
    "(dir_sync_local / \"file1\").unlink()\n",
    "\n",
    "local_file_new = dir_sync_local / \"test/file3\"\n",
    "local_file_new_parent = local_file_new.parent\n",
    "local_file_new_parent.mkdir()\n",
    "local_file_new.touch()\n",
    "assert num_files(dir_sync_local) == 2"
   ]
  },
  {
   "cell_type": "code",
   "execution_count": null,
   "id": "99b8ab13",
   "metadata": {},
   "outputs": [],
   "source": [
    "dir_sync_local = settings.storage.cloud_to_local(dir_sync)\n",
    "assert num_files(dir_sync_local) == 2\n",
    "assert local_file_new.exists()"
   ]
  },
  {
   "cell_type": "code",
   "execution_count": null,
   "id": "672468d8",
   "metadata": {},
   "outputs": [],
   "source": [
    "time.sleep(1)\n",
    "cloud_file = dir_sync / \"file1\"\n",
    "# update cloud timestamp, exist_ok=False needed due to truncate=not exist_ok in upath\n",
    "cloud_file.touch(exist_ok=False)  \n",
    "\n",
    "assert cloud_file.modified.timestamp() > local_file_new.stat().st_mtime"
   ]
  },
  {
   "cell_type": "code",
   "execution_count": null,
   "id": "2934ad68",
   "metadata": {},
   "outputs": [],
   "source": [
    "dir_sync_local = settings.storage.cloud_to_local(dir_sync)\n",
    "\n",
    "assert num_files(dir_sync_local) == 2\n",
    "assert not local_file_new.exists()\n",
    "assert not local_file_new_parent.exists()\n",
    "\n",
    "for file in (\"file1\", \"file2\"):\n",
    "    assert (dir_sync_local / file).stat().st_mtime == (\n",
    "        dir_sync / file\n",
    "    ).modified.timestamp()"
   ]
  },
  {
   "cell_type": "code",
   "execution_count": null,
   "id": "def4f5fd",
   "metadata": {},
   "outputs": [],
   "source": [
    "dir_sync.rmdir()\n",
    "\n",
    "for file in dir_sync_local.iterdir():\n",
    "    file.unlink()\n",
    "dir_sync_local.rmdir()"
   ]
  },
  {
   "cell_type": "markdown",
   "id": "9256886a",
   "metadata": {},
   "source": [
    "Get the paths to the cloud and local sqlite databases."
   ]
  },
  {
   "cell_type": "code",
   "execution_count": null,
   "id": "a10f5317",
   "metadata": {},
   "outputs": [],
   "source": [
    "sqlite_file = settings.instance._sqlite_file"
   ]
  },
  {
   "cell_type": "code",
   "execution_count": null,
   "id": "70f404a3",
   "metadata": {},
   "outputs": [],
   "source": [
    "sqlite_file"
   ]
  },
  {
   "cell_type": "markdown",
   "id": "45967bdd",
   "metadata": {},
   "source": [
    "Remote SQLite file does exists upon instance init:"
   ]
  },
  {
   "cell_type": "code",
   "execution_count": null,
   "id": "81100c7e",
   "metadata": {},
   "outputs": [],
   "source": [
    "assert settings.instance._sqlite_file.exists()"
   ]
  },
  {
   "cell_type": "markdown",
   "id": "c764511d",
   "metadata": {},
   "source": [
    "Now mimic a new user who loads the instance (this runs 4s):"
   ]
  },
  {
   "cell_type": "code",
   "execution_count": null,
   "id": "01ef82da",
   "metadata": {},
   "outputs": [],
   "source": [
    "settings.instance._update_local_sqlite_file()"
   ]
  },
  {
   "cell_type": "markdown",
   "id": "8e39b443",
   "metadata": {},
   "source": [
    "Get the mere filepath of the local file, without any update:"
   ]
  },
  {
   "cell_type": "code",
   "execution_count": null,
   "id": "7b5a850a",
   "metadata": {},
   "outputs": [],
   "source": [
    "cache_file = settings.instance.storage.cloud_to_local_no_update(sqlite_file)"
   ]
  },
  {
   "cell_type": "code",
   "execution_count": null,
   "id": "5f104fdb",
   "metadata": {},
   "outputs": [],
   "source": [
    "cache_file"
   ]
  },
  {
   "cell_type": "markdown",
   "id": "26d8bd48",
   "metadata": {},
   "source": [
    "Delete the local sqlite file:"
   ]
  },
  {
   "cell_type": "code",
   "execution_count": null,
   "id": "2abf1dd1",
   "metadata": {},
   "outputs": [],
   "source": [
    "cache_file.unlink()"
   ]
  },
  {
   "cell_type": "code",
   "execution_count": null,
   "id": "2b04284d",
   "metadata": {},
   "outputs": [],
   "source": [
    "assert not cache_file.exists()"
   ]
  },
  {
   "cell_type": "markdown",
   "id": "27bd0aac",
   "metadata": {},
   "source": [
    "Update the local version of the sqlite file:"
   ]
  },
  {
   "cell_type": "code",
   "execution_count": null,
   "id": "ee390b27",
   "metadata": {},
   "outputs": [],
   "source": [
    "settings.instance._update_local_sqlite_file()"
   ]
  },
  {
   "cell_type": "code",
   "execution_count": null,
   "id": "c7bb2d22",
   "metadata": {},
   "outputs": [],
   "source": [
    "assert cache_file.exists()"
   ]
  },
  {
   "cell_type": "markdown",
   "id": "dc5f6ac8",
   "metadata": {},
   "source": [
    "If the local sqlite database is older than the cloud one, the cloud database replaces the local sqlite database file."
   ]
  },
  {
   "cell_type": "code",
   "execution_count": null,
   "id": "3efbf64a",
   "metadata": {},
   "outputs": [],
   "source": [
    "cloud_mtime = sqlite_file.modified.timestamp()"
   ]
  },
  {
   "cell_type": "code",
   "execution_count": null,
   "id": "dc7d8fce",
   "metadata": {},
   "outputs": [],
   "source": [
    "cloud_mtime"
   ]
  },
  {
   "cell_type": "code",
   "execution_count": null,
   "id": "eeaa994e",
   "metadata": {},
   "outputs": [],
   "source": [
    "os.utime(cache_file, times=(cloud_mtime - 1, cloud_mtime - 1))"
   ]
  },
  {
   "cell_type": "code",
   "execution_count": null,
   "id": "8bf951c3",
   "metadata": {},
   "outputs": [],
   "source": [
    "assert cache_file.stat().st_mtime < sqlite_file.modified.timestamp()"
   ]
  },
  {
   "cell_type": "code",
   "execution_count": null,
   "id": "7616cb64",
   "metadata": {},
   "outputs": [],
   "source": [
    "settings.instance._update_local_sqlite_file()"
   ]
  },
  {
   "cell_type": "code",
   "execution_count": null,
   "id": "b350c551",
   "metadata": {},
   "outputs": [],
   "source": [
    "assert cache_file.stat().st_mtime == sqlite_file.modified.timestamp()"
   ]
  },
  {
   "cell_type": "code",
   "execution_count": null,
   "id": "adb57f7c",
   "metadata": {
    "tags": [
     "hide-cell"
    ]
   },
   "outputs": [],
   "source": [
    "!yes | lamin delete {instance_name}"
   ]
  }
 ],
 "metadata": {
  "kernelspec": {
   "display_name": "Python 3 (ipykernel)",
   "language": "python",
   "name": "python3"
  },
  "language_info": {
   "codemirror_mode": {
    "name": "ipython",
    "version": 3
   },
   "file_extension": ".py",
   "mimetype": "text/x-python",
   "name": "python",
   "nbconvert_exporter": "python",
   "pygments_lexer": "ipython3",
   "version": "3.9.17"
  },
  "vscode": {
   "interpreter": {
    "hash": "b0fa6594d8f4cbf19f97940f81e996739fb7646882a419484c72d19e05852a7e"
   }
  }
 },
 "nbformat": 4,
 "nbformat_minor": 5
}
