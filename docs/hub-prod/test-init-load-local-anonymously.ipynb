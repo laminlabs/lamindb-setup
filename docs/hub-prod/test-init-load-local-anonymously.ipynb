{
 "cells": [
  {
   "cell_type": "code",
   "execution_count": null,
   "id": "c4107648",
   "metadata": {},
   "outputs": [],
   "source": [
    "import lamindb_setup as ln_setup"
   ]
  },
  {
   "cell_type": "markdown",
   "id": "8587fb8e",
   "metadata": {},
   "source": [
    "Check current user."
   ]
  },
  {
   "cell_type": "code",
   "execution_count": null,
   "id": "66c361b1",
   "metadata": {},
   "outputs": [],
   "source": [
    "ln_setup.login(\"testuser2\")\n",
    "assert ln_setup.settings.user.handle == \"testuser2\""
   ]
  },
  {
   "cell_type": "markdown",
   "id": "c6cc67f2",
   "metadata": {},
   "source": [
    "logout and check that the user info was updated."
   ]
  },
  {
   "cell_type": "code",
   "execution_count": null,
   "id": "7a572ee2",
   "metadata": {},
   "outputs": [],
   "source": [
    "ln_setup.logout()\n",
    "assert ln_setup.settings.user.handle == \"anonymous\""
   ]
  },
  {
   "cell_type": "markdown",
   "id": "4b8b119f",
   "metadata": {},
   "source": [
    "Init a local instance anonymously."
   ]
  },
  {
   "cell_type": "code",
   "execution_count": null,
   "id": "f8663b52",
   "metadata": {},
   "outputs": [],
   "source": [
    "!lamin disconnect\n",
    "!lamin init --storage ./test-anonymous-init --schema bionty"
   ]
  },
  {
   "cell_type": "markdown",
   "id": "a9f53d46",
   "metadata": {},
   "source": [
    "Load the instance and check."
   ]
  },
  {
   "cell_type": "code",
   "execution_count": null,
   "id": "1bb37c25",
   "metadata": {},
   "outputs": [],
   "source": [
    "ln_setup.load(\"test-anonymous-init\")\n",
    "assert ln_setup.settings.instance.name == \"test-anonymous-init\"\n",
    "assert ln_setup.settings.instance.owner == \"anonymous\""
   ]
  },
  {
   "cell_type": "markdown",
   "id": "9c19ede8",
   "metadata": {},
   "source": [
    "Clean up."
   ]
  },
  {
   "cell_type": "code",
   "execution_count": null,
   "id": "b37256df",
   "metadata": {},
   "outputs": [],
   "source": [
    "ln_setup.delete(\"test-anonymous-init\", force=True)"
   ]
  },
  {
   "cell_type": "code",
   "execution_count": null,
   "id": "c1eea364",
   "metadata": {},
   "outputs": [],
   "source": [
    "ln_setup.login(\"testuser2\")"
   ]
  }
 ],
 "metadata": {
  "kernelspec": {
   "display_name": "Python 3 (ipykernel)",
   "language": "python",
   "name": "python3"
  },
  "language_info": {
   "codemirror_mode": {
    "name": "ipython",
    "version": 3
   },
   "file_extension": ".py",
   "mimetype": "text/x-python",
   "name": "python",
   "nbconvert_exporter": "python",
   "pygments_lexer": "ipython3",
   "version": "3.9.17"
  }
 },
 "nbformat": 4,
 "nbformat_minor": 5
}
