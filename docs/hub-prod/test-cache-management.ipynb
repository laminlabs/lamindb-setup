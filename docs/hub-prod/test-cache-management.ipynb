{
 "cells": [
  {
   "cell_type": "markdown",
   "id": "14c2ca43",
   "metadata": {},
   "source": [
    "# Test cache management"
   ]
  },
  {
   "cell_type": "code",
   "execution_count": null,
   "id": "fb4845c7",
   "metadata": {},
   "outputs": [],
   "source": [
    "import os\n",
    "from dotenv import dotenv_values\n",
    "from platformdirs import user_config_dir\n",
    "\n",
    "# otherwise writing to system_settings_file() fails\n",
    "os.environ[\"XDG_CONFIG_DIRS\"] = user_config_dir()\n",
    "\n",
    "import pytest\n",
    "import lamindb_setup as ln_setup\n",
    "from lamindb_setup._cache import set_cache_dir\n",
    "from lamindb_setup.core._settings_store import (\n",
    "    platform_user_storage_settings_file,\n",
    "    system_settings_file,\n",
    ")\n",
    "from lamindb_setup.core._settings_load import load_cache_path_from_settings\n",
    "\n",
    "ln_setup.login(\"testuser2\")"
   ]
  },
  {
   "cell_type": "code",
   "execution_count": null,
   "id": "62b929d1",
   "metadata": {},
   "outputs": [],
   "source": [
    "if platform_user_storage_settings_file().exists():\n",
    "    platform_user_storage_settings_file().unlink()"
   ]
  },
  {
   "cell_type": "code",
   "execution_count": null,
   "id": "05adf185",
   "metadata": {},
   "outputs": [],
   "source": [
    "ln_setup.init(storage=\"s3://lamindb-ci/test-cache\", name=\"test-cache\")"
   ]
  },
  {
   "cell_type": "code",
   "execution_count": null,
   "id": "1f984eac",
   "metadata": {},
   "outputs": [],
   "source": [
    "print(ln_setup.settings)"
   ]
  },
  {
   "cell_type": "markdown",
   "id": "fc410abd",
   "metadata": {},
   "source": [
    "Check that setting the cache dir works."
   ]
  },
  {
   "cell_type": "code",
   "execution_count": null,
   "id": "4758d49b",
   "metadata": {},
   "outputs": [],
   "source": [
    "assert not platform_user_storage_settings_file().exists()"
   ]
  },
  {
   "cell_type": "code",
   "execution_count": null,
   "id": "0fe69c33",
   "metadata": {},
   "outputs": [],
   "source": [
    "initial_cache_dir = ln_setup.settings.cache_dir\n",
    "\n",
    "system_cache_dir = initial_cache_dir.parent / \"Cache_system\"\n",
    "system_cache_dir.mkdir(parents=True, exist_ok=True)"
   ]
  },
  {
   "cell_type": "markdown",
   "id": "90126758",
   "metadata": {},
   "source": [
    "You can specify system-wide cache dir via system settings file, it has the lowest priority."
   ]
  },
  {
   "cell_type": "code",
   "execution_count": null,
   "id": "58fe268f",
   "metadata": {},
   "outputs": [],
   "source": [
    "system_settings = system_settings_file()\n",
    "system_settings.parent.mkdir(parents=True, exist_ok=True)\n",
    "\n",
    "with open(system_settings, \"w\") as f:\n",
    "    f.write(f\"lamindb_cache_path={system_cache_dir.as_posix()}\")"
   ]
  },
  {
   "cell_type": "code",
   "execution_count": null,
   "id": "58de6e01",
   "metadata": {},
   "outputs": [],
   "source": [
    "ln_setup.settings._cache_dir = None\n",
    "\n",
    "assert ln_setup.settings.cache_dir == system_cache_dir"
   ]
  },
  {
   "cell_type": "code",
   "execution_count": null,
   "id": "511a73d4",
   "metadata": {},
   "outputs": [],
   "source": [
    "new_cache_dir = initial_cache_dir.parent / \"Cache1\""
   ]
  },
  {
   "cell_type": "code",
   "execution_count": null,
   "id": "f809a95f",
   "metadata": {},
   "outputs": [],
   "source": [
    "with pytest.raises(ValueError) as error:\n",
    "    set_cache_dir(\"./\")\n",
    "assert error.exconly() == \"ValueError: A path to the cache dir should be absolute.\""
   ]
  },
  {
   "cell_type": "code",
   "execution_count": null,
   "id": "2cacb380",
   "metadata": {},
   "outputs": [],
   "source": [
    "set_cache_dir(new_cache_dir)\n",
    "\n",
    "ln_setup.settings._cache_dir = (\n",
    "    None  # just reset to check that the cache dir is loaded correctly\n",
    ")"
   ]
  },
  {
   "cell_type": "code",
   "execution_count": null,
   "id": "32cd1d26",
   "metadata": {},
   "outputs": [],
   "source": [
    "platform_user_storage_settings = platform_user_storage_settings_file()\n",
    "\n",
    "assert platform_user_storage_settings.exists()\n",
    "\n",
    "lamindb_cache_path = dotenv_values(platform_user_storage_settings)[\"lamindb_cache_path\"]\n",
    "\n",
    "assert lamindb_cache_path == new_cache_dir.as_posix(), lamindb_cache_path"
   ]
  },
  {
   "cell_type": "code",
   "execution_count": null,
   "id": "cb75539e",
   "metadata": {},
   "outputs": [],
   "source": [
    "loaded_cache_path = load_cache_path_from_settings()\n",
    "\n",
    "assert loaded_cache_path == new_cache_dir, loaded_cache_path"
   ]
  },
  {
   "cell_type": "code",
   "execution_count": null,
   "id": "c1958c5b",
   "metadata": {},
   "outputs": [],
   "source": [
    "assert ln_setup.settings.cache_dir == new_cache_dir, ln_setup.settings.cache_dir"
   ]
  },
  {
   "cell_type": "code",
   "execution_count": null,
   "id": "0f39c10f",
   "metadata": {},
   "outputs": [],
   "source": [
    "assert new_cache_dir.exists()"
   ]
  },
  {
   "cell_type": "code",
   "execution_count": null,
   "id": "abb797de",
   "metadata": {},
   "outputs": [],
   "source": [
    "assert new_cache_dir in ln_setup.settings.instance._sqlite_file_local.parents"
   ]
  },
  {
   "cell_type": "markdown",
   "id": "b149a867",
   "metadata": {},
   "source": [
    "Check clearing the cache dir, also closes the cloud sqlite instance."
   ]
  },
  {
   "cell_type": "code",
   "execution_count": null,
   "id": "83accdf1",
   "metadata": {},
   "outputs": [],
   "source": [
    "exit_status = os.system(\"lamin cache clear\")\n",
    "assert exit_status == 0"
   ]
  },
  {
   "cell_type": "code",
   "execution_count": null,
   "id": "87778fbf",
   "metadata": {},
   "outputs": [],
   "source": [
    "cache_content = list(new_cache_dir.iterdir())\n",
    "assert len(cache_content) == 0, cache_content"
   ]
  },
  {
   "cell_type": "markdown",
   "id": "e2aeabb4",
   "metadata": {},
   "source": [
    "Setting to `\"null\"` or `None` restores the default directory."
   ]
  },
  {
   "cell_type": "code",
   "execution_count": null,
   "id": "95aec7fd",
   "metadata": {},
   "outputs": [],
   "source": [
    "set_cache_dir(\"null\")"
   ]
  },
  {
   "cell_type": "code",
   "execution_count": null,
   "id": "f1923e4d",
   "metadata": {},
   "outputs": [],
   "source": [
    "assert ln_setup.settings.cache_dir == system_cache_dir"
   ]
  },
  {
   "cell_type": "code",
   "execution_count": null,
   "id": "bdb03994",
   "metadata": {},
   "outputs": [],
   "source": [
    "set_cache_dir(None)"
   ]
  },
  {
   "cell_type": "code",
   "execution_count": null,
   "id": "6ae6f8e2",
   "metadata": {},
   "outputs": [],
   "source": [
    "assert ln_setup.settings.cache_dir == system_cache_dir"
   ]
  },
  {
   "cell_type": "code",
   "execution_count": null,
   "id": "1e08abf2",
   "metadata": {},
   "outputs": [],
   "source": [
    "system_settings.unlink()"
   ]
  },
  {
   "cell_type": "code",
   "execution_count": null,
   "id": "6e86fc4a",
   "metadata": {},
   "outputs": [],
   "source": [
    "ln_setup.settings._cache_dir = None\n",
    "assert ln_setup.settings.cache_dir == initial_cache_dir"
   ]
  },
  {
   "cell_type": "markdown",
   "id": "57c74240",
   "metadata": {},
   "source": [
    "Setting the cache dir through CLI doesn't affect the currently loaded settings because it is done in another process and the settings only check the cache dir in `settings.env` on init."
   ]
  },
  {
   "cell_type": "markdown",
   "id": "75d63a9e",
   "metadata": {},
   "source": [
    "Check CLI."
   ]
  },
  {
   "cell_type": "code",
   "execution_count": null,
   "id": "52749ad0",
   "metadata": {},
   "outputs": [],
   "source": [
    "exit_status = os.system(\"lamin cache get\")\n",
    "assert exit_status == 0"
   ]
  },
  {
   "cell_type": "code",
   "execution_count": null,
   "id": "f9e7a289",
   "metadata": {},
   "outputs": [],
   "source": [
    "exit_status = os.system(\"lamin cache set 'null'\")\n",
    "assert exit_status == 0"
   ]
  },
  {
   "cell_type": "markdown",
   "id": "09834230",
   "metadata": {},
   "source": [
    "Clean up."
   ]
  },
  {
   "cell_type": "code",
   "execution_count": null,
   "id": "a58062c8",
   "metadata": {},
   "outputs": [],
   "source": [
    "platform_user_storage_settings_file().unlink()\n",
    "ln_setup.delete(\"test-cache\", force=True)"
   ]
  }
 ],
 "metadata": {
  "kernelspec": {
   "display_name": "Python 3 (ipykernel)",
   "language": "python",
   "name": "python3"
  },
  "language_info": {
   "codemirror_mode": {
    "name": "ipython",
    "version": 3
   },
   "file_extension": ".py",
   "mimetype": "text/x-python",
   "name": "python",
   "nbconvert_exporter": "python",
   "pygments_lexer": "ipython3",
   "version": "3.10.16"
  }
 },
 "nbformat": 4,
 "nbformat_minor": 5
}
