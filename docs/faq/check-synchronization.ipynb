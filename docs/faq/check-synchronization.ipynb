{
 "cells": [
  {
   "cell_type": "markdown",
   "id": "404d7543",
   "metadata": {},
   "source": [
    "# Check synchronization of local and cloud sqlite databases"
   ]
  },
  {
   "cell_type": "code",
   "execution_count": null,
   "id": "f906c3b7",
   "metadata": {},
   "outputs": [],
   "source": [
    "from lndb import login, init, settings, delete\n",
    "import os"
   ]
  },
  {
   "cell_type": "code",
   "execution_count": null,
   "id": "47db6427",
   "metadata": {},
   "outputs": [],
   "source": [
    "login(\"testuser1@lamin.ai\")"
   ]
  },
  {
   "cell_type": "code",
   "execution_count": null,
   "id": "b651f6da",
   "metadata": {},
   "outputs": [],
   "source": [
    "init(storage=\"s3://lndb-setup-ci\")"
   ]
  },
  {
   "cell_type": "markdown",
   "id": "9256886a",
   "metadata": {},
   "source": [
    "Get the paths to the cloud and local sqlite databases."
   ]
  },
  {
   "cell_type": "code",
   "execution_count": null,
   "id": "a10f5317",
   "metadata": {},
   "outputs": [],
   "source": [
    "sqlite_file = settings.instance._sqlite_file"
   ]
  },
  {
   "cell_type": "code",
   "execution_count": null,
   "id": "70f404a3",
   "metadata": {},
   "outputs": [],
   "source": [
    "sqlite_file"
   ]
  },
  {
   "cell_type": "code",
   "execution_count": null,
   "id": "7b5a850a",
   "metadata": {},
   "outputs": [],
   "source": [
    "cache_file = settings.instance.storage.cloud_to_local_no_update(sqlite_file)"
   ]
  },
  {
   "cell_type": "code",
   "execution_count": null,
   "id": "5f104fdb",
   "metadata": {},
   "outputs": [],
   "source": [
    "cache_file"
   ]
  },
  {
   "cell_type": "markdown",
   "id": "26d8bd48",
   "metadata": {},
   "source": [
    "Delete the local sqlite database file."
   ]
  },
  {
   "cell_type": "code",
   "execution_count": null,
   "id": "2abf1dd1",
   "metadata": {},
   "outputs": [],
   "source": [
    "cache_file.unlink()"
   ]
  },
  {
   "cell_type": "code",
   "execution_count": null,
   "id": "2b04284d",
   "metadata": {},
   "outputs": [],
   "source": [
    "assert not cache_file.exists()"
   ]
  },
  {
   "cell_type": "markdown",
   "id": "27bd0aac",
   "metadata": {},
   "source": [
    "Access to the session restores the local version of sqlite database by downloading it from the cloud."
   ]
  },
  {
   "cell_type": "code",
   "execution_count": null,
   "id": "ee390b27",
   "metadata": {},
   "outputs": [],
   "source": [
    "settings.instance.session()"
   ]
  },
  {
   "cell_type": "code",
   "execution_count": null,
   "id": "c7bb2d22",
   "metadata": {},
   "outputs": [],
   "source": [
    "assert cache_file.exists()"
   ]
  },
  {
   "cell_type": "markdown",
   "id": "dc5f6ac8",
   "metadata": {},
   "source": [
    "If the local sqlite database is older than the cloud one, the cloud database replaces the local sqlite database file."
   ]
  },
  {
   "cell_type": "code",
   "execution_count": null,
   "id": "3efbf64a",
   "metadata": {},
   "outputs": [],
   "source": [
    "cloud_mtime = sqlite_file.modified.timestamp()"
   ]
  },
  {
   "cell_type": "code",
   "execution_count": null,
   "id": "dc7d8fce",
   "metadata": {},
   "outputs": [],
   "source": [
    "cloud_mtime"
   ]
  },
  {
   "cell_type": "code",
   "execution_count": null,
   "id": "eeaa994e",
   "metadata": {},
   "outputs": [],
   "source": [
    "os.utime(cache_file, times=(cloud_mtime - 1, cloud_mtime - 1))"
   ]
  },
  {
   "cell_type": "code",
   "execution_count": null,
   "id": "8bf951c3",
   "metadata": {},
   "outputs": [],
   "source": [
    "assert cache_file.stat().st_mtime < sqlite_file.modified.timestamp()"
   ]
  },
  {
   "cell_type": "code",
   "execution_count": null,
   "id": "7616cb64",
   "metadata": {},
   "outputs": [],
   "source": [
    "settings.instance.session()"
   ]
  },
  {
   "cell_type": "code",
   "execution_count": null,
   "id": "b350c551",
   "metadata": {},
   "outputs": [],
   "source": [
    "assert cache_file.stat().st_mtime == sqlite_file.modified.timestamp()"
   ]
  },
  {
   "cell_type": "code",
   "execution_count": null,
   "id": "adb57f7c",
   "metadata": {},
   "outputs": [],
   "source": [
    "# clean up\n",
    "settings.instance._sqlite_file.unlink()\n",
    "delete(\"lndb-setup-ci\")"
   ]
  }
 ],
 "metadata": {
  "kernelspec": {
   "display_name": "Python 3",
   "language": "python",
   "name": "python3"
  },
  "language_info": {
   "codemirror_mode": {
    "name": "ipython",
    "version": 3
   },
   "file_extension": ".py",
   "mimetype": "text/x-python",
   "name": "python",
   "nbconvert_exporter": "python",
   "pygments_lexer": "ipython3",
   "version": "3.9.13"
  },
  "vscode": {
   "interpreter": {
    "hash": "b0fa6594d8f4cbf19f97940f81e996739fb7646882a419484c72d19e05852a7e"
   }
  }
 },
 "nbformat": 4,
 "nbformat_minor": 5
}
