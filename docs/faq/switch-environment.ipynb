{
 "cells": [
  {
   "cell_type": "markdown",
   "id": "b43d09d5-26d3-440d-b334-9643ec5248e6",
   "metadata": {
    "tags": []
   },
   "source": [
    "# Test switch environment"
   ]
  },
  {
   "cell_type": "code",
   "execution_count": null,
   "id": "33c2bb76-d61f-4866-87e2-780e61600022",
   "metadata": {},
   "outputs": [],
   "source": [
    "from lndb import settings, signup, init, login\n",
    "from lndb.dev._settings_load import load_instance_settings\n",
    "import os"
   ]
  },
  {
   "cell_type": "code",
   "execution_count": null,
   "id": "a9cbc2b8",
   "metadata": {},
   "outputs": [],
   "source": [
    "login(\"testuser1@lamin.ai\")\n",
    "init(storage=\"mydata_prod\")\n",
    "\n",
    "user_access_token_prod = settings.user.access_token"
   ]
  },
  {
   "cell_type": "code",
   "execution_count": null,
   "id": "a5e8a0a6",
   "metadata": {},
   "outputs": [],
   "source": [
    "# os.environ[\"LAMIN_ENV\"] = \"dev\"\n",
    "\n",
    "# login(\"testuser1@lamin.ai\", password=\"BCRRvPjzjnEW4z0Sg4ecB474CEdOeFNWG5OgTnsO\")\n",
    "# init(storage=\"mydata_dev\")\n",
    "\n",
    "# user_access_token_dev = settings.user.access_token"
   ]
  },
  {
   "cell_type": "code",
   "execution_count": null,
   "id": "6c948145",
   "metadata": {},
   "outputs": [],
   "source": [
    "# os.environ[\"LAMIN_ENV\"] = \"test\"\n",
    "\n",
    "# login(\"testuser1@lamin.ai\", password=\"3gYFv98ctNqYzgsf9iOrxmVUWkT2LkAD2l1V75jz\")\n",
    "# init(storage=\"mydata_test\")\n",
    "\n",
    "# user_access_token_test = settings.user.access_token"
   ]
  },
  {
   "cell_type": "code",
   "execution_count": null,
   "id": "f63669d8",
   "metadata": {},
   "outputs": [],
   "source": [
    "# os.environ[\"LAMIN_ENV\"] = \"prod\"\n",
    "\n",
    "# settings.instance.name == \"mydata_prod\"\n",
    "# settings.user.access_token == user_access_token_prod"
   ]
  },
  {
   "cell_type": "code",
   "execution_count": null,
   "id": "87f37005",
   "metadata": {},
   "outputs": [],
   "source": [
    "# os.environ[\"LAMIN_ENV\"] = \"dev\"\n",
    "\n",
    "# settings.instance.name == \"mydata_dev\"\n",
    "# settings.user.access_token == user_access_token_dev"
   ]
  },
  {
   "cell_type": "code",
   "execution_count": null,
   "id": "db95be8e",
   "metadata": {},
   "outputs": [],
   "source": [
    "# os.environ[\"LAMIN_ENV\"] = \"test\"\n",
    "\n",
    "# settings.instance.name == \"mydata_test\"\n",
    "# settings.user.access_token == user_access_token_test"
   ]
  },
  {
   "cell_type": "code",
   "execution_count": null,
   "id": "26fe982b",
   "metadata": {},
   "outputs": [],
   "source": [
    "# os.environ[\"LAMIN_ENV\"] = \"prod\""
   ]
  }
 ],
 "metadata": {
  "kernelspec": {
   "display_name": "base",
   "language": "python",
   "name": "python3"
  },
  "language_info": {
   "codemirror_mode": {
    "name": "ipython",
    "version": 3
   },
   "file_extension": ".py",
   "mimetype": "text/x-python",
   "name": "python",
   "nbconvert_exporter": "python",
   "pygments_lexer": "ipython3",
   "version": "3.9.13"
  },
  "vscode": {
   "interpreter": {
    "hash": "40d3a090f54c6569ab1632332b64b2c03c39dcf918b08424e98f38b5ae0af88f"
   }
  }
 },
 "nbformat": 4,
 "nbformat_minor": 5
}
