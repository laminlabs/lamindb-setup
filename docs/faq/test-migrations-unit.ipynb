{
 "cells": [
  {
   "cell_type": "markdown",
   "id": "558d9dfc-e367-4406-b8df-c67647385e76",
   "metadata": {},
   "source": [
    "# Test migrations unit"
   ]
  },
  {
   "cell_type": "code",
   "execution_count": null,
   "id": "a11f61be-cdb7-4f2c-9ab1-7f7a8c0351ea",
   "metadata": {},
   "outputs": [],
   "source": [
    "from lndb._migrate import generate_module_files\n",
    "from lndb.test import model_definitions_match_ddl\n",
    "import lnschema_core\n",
    "from pathlib import Path\n",
    "from lnschema_core import _schema_id as schema_id\n",
    "from laminci.db import setup_local_test_postgres\n",
    "import lamindb as ln\n",
    "import os\n",
    "\n",
    "package_name = \"lnschema_core\"\n",
    "migrations_path = Path(lnschema_core.__file__).parent / package_name / \"migrations\""
   ]
  },
  {
   "cell_type": "code",
   "execution_count": null,
   "id": "ce23227a-af86-4621-90b3-baff8107cd67",
   "metadata": {},
   "outputs": [],
   "source": [
    "setup_local_test_postgres()"
   ]
  },
  {
   "cell_type": "code",
   "execution_count": null,
   "id": "c869f00e-a752-4410-b080-3a127763f3d0",
   "metadata": {},
   "outputs": [],
   "source": [
    "migrations_path"
   ]
  },
  {
   "cell_type": "code",
   "execution_count": null,
   "id": "79a3214f-ef24-4927-afe6-aaa8cde23157",
   "metadata": {},
   "outputs": [],
   "source": [
    "# currently still needed\n",
    "os.chdir(Path(lnschema_core.__file__).parent.parent)"
   ]
  },
  {
   "cell_type": "code",
   "execution_count": null,
   "id": "b49d863b-37e4-44f1-be3f-2e5fce1e9342",
   "metadata": {},
   "outputs": [],
   "source": [
    "def test_model_definitions_match_ddl_postgres():\n",
    "    generate_module_files(\n",
    "        package_name=package_name, migrations_path=migrations_path, schema_id=schema_id\n",
    "    )\n",
    "    model_definitions_match_ddl(package_name, dialect_name=\"postgresql\")"
   ]
  },
  {
   "cell_type": "code",
   "execution_count": null,
   "id": "a0dca892-4a44-48ba-91f0-7f6b78bba4d2",
   "metadata": {},
   "outputs": [],
   "source": [
    "test_model_definitions_match_ddl_postgres()"
   ]
  }
 ],
 "metadata": {
  "kernelspec": {
   "display_name": "Python 3 (ipykernel)",
   "language": "python",
   "name": "python3"
  },
  "language_info": {
   "codemirror_mode": {
    "name": "ipython",
    "version": 3
   },
   "file_extension": ".py",
   "mimetype": "text/x-python",
   "name": "python",
   "nbconvert_exporter": "python",
   "pygments_lexer": "ipython3",
   "version": "3.9.15"
  }
 },
 "nbformat": 4,
 "nbformat_minor": 5
}
