{
 "cells": [
  {
   "cell_type": "markdown",
   "id": "558d9dfc-e367-4406-b8df-c67647385e76",
   "metadata": {},
   "source": [
    "# Test migrations unit"
   ]
  },
  {
   "cell_type": "markdown",
   "id": "4330bc99-65c0-491d-a750-f59d86278b98",
   "metadata": {},
   "source": [
    "Let us first mimic what happens inside a noxfile in a schema module. We set up a reference instance:"
   ]
  },
  {
   "cell_type": "code",
   "execution_count": null,
   "id": "a11f61be-cdb7-4f2c-9ab1-7f7a8c0351ea",
   "metadata": {},
   "outputs": [],
   "source": [
    "from laminci.db import setup_local_test_postgres\n",
    "import lndb"
   ]
  },
  {
   "cell_type": "code",
   "execution_count": null,
   "id": "ce23227a-af86-4621-90b3-baff8107cd67",
   "metadata": {},
   "outputs": [],
   "source": [
    "pgurl = setup_local_test_postgres()"
   ]
  },
  {
   "cell_type": "code",
   "execution_count": null,
   "id": "cd90aa98-51a6-4e08-9945-be2b2c5944bf",
   "metadata": {},
   "outputs": [],
   "source": [
    "lndb.init(storage=\"./pgtest\", db=pgurl)"
   ]
  },
  {
   "cell_type": "markdown",
   "id": "5082f68d-11c4-4568-8651-1b58f12825a7",
   "metadata": {},
   "source": [
    "Let's now procede to importing lnschema_core (it depends on the current instance settings which were changed by lndb.init):"
   ]
  },
  {
   "cell_type": "code",
   "execution_count": null,
   "id": "5ce51d4d-b5a5-4a50-98f1-5ac993070f19",
   "metadata": {},
   "outputs": [],
   "source": [
    "import lnschema_core\n",
    "from pathlib import Path\n",
    "from lnschema_core import _schema_id as schema_id\n",
    "from lndb._migrate import generate_module_files\n",
    "from lndb.test import model_definitions_match_ddl\n",
    "import lamindb as ln\n",
    "import os"
   ]
  },
  {
   "cell_type": "code",
   "execution_count": null,
   "id": "24ce5c11-2f13-40b7-baa8-a6c8e4c7800c",
   "metadata": {},
   "outputs": [],
   "source": [
    "package_name = \"lnschema_core\"\n",
    "migrations_path = Path(lnschema_core.__file__).parent / package_name / \"migrations\""
   ]
  },
  {
   "cell_type": "code",
   "execution_count": null,
   "id": "79a3214f-ef24-4927-afe6-aaa8cde23157",
   "metadata": {},
   "outputs": [],
   "source": [
    "# currently still needed\n",
    "os.chdir(Path(lnschema_core.__file__).parent.parent)"
   ]
  },
  {
   "cell_type": "code",
   "execution_count": null,
   "id": "b49d863b-37e4-44f1-be3f-2e5fce1e9342",
   "metadata": {},
   "outputs": [],
   "source": [
    "def test_model_definitions_match_ddl_postgres():\n",
    "    generate_module_files(\n",
    "        package_name=package_name, migrations_path=migrations_path, schema_id=schema_id\n",
    "    )\n",
    "    model_definitions_match_ddl(package_name, dialect_name=\"postgresql\")"
   ]
  },
  {
   "cell_type": "code",
   "execution_count": null,
   "id": "a0dca892-4a44-48ba-91f0-7f6b78bba4d2",
   "metadata": {},
   "outputs": [],
   "source": [
    "test_model_definitions_match_ddl_postgres()"
   ]
  }
 ],
 "metadata": {
  "kernelspec": {
   "display_name": "Python 3 (ipykernel)",
   "language": "python",
   "name": "python3"
  },
  "language_info": {
   "codemirror_mode": {
    "name": "ipython",
    "version": 3
   },
   "file_extension": ".py",
   "mimetype": "text/x-python",
   "name": "python",
   "nbconvert_exporter": "python",
   "pygments_lexer": "ipython3",
   "version": "3.9.15"
  }
 },
 "nbformat": 4,
 "nbformat_minor": 5
}
