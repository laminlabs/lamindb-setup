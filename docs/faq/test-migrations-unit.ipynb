{
 "cells": [
  {
   "cell_type": "markdown",
   "id": "558d9dfc-e367-4406-b8df-c67647385e76",
   "metadata": {},
   "source": [
    "# Test migrations unit"
   ]
  },
  {
   "cell_type": "markdown",
   "id": "4330bc99-65c0-491d-a750-f59d86278b98",
   "metadata": {},
   "source": [
    "Let us first mimic what happens inside a noxfile in a schema module. We set up a reference instance:"
   ]
  },
  {
   "cell_type": "code",
   "execution_count": null,
   "id": "a11f61be-cdb7-4f2c-9ab1-7f7a8c0351ea",
   "metadata": {},
   "outputs": [],
   "source": [
    "import lndb\n",
    "from laminci.db import setup_local_test_postgres\n",
    "from lndb.test import model_definitions_match_ddl, migration_id_is_consistent"
   ]
  },
  {
   "cell_type": "code",
   "execution_count": null,
   "id": "33698fec",
   "metadata": {},
   "outputs": [],
   "source": [
    "package_name = \"lnschema_core\""
   ]
  },
  {
   "cell_type": "code",
   "execution_count": null,
   "id": "4ad2b808",
   "metadata": {},
   "outputs": [],
   "source": [
    "migration_id_is_consistent(package_name)"
   ]
  },
  {
   "cell_type": "code",
   "execution_count": null,
   "id": "ce23227a-af86-4621-90b3-baff8107cd67",
   "metadata": {},
   "outputs": [],
   "source": [
    "pgurl = setup_local_test_postgres()"
   ]
  },
  {
   "cell_type": "code",
   "execution_count": null,
   "id": "cd90aa98-51a6-4e08-9945-be2b2c5944bf",
   "metadata": {},
   "outputs": [],
   "source": [
    "lndb.init(storage=\"./pgtest\", db=pgurl)"
   ]
  },
  {
   "cell_type": "markdown",
   "id": "5082f68d-11c4-4568-8651-1b58f12825a7",
   "metadata": {},
   "source": [
    "Let's now procede to importing lnschema_core (it depends on the current instance settings which were changed by lndb.init):"
   ]
  },
  {
   "cell_type": "code",
   "execution_count": null,
   "id": "5ce51d4d-b5a5-4a50-98f1-5ac993070f19",
   "metadata": {},
   "outputs": [],
   "source": [
    "import os\n",
    "import lnschema_core\n",
    "from pathlib import Path\n",
    "from lnschema_core import _schema_id as schema_id\n",
    "from lndb._migrate import generate_module_files"
   ]
  },
  {
   "cell_type": "code",
   "execution_count": null,
   "id": "24ce5c11-2f13-40b7-baa8-a6c8e4c7800c",
   "metadata": {},
   "outputs": [],
   "source": [
    "migrations_path = Path(lnschema_core.__file__).parent / \"migrations\""
   ]
  },
  {
   "cell_type": "code",
   "execution_count": null,
   "id": "c4ef3b08-486d-43d3-9e02-201fc4f91957",
   "metadata": {},
   "outputs": [],
   "source": [
    "migrations_path"
   ]
  },
  {
   "cell_type": "code",
   "execution_count": null,
   "id": "b49d863b-37e4-44f1-be3f-2e5fce1e9342",
   "metadata": {},
   "outputs": [],
   "source": [
    "def test_model_definitions_match_ddl_postgres():\n",
    "    generate_module_files(\n",
    "        package_name=package_name, migrations_path=migrations_path, schema_id=schema_id\n",
    "    )\n",
    "    model_definitions_match_ddl(package_name, dialect_name=\"postgresql\")"
   ]
  },
  {
   "cell_type": "code",
   "execution_count": null,
   "id": "a0dca892-4a44-48ba-91f0-7f6b78bba4d2",
   "metadata": {},
   "outputs": [],
   "source": [
    "test_model_definitions_match_ddl_postgres()"
   ]
  }
 ],
 "metadata": {
  "kernelspec": {
   "display_name": "py39",
   "language": "python",
   "name": "python3"
  },
  "language_info": {
   "codemirror_mode": {
    "name": "ipython",
    "version": 3
   },
   "file_extension": ".py",
   "mimetype": "text/x-python",
   "name": "python",
   "nbconvert_exporter": "python",
   "pygments_lexer": "ipython3",
   "version": "3.9.15"
  },
  "vscode": {
   "interpreter": {
    "hash": "61b4062b24dfb1010f420dad5aa3bd73a4d2af47d0ec44eafec465a35a9d7239"
   }
  }
 },
 "nbformat": 4,
 "nbformat_minor": 5
}
