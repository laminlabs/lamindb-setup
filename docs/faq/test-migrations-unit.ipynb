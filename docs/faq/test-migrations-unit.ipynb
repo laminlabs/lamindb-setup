{
 "cells": [
  {
   "attachments": {},
   "cell_type": "markdown",
   "id": "558d9dfc-e367-4406-b8df-c67647385e76",
   "metadata": {},
   "source": [
    "# Test migrations unit"
   ]
  },
  {
   "attachments": {},
   "cell_type": "markdown",
   "id": "4330bc99-65c0-491d-a750-f59d86278b98",
   "metadata": {},
   "source": [
    "Let us first mimic what happens inside a noxfile in a schema module. We set up a reference instance:"
   ]
  },
  {
   "cell_type": "code",
   "execution_count": null,
   "id": "a11f61be-cdb7-4f2c-9ab1-7f7a8c0351ea",
   "metadata": {},
   "outputs": [],
   "source": [
    "import lamindb_setup\n",
    "from laminci.db import setup_local_test_postgres\n",
    "from lamindb_setup.test import model_definitions_match_ddl, migration_id_is_consistent"
   ]
  },
  {
   "cell_type": "code",
   "execution_count": null,
   "id": "33698fec",
   "metadata": {},
   "outputs": [],
   "source": [
    "package_name = \"lnschema_core\""
   ]
  },
  {
   "cell_type": "code",
   "execution_count": null,
   "id": "4ad2b808",
   "metadata": {},
   "outputs": [],
   "source": [
    "migration_id_is_consistent(package_name)"
   ]
  },
  {
   "cell_type": "code",
   "execution_count": null,
   "id": "b49d863b-37e4-44f1-be3f-2e5fce1e9342",
   "metadata": {},
   "outputs": [],
   "source": [
    "# strange problem currently about not finding the migration script\n",
    "# pgurl = setup_local_test_postgres()\n",
    "# lamindb_setup.init(storage=\"./pgtest\", db=pgurl)\n",
    "# model_definitions_match_ddl(package_name, db=pgurl, dialect_name=\"postgresql\")"
   ]
  }
 ],
 "metadata": {
  "kernelspec": {
   "display_name": "py39",
   "language": "python",
   "name": "python3"
  },
  "language_info": {
   "codemirror_mode": {
    "name": "ipython",
    "version": 3
   },
   "file_extension": ".py",
   "mimetype": "text/x-python",
   "name": "python",
   "nbconvert_exporter": "python",
   "pygments_lexer": "ipython3",
   "version": "3.9.15"
  },
  "vscode": {
   "interpreter": {
    "hash": "61b4062b24dfb1010f420dad5aa3bd73a4d2af47d0ec44eafec465a35a9d7239"
   }
  }
 },
 "nbformat": 4,
 "nbformat_minor": 5
}
