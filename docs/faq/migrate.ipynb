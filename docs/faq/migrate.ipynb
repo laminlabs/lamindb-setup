{
 "cells": [
  {
   "cell_type": "markdown",
   "id": "b43d09d5-26d3-440d-b334-9643ec5248e6",
   "metadata": {
    "tags": []
   },
   "source": [
    "# Test migrations"
   ]
  },
  {
   "cell_type": "code",
   "execution_count": null,
   "id": "33c2bb76-d61f-4866-87e2-780e61600022",
   "metadata": {},
   "outputs": [],
   "source": [
    "from lndb import init\n",
    "from lndb.test import migrate_clones\n",
    "from lndb.dev import setup_local_test_postgres"
   ]
  },
  {
   "cell_type": "markdown",
   "id": "119134fc-1362-4b6f-85e9-d65e5ab091cf",
   "metadata": {},
   "source": [
    "## SQLite"
   ]
  },
  {
   "cell_type": "code",
   "execution_count": null,
   "id": "f1f43b5a-59ca-419a-8ed1-9672f2ff2025",
   "metadata": {},
   "outputs": [],
   "source": [
    "migrate_clones(\"lnschema_core\", n_instances=1, dialect_name=\"sqlite\")"
   ]
  },
  {
   "cell_type": "markdown",
   "id": "e53c8996-73a1-4c5f-b54f-4ea9ea117702",
   "metadata": {},
   "source": [
    "## Postgres"
   ]
  },
  {
   "cell_type": "code",
   "execution_count": null,
   "id": "58c449e1-74e3-46b4-9361-343802fc1841",
   "metadata": {},
   "outputs": [],
   "source": [
    "migrate_clones(\"lnschema_core\", n_instances=1, dialect_name=\"postgresql\")"
   ]
  },
  {
   "cell_type": "markdown",
   "id": "4a6e77cd-d7a3-465e-9858-7a1838ac8c69",
   "metadata": {},
   "source": [
    "Here, we test that we can switch back from a postgres instance (to test `reload_orms`):"
   ]
  },
  {
   "cell_type": "code",
   "execution_count": null,
   "id": "9c825633",
   "metadata": {},
   "outputs": [],
   "source": [
    "pgurl = setup_local_test_postgres()"
   ]
  },
  {
   "cell_type": "code",
   "execution_count": null,
   "id": "8a4b67c7-2055-455e-b89b-d70360012feb",
   "metadata": {},
   "outputs": [],
   "source": [
    "init(storage=\"pgtest\")"
   ]
  },
  {
   "cell_type": "code",
   "execution_count": null,
   "id": "5582561d",
   "metadata": {},
   "outputs": [],
   "source": [
    "!docker stop pgtest && docker rm pgtest"
   ]
  }
 ],
 "metadata": {
  "kernelspec": {
   "display_name": "base",
   "language": "python",
   "name": "python3"
  },
  "language_info": {
   "codemirror_mode": {
    "name": "ipython",
    "version": 3
   },
   "file_extension": ".py",
   "mimetype": "text/x-python",
   "name": "python",
   "nbconvert_exporter": "python",
   "pygments_lexer": "ipython3",
   "version": "3.9.7 (default, Sep 16 2021, 08:50:36) \n[Clang 10.0.0 ]"
  },
  "vscode": {
   "interpreter": {
    "hash": "40d3a090f54c6569ab1632332b64b2c03c39dcf918b08424e98f38b5ae0af88f"
   }
  }
 },
 "nbformat": 4,
 "nbformat_minor": 5
}
