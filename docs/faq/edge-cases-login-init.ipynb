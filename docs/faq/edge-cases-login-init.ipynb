{
 "cells": [
  {
   "attachments": {},
   "cell_type": "markdown",
   "metadata": {},
   "source": [
    "# Edge cases for login, init, load"
   ]
  },
  {
   "cell_type": "code",
   "execution_count": null,
   "metadata": {},
   "outputs": [],
   "source": [
    "import lndb\n",
    "from lndb import settings\n",
    "from lndb._settings_store import (\n",
    "    current_instance_settings_file,\n",
    "    current_user_settings_file,\n",
    "    settings_dir,\n",
    ")\n",
    "from lndb._clone import setup_local_test_postgres\n",
    "from lndb._settings_store import instance_settings_file\n",
    "import nbproject\n",
    "import pytest\n",
    "\n",
    "nbproject.header()"
   ]
  },
  {
   "cell_type": "markdown",
   "metadata": {},
   "source": [
    "## Log in with in-sufficient information"
   ]
  },
  {
   "cell_type": "code",
   "execution_count": null,
   "metadata": {},
   "outputs": [],
   "source": [
    "with pytest.raises(TypeError):\n",
    "    lndb.login()"
   ]
  },
  {
   "cell_type": "markdown",
   "metadata": {},
   "source": [
    "If we add an email or handle it looks up the password from the stored env file (`lndb login testuser1@lamin.ai`):"
   ]
  },
  {
   "cell_type": "code",
   "execution_count": null,
   "metadata": {},
   "outputs": [],
   "source": [
    "lndb.login(\"testuser1@lamin.ai\")"
   ]
  },
  {
   "cell_type": "markdown",
   "metadata": {},
   "source": [
    "Now, let's start with a fresh environment without any user profiles stored."
   ]
  },
  {
   "cell_type": "code",
   "execution_count": null,
   "metadata": {},
   "outputs": [],
   "source": [
    "(settings_dir / f\"user-testuser1@lamin.ai.env\").unlink()\n",
    "(settings_dir / f\"user-testuser1.env\").unlink()\n",
    "current_user_settings_file().unlink()"
   ]
  },
  {
   "cell_type": "markdown",
   "metadata": {},
   "source": [
    "If we try to login with a handle at first login, this will error:"
   ]
  },
  {
   "cell_type": "code",
   "execution_count": null,
   "metadata": {},
   "outputs": [],
   "source": [
    "with pytest.raises(RuntimeError):\n",
    "    lndb.login(\"testuser1\", password=\"cEvcwMJFX4OwbsYVaMt2Os6GxxGgDUlBGILs2RyS\")"
   ]
  },
  {
   "cell_type": "markdown",
   "metadata": {},
   "source": [
    "If we try to login without password, this will error:"
   ]
  },
  {
   "cell_type": "code",
   "execution_count": null,
   "metadata": {},
   "outputs": [],
   "source": [
    "with pytest.raises(RuntimeError):\n",
    "    lndb.login(\"testuser1@lamin.ai\")"
   ]
  },
  {
   "cell_type": "markdown",
   "metadata": {},
   "source": [
    "If we try login with a wrong password, this will error:"
   ]
  },
  {
   "cell_type": "code",
   "execution_count": null,
   "metadata": {},
   "outputs": [],
   "source": [
    "result = lndb.login(\"testuser1@lamin.ai\", password=\"hello\")\n",
    "assert result == \"could-not-login\""
   ]
  },
  {
   "cell_type": "markdown",
   "metadata": {},
   "source": [
    "Hence, we need to login once with email and password:"
   ]
  },
  {
   "cell_type": "code",
   "execution_count": null,
   "metadata": {},
   "outputs": [],
   "source": [
    "result = lndb.login(\n",
    "    \"testuser1@lamin.ai\", password=\"cEvcwMJFX4OwbsYVaMt2Os6GxxGgDUlBGILs2RyS\"\n",
    ")\n",
    "assert result is None"
   ]
  },
  {
   "cell_type": "markdown",
   "metadata": {},
   "source": [
    "And now we can have the convenient login just with the handle."
   ]
  },
  {
   "cell_type": "code",
   "execution_count": null,
   "metadata": {},
   "outputs": [],
   "source": [
    "result = lndb.login(\"testuser1\")\n",
    "assert result is None"
   ]
  },
  {
   "cell_type": "markdown",
   "metadata": {},
   "source": [
    "## Configuration with insufficient information"
   ]
  },
  {
   "cell_type": "code",
   "execution_count": null,
   "metadata": {},
   "outputs": [],
   "source": [
    "current_instance_settings_file().unlink()"
   ]
  },
  {
   "cell_type": "code",
   "execution_count": null,
   "metadata": {},
   "outputs": [],
   "source": [
    "current_user_settings_file().unlink()"
   ]
  },
  {
   "attachments": {},
   "cell_type": "markdown",
   "metadata": {},
   "source": [
    "We'd also get an error about not being logged in if we try to init an instance without it being set:"
   ]
  },
  {
   "cell_type": "code",
   "execution_count": null,
   "metadata": {},
   "outputs": [],
   "source": [
    "with pytest.raises(ValueError):\n",
    "    lndb.init(storage=\"mydata\")"
   ]
  },
  {
   "cell_type": "markdown",
   "metadata": {},
   "source": [
    "Let's log in again."
   ]
  },
  {
   "cell_type": "code",
   "execution_count": null,
   "metadata": {},
   "outputs": [],
   "source": [
    "result = lndb.login(\"testuser1\")\n",
    "assert result is None"
   ]
  },
  {
   "cell_type": "markdown",
   "metadata": {},
   "source": [
    "Let's now try to init without providing storage (`lndb init`):"
   ]
  },
  {
   "cell_type": "code",
   "execution_count": null,
   "metadata": {},
   "outputs": [],
   "source": [
    "with pytest.raises(TypeError):\n",
    "    lndb.init()"
   ]
  },
  {
   "cell_type": "markdown",
   "metadata": {},
   "source": [
    "However, if we set a location (`lndb init --storage \"mydata\"`)"
   ]
  },
  {
   "cell_type": "code",
   "execution_count": null,
   "metadata": {},
   "outputs": [],
   "source": [
    "lndb.init(storage=\"mydata\")"
   ]
  },
  {
   "attachments": {},
   "cell_type": "markdown",
   "id": "6c4c2cf7",
   "metadata": {},
   "source": [
    "## Local instances can not be loaded via the hub"
   ]
  },
  {
   "attachments": {},
   "cell_type": "markdown",
   "id": "4219bcfa",
   "metadata": {},
   "source": [
    "It's not possible to load an instance from the hub if it has a local component, say, local storage."
   ]
  },
  {
   "cell_type": "code",
   "execution_count": null,
   "id": "39108ef1",
   "metadata": {},
   "outputs": [],
   "source": [
    "lndb.init(storage=\"local_storage_instance\")\n",
    "instance_settings_file(\"local_storage_instance\", \"testuser1\").unlink()"
   ]
  },
  {
   "cell_type": "code",
   "execution_count": null,
   "id": "f76e6f2c",
   "metadata": {},
   "outputs": [],
   "source": [
    "assert lndb.load(\"local_storage_instance\") == \"instance-not-exists\""
   ]
  },
  {
   "cell_type": "markdown",
   "id": "82d76b4a",
   "metadata": {},
   "source": [
    "It's not possible to load an instance from the hub if it's using a local db."
   ]
  },
  {
   "cell_type": "code",
   "execution_count": null,
   "id": "43781fcb-93eb-43ea-989d-357494cd1180",
   "metadata": {},
   "outputs": [],
   "source": [
    "pgurl = setup_local_test_postgres(\"pgtest_remote_storage\")"
   ]
  },
  {
   "cell_type": "code",
   "execution_count": null,
   "id": "bfab1cee",
   "metadata": {},
   "outputs": [],
   "source": [
    "lndb.init(\n",
    "    storage=\"s3://lndb-setup-ci-pgtest-remote\", db=pgurl, name=\"pgtest_remote_storage\"\n",
    ")\n",
    "instance_settings_file(\"pgtest_remote_storage\", \"testuser1\").unlink()"
   ]
  },
  {
   "cell_type": "code",
   "execution_count": null,
   "id": "acd0a7cb",
   "metadata": {},
   "outputs": [],
   "source": [
    "assert lndb.load(\"pgtest_remote_storage\") == \"instance-not-exists\""
   ]
  },
  {
   "cell_type": "code",
   "execution_count": null,
   "id": "e7aa43bb",
   "metadata": {
    "tags": [
     "hide-cell"
    ]
   },
   "outputs": [],
   "source": [
    "!docker stop pgtest_remote_storage && docker rm pgtest_remote_storage"
   ]
  },
  {
   "cell_type": "markdown",
   "metadata": {},
   "source": [
    "## Invalid command"
   ]
  },
  {
   "cell_type": "code",
   "execution_count": null,
   "metadata": {},
   "outputs": [],
   "source": [
    "!lndb invalid"
   ]
  }
 ],
 "metadata": {
  "kernelspec": {
   "display_name": "py39",
   "language": "python",
   "name": "python3"
  },
  "language_info": {
   "codemirror_mode": {
    "name": "ipython",
    "version": 3
   },
   "file_extension": ".py",
   "mimetype": "text/x-python",
   "name": "python",
   "nbconvert_exporter": "python",
   "pygments_lexer": "ipython3",
   "version": "3.9.15 (main, Nov 24 2022, 08:29:02) \n[Clang 14.0.6 ]"
  },
  "nbproject": {
   "id": "vLOmzd6d4Jow",
   "parent": null,
   "pypackage": null,
   "time_init": "2023-01-20T15:25:50.335298+00:00",
   "user_handle": "falexwolf",
   "user_id": "FBa7SHjn",
   "user_name": "Alex Wolf",
   "version": "0"
  },
  "vscode": {
   "interpreter": {
    "hash": "61b4062b24dfb1010f420dad5aa3bd73a4d2af47d0ec44eafec465a35a9d7239"
   }
  }
 },
 "nbformat": 4,
 "nbformat_minor": 4
}
