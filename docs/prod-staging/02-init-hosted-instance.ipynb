{
 "cells": [
  {
   "cell_type": "markdown",
   "metadata": {},
   "source": [
    "# Init hosted instance"
   ]
  },
  {
   "cell_type": "code",
   "execution_count": null,
   "metadata": {},
   "outputs": [],
   "source": [
    "import os\n",
    "import lamindb_setup as ln_setup\n",
    "from lamindb_setup.dev.upath import UPath\n",
    "import pytest\n",
    "\n",
    "\n",
    "if os.environ[\"LAMIN_ENV\"] == \"prod\":\n",
    "    with pytest.raises(ValueError) as error:\n",
    "        ln_setup.init(storage=\"create-s3\")\n",
    "    assert error.exconly() == \"ValueError: pass name to init if storage = 'create-s3'\"\n",
    "\n",
    "    ln_setup.init(name=\"my-hosted\", storage=\"create-s3\")\n",
    "    target_path = UPath(ln_setup.settings.storage.root / \"test_notebooks.py\")\n",
    "    target_path.upload_from(\"test_notebooks.py\")\n",
    "    target_path.exists()\n",
    "    ln_setup.settings.storage.root.view_tree()"
   ]
  }
 ],
 "metadata": {
  "kernelspec": {
   "display_name": "py310",
   "language": "python",
   "name": "python3"
  },
  "language_info": {
   "codemirror_mode": {
    "name": "ipython",
    "version": 3
   },
   "file_extension": ".py",
   "mimetype": "text/x-python",
   "name": "python",
   "nbconvert_exporter": "python",
   "pygments_lexer": "ipython3",
   "version": "3.10.13"
  }
 },
 "nbformat": 4,
 "nbformat_minor": 2
}
