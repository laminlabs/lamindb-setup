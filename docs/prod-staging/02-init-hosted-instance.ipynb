{
 "cells": [
  {
   "cell_type": "markdown",
   "metadata": {},
   "source": [
    "# Init hosted instance"
   ]
  },
  {
   "cell_type": "code",
   "execution_count": null,
   "metadata": {},
   "outputs": [],
   "source": [
    "import lamindb_setup as ln_setup\n",
    "import pytest"
   ]
  },
  {
   "cell_type": "code",
   "execution_count": null,
   "metadata": {},
   "outputs": [],
   "source": [
    "with pytest.raises(ValueError) as error:\n",
    "    ln_setup.init(storage=\"create-s3\")\n",
    "assert error.exconly() == \"ValueError: pass name to init if storage = 'create-s3'\""
   ]
  },
  {
   "cell_type": "code",
   "execution_count": null,
   "metadata": {},
   "outputs": [],
   "source": [
    "ln_setup.init(name=\"my-hosted\", storage=\"create-s3\")"
   ]
  },
  {
   "cell_type": "code",
   "execution_count": null,
   "metadata": {},
   "outputs": [],
   "source": [
    "!cat ~/.lamin/user--testuser2.env"
   ]
  },
  {
   "cell_type": "code",
   "execution_count": null,
   "metadata": {},
   "outputs": [],
   "source": [
    "!lamin info"
   ]
  },
  {
   "cell_type": "code",
   "execution_count": null,
   "metadata": {},
   "outputs": [],
   "source": [
    "from lamindb_setup.dev._hub_client import connect_hub_with_auth\n",
    "\n",
    "client = connect_hub_with_auth()"
   ]
  },
  {
   "cell_type": "code",
   "execution_count": null,
   "metadata": {},
   "outputs": [],
   "source": [
    "response = (\n",
    "    client.table(\"account_storage\")\n",
    "    .select(\"storage(root,region), role\")\n",
    "    .eq(\"account_id\", \"0969d757d1a04750888ab6fbbaba6103\")\n",
    "    .eq(\"storage.aws_account_id\", 767398070972)\n",
    "    .neq(\"storage\", None)\n",
    "    .execute()\n",
    ")\n",
    "response.data"
   ]
  },
  {
   "cell_type": "code",
   "execution_count": null,
   "metadata": {},
   "outputs": [],
   "source": [
    "response = (\n",
    "    client.table(\"account_storage\")\n",
    "    .select(\"storage(root,region), role\")\n",
    "    .eq(\"account_id\", \"0969d757d1a04750888ab6fbbaba6103\")\n",
    "    .execute()\n",
    ")\n",
    "response.data"
   ]
  },
  {
   "cell_type": "code",
   "execution_count": null,
   "metadata": {},
   "outputs": [],
   "source": [
    "from lamindb_setup.dev.upath import UPath"
   ]
  },
  {
   "cell_type": "code",
   "execution_count": null,
   "metadata": {},
   "outputs": [],
   "source": [
    "!echo $AWS_ACCESS_KEY_ID"
   ]
  },
  {
   "cell_type": "code",
   "execution_count": null,
   "metadata": {},
   "outputs": [],
   "source": [
    "!echo $AWS_SECRET_ACCESS_KEY"
   ]
  },
  {
   "cell_type": "code",
   "execution_count": null,
   "metadata": {},
   "outputs": [],
   "source": [
    "!echo $AWS_SESSION_TOKEN"
   ]
  },
  {
   "cell_type": "code",
   "execution_count": null,
   "metadata": {},
   "outputs": [],
   "source": [
    "!aws sts get-caller-identity"
   ]
  },
  {
   "cell_type": "code",
   "execution_count": null,
   "metadata": {},
   "outputs": [],
   "source": [
    "from lamindb_setup.dev.upath import UPath"
   ]
  },
  {
   "cell_type": "code",
   "execution_count": null,
   "metadata": {},
   "outputs": [],
   "source": [
    "UPath(\"s3://lamin-hosted-eu-central-1/PLQwyqzM/test_notebooks.py\").download(\"hello.py\")"
   ]
  },
  {
   "cell_type": "code",
   "execution_count": null,
   "metadata": {},
   "outputs": [],
   "source": [
    "UPath(\"s3://lamin-hosted-eu-central-1/PLQwyqzM/test_notebooks.py\").get(\"hello.py\")"
   ]
  },
  {
   "cell_type": "code",
   "execution_count": null,
   "metadata": {},
   "outputs": [],
   "source": [
    "UPath(\"s3://lamin-hosted-eu-central-1/PLQwyqzM/hello.py\").fs.get_file(\n",
    "    \"s3://lamin-hosted-eu-central-1/PLQwyqzM/hello.py\", \"hello.py\"\n",
    ")"
   ]
  },
  {
   "cell_type": "code",
   "execution_count": null,
   "metadata": {},
   "outputs": [],
   "source": [
    "!aws s3 ls s3://lamin-hosted-eu-central-1/PLQwyqzM"
   ]
  },
  {
   "cell_type": "code",
   "execution_count": null,
   "metadata": {},
   "outputs": [],
   "source": [
    "from lamindb_setup.dev._hub_core import delete_storage\n",
    "from lamindb_setup.dev._settings_storage import StorageSettings\n",
    "from uuid import UUID"
   ]
  },
  {
   "cell_type": "code",
   "execution_count": null,
   "metadata": {},
   "outputs": [],
   "source": [
    "delete_storage(\n",
    "    StorageSettings(\n",
    "        root=\"s3://lamin-eu-central-1/TDqypnOJ\",\n",
    "        uuid=UUID(\"9718c113-aab9-5cb8-af71-9b262c4155b8\"),\n",
    "    )\n",
    ")"
   ]
  }
 ],
 "metadata": {
  "kernelspec": {
   "display_name": "py310",
   "language": "python",
   "name": "python3"
  },
  "language_info": {
   "codemirror_mode": {
    "name": "ipython",
    "version": 3
   },
   "file_extension": ".py",
   "mimetype": "text/x-python",
   "name": "python",
   "nbconvert_exporter": "python",
   "pygments_lexer": "ipython3",
   "version": "3.10.13"
  }
 },
 "nbformat": 4,
 "nbformat_minor": 2
}
