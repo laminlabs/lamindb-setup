{
 "cells": [
  {
   "cell_type": "markdown",
   "metadata": {},
   "source": [
    "# Init hosted instance"
   ]
  },
  {
   "cell_type": "code",
   "execution_count": null,
   "metadata": {},
   "outputs": [],
   "source": [
    "!lamin login testuser1"
   ]
  },
  {
   "cell_type": "code",
   "execution_count": null,
   "metadata": {},
   "outputs": [],
   "source": [
    "import os\n",
    "import lamindb_setup as ln_setup\n",
    "from lamindb_setup.dev._hub_client import call_with_fallback_auth\n",
    "from lamindb_setup.dev.upath import UPath\n",
    "from lamindb_setup.dev._hub_crud import select_instance_by_owner_name\n",
    "from lamindb_setup.dev._hub_core import delete_storage, delete_instance\n",
    "from uuid import UUID\n",
    "import pytest"
   ]
  },
  {
   "cell_type": "code",
   "execution_count": null,
   "metadata": {},
   "outputs": [],
   "source": [
    "instance_name = \"my-hosted\"\n",
    "assert ln_setup.settings.user.handle == \"testuser1\""
   ]
  },
  {
   "cell_type": "code",
   "execution_count": null,
   "metadata": {},
   "outputs": [],
   "source": [
    "instance_account = call_with_fallback_auth(\n",
    "    select_instance_by_owner_name,\n",
    "    owner=ln_setup.settings.user.handle,\n",
    "    name=instance_name,\n",
    ")\n",
    "if instance_account is not None:\n",
    "    account = instance_account.pop(\"account\")\n",
    "    instance = instance_account\n",
    "if instance is not None:\n",
    "    delete_instance(UUID(instance[\"id\"]))\n",
    "    delete_storage(UUID(instance[\"storage_id\"]))"
   ]
  },
  {
   "cell_type": "code",
   "execution_count": null,
   "metadata": {},
   "outputs": [],
   "source": [
    "target_path = UPath(ln_setup.settings.storage.root / \"test_notebooks.py\")\n",
    "target_path.upload_from(\"test_notebooks.py\")\n",
    "target_path.exists()\n",
    "ln_setup.settings.storage.root.view_tree()"
   ]
  }
 ],
 "metadata": {
  "kernelspec": {
   "display_name": "py310",
   "language": "python",
   "name": "python3"
  },
  "language_info": {
   "codemirror_mode": {
    "name": "ipython",
    "version": 3
   },
   "file_extension": ".py",
   "mimetype": "text/x-python",
   "name": "python",
   "nbconvert_exporter": "python",
   "pygments_lexer": "ipython3",
   "version": "3.10.13"
  }
 },
 "nbformat": 4,
 "nbformat_minor": 2
}
