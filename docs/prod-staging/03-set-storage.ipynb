{
 "cells": [
  {
   "cell_type": "markdown",
   "id": "b43d09d5-26d3-440d-b334-9643ec5248e6",
   "metadata": {
    "tags": []
   },
   "source": [
    "# Set storage"
   ]
  },
  {
   "cell_type": "code",
   "execution_count": null,
   "id": "6422b64e",
   "metadata": {
    "tags": [
     "hide-cell"
    ]
   },
   "outputs": [],
   "source": [
    "!lamin close\n",
    "!yes | lamin delete pgtest"
   ]
  },
  {
   "cell_type": "code",
   "execution_count": null,
   "id": "33c2bb76-d61f-4866-87e2-780e61600022",
   "metadata": {},
   "outputs": [],
   "source": [
    "import lamindb_setup as ln_setup"
   ]
  },
  {
   "cell_type": "markdown",
   "id": "a7cf42fb",
   "metadata": {},
   "source": [
    "## Set storage"
   ]
  },
  {
   "cell_type": "code",
   "execution_count": null,
   "id": "8fd59ad3-04b9-42fb-83cc-ab7beedbec72",
   "metadata": {
    "tags": [
     "hide-cell"
    ]
   },
   "outputs": [],
   "source": [
    "import laminci\n",
    "\n",
    "!docker stop pgtest && docker rm pgtest\n",
    "pgurl = laminci.db.setup_local_test_postgres()"
   ]
  },
  {
   "cell_type": "code",
   "execution_count": null,
   "id": "d6b0bd5e",
   "metadata": {},
   "outputs": [],
   "source": [
    "ln_setup.init(storage=\"./storage1\", db=pgurl)"
   ]
  },
  {
   "cell_type": "code",
   "execution_count": null,
   "id": "63392da0",
   "metadata": {},
   "outputs": [],
   "source": [
    "ln_setup.settings.storage.root"
   ]
  },
  {
   "cell_type": "markdown",
   "id": "e6638f44",
   "metadata": {},
   "source": [
    "Local storage:"
   ]
  },
  {
   "cell_type": "code",
   "execution_count": null,
   "id": "49b9ef11",
   "metadata": {},
   "outputs": [],
   "source": [
    "ln_setup.set.storage(\"./storage_2\")  # CLI: lamin set --storage ./storage_2"
   ]
  },
  {
   "cell_type": "code",
   "execution_count": null,
   "id": "47b1f038",
   "metadata": {},
   "outputs": [],
   "source": [
    "ln_setup.settings.storage.root"
   ]
  },
  {
   "cell_type": "code",
   "execution_count": null,
   "id": "8e481aa0",
   "metadata": {
    "tags": [
     "hide-cell"
    ]
   },
   "outputs": [],
   "source": [
    "from pathlib import Path\n",
    "\n",
    "assert ln_setup.settings.storage.root_as_str == f\"{Path.cwd()}/storage_2\""
   ]
  },
  {
   "cell_type": "markdown",
   "id": "de1c12b8",
   "metadata": {},
   "source": [
    "Cloud storage:"
   ]
  },
  {
   "cell_type": "code",
   "execution_count": null,
   "id": "8436575d",
   "metadata": {},
   "outputs": [],
   "source": [
    "ln_setup.set.storage(\"s3://lndb-setup-ci\")  # lamin set --storage s3://lndb-setup-ci"
   ]
  },
  {
   "cell_type": "code",
   "execution_count": null,
   "id": "af069899",
   "metadata": {},
   "outputs": [],
   "source": [
    "ln_setup.settings.storage.root"
   ]
  },
  {
   "cell_type": "markdown",
   "id": "859a972e",
   "metadata": {},
   "source": [
    "See an overview:"
   ]
  },
  {
   "cell_type": "code",
   "execution_count": null,
   "id": "d2934990",
   "metadata": {
    "tags": [
     "hide-cell"
    ]
   },
   "outputs": [],
   "source": [
    "assert ln_setup.settings.storage.is_cloud\n",
    "assert ln_setup.settings.storage.root_as_str == \"s3://lndb-setup-ci\"\n",
    "assert ln_setup.settings.storage.region == \"us-east-1\"\n",
    "# root.fs contains the underlying fsspec filesystem\n",
    "assert (\n",
    "    ln_setup.settings.storage.root.fs.cache_regions  # set by lamindb to True for s3 by default\n",
    ")"
   ]
  },
  {
   "cell_type": "markdown",
   "id": "ae953b6a",
   "metadata": {},
   "source": [
    "You can set any additional `fsspec` filesystem arguments for cloud storage, such as `profile` or `cache_regions` (for s3 only), for example:"
   ]
  },
  {
   "cell_type": "code",
   "execution_count": null,
   "id": "f9294082",
   "metadata": {},
   "outputs": [],
   "source": [
    "ln_setup.set.storage(\"s3://lndb-setup-ci\", cache_regions=False)"
   ]
  },
  {
   "cell_type": "code",
   "execution_count": null,
   "id": "d6915638-db49-4d3d-bd91-819bb4719ef7",
   "metadata": {
    "tags": [
     "hide-cell"
    ]
   },
   "outputs": [],
   "source": [
    "# test cache_regions\n",
    "assert not ln_setup.settings.storage.root.fs.cache_regions\n",
    "# test setting storage not by owner\n",
    "ln_setup.login(\n",
    "    \"testuser2@lamin.ai\", password=\"goeoNJKE61ygbz1vhaCVynGERaRrlviPBVQsjkhz\"\n",
    ")\n",
    "ln_setup.set.storage(\"./storage_3\")\n",
    "assert ln_setup.settings.storage.root_as_str == f\"{Path.cwd()}/storage_3\"\n",
    "!docker stop pgtest && docker rm pgtest"
   ]
  },
  {
   "cell_type": "markdown",
   "id": "3fb6a223",
   "metadata": {
    "tags": []
   },
   "source": [
    "### Currently not possible: setting storage for SQLite instance"
   ]
  },
  {
   "cell_type": "markdown",
   "id": "6ccb6573",
   "metadata": {},
   "source": [
    "If you try to set the storage for an sqlite instance, an error message is returned:\n",
    "```\n",
    "assert ln_setup.set.storage(\"mydata_storage_2\") == \"set-storage-failed\"\n",
    "```"
   ]
  }
 ],
 "metadata": {
  "kernelspec": {
   "display_name": "Python 3 (ipykernel)",
   "language": "python",
   "name": "python3"
  },
  "language_info": {
   "codemirror_mode": {
    "name": "ipython",
    "version": 3
   },
   "file_extension": ".py",
   "mimetype": "text/x-python",
   "name": "python",
   "nbconvert_exporter": "python",
   "pygments_lexer": "ipython3",
   "version": "3.9.12"
  },
  "vscode": {
   "interpreter": {
    "hash": "61b4062b24dfb1010f420dad5aa3bd73a4d2af47d0ec44eafec465a35a9d7239"
   }
  }
 },
 "nbformat": 4,
 "nbformat_minor": 5
}
